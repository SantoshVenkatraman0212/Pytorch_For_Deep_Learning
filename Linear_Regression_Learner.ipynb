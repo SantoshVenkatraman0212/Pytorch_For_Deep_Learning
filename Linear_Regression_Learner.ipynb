{
 "cells": [
  {
   "cell_type": "code",
   "id": "initial_id",
   "metadata": {
    "collapsed": true,
    "ExecuteTime": {
     "end_time": "2024-08-10T00:19:07.716479Z",
     "start_time": "2024-08-10T00:19:07.065075Z"
    }
   },
   "source": [
    "#Necessary libraries \n",
    "import torch\n",
    "import torch.nn as nn\n",
    "import matplotlib.pyplot as plt\n",
    "import numpy as np"
   ],
   "outputs": [],
   "execution_count": 1
  },
  {
   "metadata": {
    "ExecuteTime": {
     "end_time": "2024-08-10T00:19:07.721051Z",
     "start_time": "2024-08-10T00:19:07.717487Z"
    }
   },
   "cell_type": "code",
   "source": "torch.__version__",
   "id": "3c403daaf6db6e2b",
   "outputs": [
    {
     "data": {
      "text/plain": [
       "'2.3.1+cu118'"
      ]
     },
     "execution_count": 2,
     "metadata": {},
     "output_type": "execute_result"
    }
   ],
   "execution_count": 2
  },
  {
   "metadata": {
    "ExecuteTime": {
     "end_time": "2024-08-10T00:19:07.747956Z",
     "start_time": "2024-08-10T00:19:07.721573Z"
    }
   },
   "cell_type": "code",
   "source": [
    "#Model parameters\n",
    "weights = 0.7\n",
    "bias = 0.3\n",
    "#Data Creation\n",
    "start = 0\n",
    "end = 1\n",
    "step = 0.02\n",
    "X = torch.arange(start, end, step).unsqueeze(dim = 1)\n",
    "y = X * weights + bias"
   ],
   "id": "5df7d5139091df65",
   "outputs": [],
   "execution_count": 3
  },
  {
   "metadata": {
    "ExecuteTime": {
     "end_time": "2024-08-10T00:19:07.764698Z",
     "start_time": "2024-08-10T00:19:07.749640Z"
    }
   },
   "cell_type": "code",
   "source": "X[: 10], y[: 10]",
   "id": "750334fdaeb21cd6",
   "outputs": [
    {
     "data": {
      "text/plain": [
       "(tensor([[0.0000],\n",
       "         [0.0200],\n",
       "         [0.0400],\n",
       "         [0.0600],\n",
       "         [0.0800],\n",
       "         [0.1000],\n",
       "         [0.1200],\n",
       "         [0.1400],\n",
       "         [0.1600],\n",
       "         [0.1800]]),\n",
       " tensor([[0.3000],\n",
       "         [0.3140],\n",
       "         [0.3280],\n",
       "         [0.3420],\n",
       "         [0.3560],\n",
       "         [0.3700],\n",
       "         [0.3840],\n",
       "         [0.3980],\n",
       "         [0.4120],\n",
       "         [0.4260]]))"
      ]
     },
     "execution_count": 4,
     "metadata": {},
     "output_type": "execute_result"
    }
   ],
   "execution_count": 4
  },
  {
   "metadata": {},
   "cell_type": "markdown",
   "source": "**Splitting the dataset into train and test sets**",
   "id": "6211f95fe05263ed"
  },
  {
   "metadata": {
    "ExecuteTime": {
     "end_time": "2024-08-10T00:19:07.780323Z",
     "start_time": "2024-08-10T00:19:07.765468Z"
    }
   },
   "cell_type": "code",
   "source": [
    "train_split = int(0.8 * len(X))\n",
    "X_train, y_train = X[: train_split], y[: train_split]\n",
    "X_test, y_test  = X[train_split: ], y[train_split: ]\n",
    "len(X_train), len(y_train), len(X_test), len(y_test)"
   ],
   "id": "c11556ee6adac69c",
   "outputs": [
    {
     "data": {
      "text/plain": [
       "(40, 40, 10, 10)"
      ]
     },
     "execution_count": 5,
     "metadata": {},
     "output_type": "execute_result"
    }
   ],
   "execution_count": 5
  },
  {
   "metadata": {
    "ExecuteTime": {
     "end_time": "2024-08-10T00:19:07.794867Z",
     "start_time": "2024-08-10T00:19:07.781421Z"
    }
   },
   "cell_type": "code",
   "source": [
    "#Plotting the predictions\n",
    "def plot_predictions(train_data, train_labels, test_data, test_labels, predictions = None):\n",
    "    plt.figure(figsize = (10, 7))\n",
    "    plt.scatter(train_data, train_labels, c = 'b', s = 4, label = 'Train set')\n",
    "    plt.scatter(test_data, test_labels, c = 'g', s = 4, label = 'Test set')\n",
    "    if predictions is not None:\n",
    "        plt.scatter(test_data, predictions, c = 'r', s = 4, label = 'Predictions')\n",
    "    plt.legend()"
   ],
   "id": "7b87675b4ffc6cab",
   "outputs": [],
   "execution_count": 6
  },
  {
   "metadata": {
    "ExecuteTime": {
     "end_time": "2024-08-10T00:19:07.916910Z",
     "start_time": "2024-08-10T00:19:07.795516Z"
    }
   },
   "cell_type": "code",
   "source": "plot_predictions(X_train, y_train, X_test, y_test)",
   "id": "d613f1d6400f9ea",
   "outputs": [
    {
     "data": {
      "text/plain": [
       "<Figure size 1000x700 with 1 Axes>"
      ],
      "image/png": "[encoded data removed]"
     },
     "metadata": {},
     "output_type": "display_data"
    }
   ],
   "execution_count": 7
  },
  {
   "metadata": {},
   "cell_type": "markdown",
   "source": "**Model Building**",
   "id": "a7d23fa2d53a6929"
  },
  {
   "metadata": {
    "ExecuteTime": {
     "end_time": "2024-08-10T00:19:07.920409Z",
     "start_time": "2024-08-10T00:19:07.917723Z"
    }
   },
   "cell_type": "code",
   "source": [
    "#Linear Regression\n",
    "class LinearRegression(nn.Module):\n",
    "    def __init__(self):\n",
    "        super().__init__()\n",
    "        self.weights = nn.Parameter(torch.randn(1, dtype = torch.float32))\n",
    "        self.bias = nn.Parameter(torch.randn(1, dtype = torch.float32))\n",
    "    #Forward Pass function\n",
    "    def forward(self, x : torch.Tensor) -> torch.Tensor:\n",
    "        return x * self.weights + self.bias"
   ],
   "id": "b8775f6a3fec4817",
   "outputs": [],
   "execution_count": 8
  },
  {
   "metadata": {},
   "cell_type": "markdown",
   "source": "**Checking the model contents**",
   "id": "cc191d9120be54d0"
  },
  {
   "metadata": {
    "ExecuteTime": {
     "end_time": "2024-08-10T00:19:07.937255Z",
     "start_time": "2024-08-10T00:19:07.921043Z"
    }
   },
   "cell_type": "code",
   "source": [
    "#Setting seed for reproducibility\n",
    "torch.manual_seed(42)\n",
    "model_0 = LinearRegression()\n",
    "model_0"
   ],
   "id": "b486611062062ca",
   "outputs": [
    {
     "data": {
      "text/plain": [
       "LinearRegression()"
      ]
     },
     "execution_count": 9,
     "metadata": {},
     "output_type": "execute_result"
    }
   ],
   "execution_count": 9
  },
  {
   "metadata": {
    "ExecuteTime": {
     "end_time": "2024-08-10T00:19:07.960890Z",
     "start_time": "2024-08-10T00:19:07.938792Z"
    }
   },
   "cell_type": "code",
   "source": [
    "#Checking model parameters\n",
    "model_0.parameters()"
   ],
   "id": "16f4350ee11ceb78",
   "outputs": [
    {
     "data": {
      "text/plain": [
       "<generator object Module.parameters at 0x77f1c79f4740>"
      ]
     },
     "execution_count": 10,
     "metadata": {},
     "output_type": "execute_result"
    }
   ],
   "execution_count": 10
  },
  {
   "metadata": {
    "ExecuteTime": {
     "end_time": "2024-08-10T00:19:07.977461Z",
     "start_time": "2024-08-10T00:19:07.961950Z"
    }
   },
   "cell_type": "code",
   "source": "list(model_0.parameters())",
   "id": "fb37f208f7f8d178",
   "outputs": [
    {
     "data": {
      "text/plain": [
       "[Parameter containing:\n",
       " tensor([0.3367], requires_grad=True),\n",
       " Parameter containing:\n",
       " tensor([0.1288], requires_grad=True)]"
      ]
     },
     "execution_count": 11,
     "metadata": {},
     "output_type": "execute_result"
    }
   ],
   "execution_count": 11
  },
  {
   "metadata": {
    "ExecuteTime": {
     "end_time": "2024-08-10T00:19:07.993323Z",
     "start_time": "2024-08-10T00:19:07.978558Z"
    }
   },
   "cell_type": "code",
   "source": [
    "#Model parameter names and their values\n",
    "model_0.state_dict()"
   ],
   "id": "4bdc7c978e71e428",
   "outputs": [
    {
     "data": {
      "text/plain": [
       "OrderedDict([('weights', tensor([0.3367])), ('bias', tensor([0.1288]))])"
      ]
     },
     "execution_count": 12,
     "metadata": {},
     "output_type": "execute_result"
    }
   ],
   "execution_count": 12
  },
  {
   "metadata": {},
   "cell_type": "markdown",
   "source": "**Checking model predictions using torch.inference_mode(). This makes the model go through the forward pass**",
   "id": "2118342d75f534dc"
  },
  {
   "metadata": {
    "ExecuteTime": {
     "end_time": "2024-08-10T00:19:08.006177Z",
     "start_time": "2024-08-10T00:19:07.994485Z"
    }
   },
   "cell_type": "code",
   "source": [
    "with torch.inference_mode():\n",
    "    y_preds = model_0(X_test)"
   ],
   "id": "cc70337ba3038214",
   "outputs": [],
   "execution_count": 13
  },
  {
   "metadata": {
    "ExecuteTime": {
     "end_time": "2024-08-10T00:19:08.022315Z",
     "start_time": "2024-08-10T00:19:08.007179Z"
    }
   },
   "cell_type": "code",
   "source": "y_preds",
   "id": "3682b5c866db6bb0",
   "outputs": [
    {
     "data": {
      "text/plain": [
       "tensor([[0.3982],\n",
       "        [0.4049],\n",
       "        [0.4116],\n",
       "        [0.4184],\n",
       "        [0.4251],\n",
       "        [0.4318],\n",
       "        [0.4386],\n",
       "        [0.4453],\n",
       "        [0.4520],\n",
       "        [0.4588]])"
      ]
     },
     "execution_count": 14,
     "metadata": {},
     "output_type": "execute_result"
    }
   ],
   "execution_count": 14
  },
  {
   "metadata": {
    "ExecuteTime": {
     "end_time": "2024-08-10T00:19:08.153136Z",
     "start_time": "2024-08-10T00:19:08.023030Z"
    }
   },
   "cell_type": "code",
   "source": "plot_predictions(X_train, y_train, X_test, y_test, y_preds)",
   "id": "9f1e335b38304535",
   "outputs": [
    {
     "data": {
      "text/plain": [
       "<Figure size 1000x700 with 1 Axes>"
      ],
      "image/png": "[encoded data removed]"
     },
     "metadata": {},
     "output_type": "display_data"
    }
   ],
   "execution_count": 15
  },
  {
   "metadata": {},
   "cell_type": "markdown",
   "source": "**Setting up Optimizer and Loss function for model training**",
   "id": "f163c4034ed36d3a"
  },
  {
   "metadata": {},
   "cell_type": "markdown",
   "source": "**Note: Loss function computes how wrong the model predictions are. Optimizers are the functions that adjust the model parameters to reduce that loss**",
   "id": "2179fb8522b8970"
  },
  {
   "metadata": {},
   "cell_type": "markdown",
   "source": "**L1 Loss: Mean Absolute Error**",
   "id": "533a37d0db950c1d"
  },
  {
   "metadata": {
    "ExecuteTime": {
     "end_time": "2024-08-10T00:19:08.467433Z",
     "start_time": "2024-08-10T00:19:08.154136Z"
    }
   },
   "cell_type": "code",
   "source": [
    "#Setting up Loss function\n",
    "loss_fn = nn.L1Loss()\n",
    "#Setting up optimizer (Stochastic Gradient Descent)\n",
    "#Optimizer has to take in model parameters as argument\n",
    "#Learning rate is also required (One of the most important hyperparameters)\n",
    "opt_fn = torch.optim.Adam(params = model_0.parameters(), lr = 0.01)"
   ],
   "id": "c267f5df4fb1f854",
   "outputs": [],
   "execution_count": 16
  },
  {
   "metadata": {},
   "cell_type": "markdown",
   "source": [
    "**Building a training and a testing loop in PyTorch**\n",
    "\n",
    "0. Loop through the data\n",
    "1. Forward pass (Involves the data moving through the function forward ())\n",
    "2. Compute the loss (Comparison of forward pass predictions and the true values)\n",
    "3. Optimizer zero grad\n",
    "4. Loss backward - move backwards through the network to compute gradients of each parameter of the model with respect to the loss\n",
    "5. Optimizer step - Using optimizer to adjust model parameters via gradient descent"
   ],
   "id": "679c83c31b53cda5"
  },
  {
   "metadata": {
    "ExecuteTime": {
     "end_time": "2024-08-10T00:19:08.541731Z",
     "start_time": "2024-08-10T00:19:08.468358Z"
    }
   },
   "cell_type": "code",
   "source": [
    "#Setting up looping parameters\n",
    "Epochs = []\n",
    "training_loss = []\n",
    "Test_Loss = []\n",
    "torch.manual_seed(42)\n",
    "epochs = 100\n",
    "for epoch in range (epochs):\n",
    "    #Setting the model to training mode\n",
    "    model_0.train() # Train mode in PyTorch Set; Sets all the model parameters to requires_grad = True\n",
    "    #Forward Pass after setting the model to training mode\n",
    "    y_pred = model_0(X_train)\n",
    "    #Loss\n",
    "    loss = loss_fn(y_pred, y_train)\n",
    "    print(f'Loss: {loss}')\n",
    "    #Optimizer\n",
    "    opt_fn.zero_grad() # This ensures that the optimizer goes to 0 after the completion of every epoch\n",
    "    #Backpropagation\n",
    "    loss.backward() # Backpropagation\n",
    "    #Step the optimizer\n",
    "    opt_fn.step() #Performs gradient descent\n",
    "    #Testing\n",
    "    model_0.eval() # Turns off gradient tracking\n",
    "    with torch.inference_mode():\n",
    "        #Forward Pass\n",
    "        test_pred = model_0(X_test)\n",
    "        #Compute Test Loss\n",
    "        test_loss = loss_fn(test_pred, y_test)\n",
    "    if(epoch % 10 == 0): # Checking the metrics for every 10 epochs\n",
    "        Epochs.append(epoch)\n",
    "        training_loss.append(loss)\n",
    "        Test_Loss.append(test_loss)\n",
    "        print(f'Epoch: {epoch}, Loss: {loss}, Test Loss: {test_loss}')\n",
    "        print(model_0.state_dict())"
   ],
   "id": "424412ed74294b51",
   "outputs": [
    {
     "name": "stdout",
     "output_type": "stream",
     "text": [
      "Loss: 0.31288138031959534\n",
      "Epoch: 0, Loss: 0.31288138031959534, Test Loss: 0.47563618421554565\n",
      "OrderedDict([('weights', tensor([0.3467])), ('bias', tensor([0.1388]))])\n",
      "Loss: 0.29898133873939514\n",
      "Loss: 0.28508132696151733\n",
      "Loss: 0.2711813449859619\n",
      "Loss: 0.2572813332080841\n",
      "Loss: 0.2433813512325287\n",
      "Loss: 0.22948133945465088\n",
      "Loss: 0.21558134257793427\n",
      "Loss: 0.20168134570121765\n",
      "Loss: 0.18778134882450104\n",
      "Loss: 0.17388132214546204\n",
      "Epoch: 10, Loss: 0.17388132214546204, Test Loss: 0.2866361737251282\n",
      "OrderedDict([('weights', tensor([0.4467])), ('bias', tensor([0.2388]))])\n",
      "Loss: 0.15998134016990662\n",
      "Loss: 0.1460813283920288\n",
      "Loss: 0.1321813315153122\n",
      "Loss: 0.11828134208917618\n",
      "Loss: 0.10438136011362076\n",
      "Loss: 0.09048136323690414\n",
      "Loss: 0.07658137381076813\n",
      "Loss: 0.06345288455486298\n",
      "Loss: 0.051896534860134125\n",
      "Loss: 0.042198795825242996\n",
      "Epoch: 20, Loss: 0.042198795825242996, Test Loss: 0.0987466350197792\n",
      "OrderedDict([('weights', tensor([0.5466])), ('bias', tensor([0.3378]))])\n",
      "Loss: 0.03463803231716156\n",
      "Loss: 0.02947370707988739\n",
      "Loss: 0.026887917891144753\n",
      "Loss: 0.026886994019150734\n",
      "Loss: 0.029275041073560715\n",
      "Loss: 0.03341194987297058\n",
      "Loss: 0.03821286931633949\n",
      "Loss: 0.042151737958192825\n",
      "Loss: 0.04409855231642723\n",
      "Loss: 0.044207725673913956\n",
      "Epoch: 30, Loss: 0.044207725673913956, Test Loss: 0.005456471350044012\n",
      "OrderedDict([('weights', tensor([0.6069])), ('bias', tensor([0.3790]))])\n",
      "Loss: 0.04269247502088547\n",
      "Loss: 0.03973929211497307\n",
      "Loss: 0.03560928255319595\n",
      "Loss: 0.03138422966003418\n",
      "Loss: 0.027755435556173325\n",
      "Loss: 0.025042256340384483\n",
      "Loss: 0.0233253575861454\n",
      "Loss: 0.022502493113279343\n",
      "Loss: 0.02235237881541252\n",
      "Loss: 0.02264046110212803\n",
      "Epoch: 40, Loss: 0.02264046110212803, Test Loss: 0.0635034516453743\n",
      "OrderedDict([('weights', tensor([0.5870])), ('bias', tensor([0.3370]))])\n",
      "Loss: 0.023137930780649185\n",
      "Loss: 0.0235992930829525\n",
      "Loss: 0.023901548236608505\n",
      "Loss: 0.023897875100374222\n",
      "Loss: 0.02351686730980873\n",
      "Loss: 0.022750496864318848\n",
      "Loss: 0.021631404757499695\n",
      "Loss: 0.02023867890238762\n",
      "Loss: 0.018676312640309334\n",
      "Loss: 0.017085570842027664\n",
      "Epoch: 50, Loss: 0.017085570842027664, Test Loss: 0.04095946624875069\n",
      "OrderedDict([('weights', tensor([0.6223])), ('bias', tensor([0.3282]))])\n",
      "Loss: 0.015601828694343567\n",
      "Loss: 0.014375993981957436\n",
      "Loss: 0.01348801888525486\n",
      "Loss: 0.01294869463890791\n",
      "Loss: 0.012695064768195152\n",
      "Loss: 0.012517794966697693\n",
      "Loss: 0.01216353103518486\n",
      "Loss: 0.011382095515727997\n",
      "Loss: 0.01015380583703518\n",
      "Loss: 0.008707192726433277\n",
      "Epoch: 60, Loss: 0.008707192726433277, Test Loss: 0.013333350419998169\n",
      "OrderedDict([('weights', tensor([0.6657])), ('bias', tensor([0.3172]))])\n",
      "Loss: 0.007387441582977772\n",
      "Loss: 0.0064750248566269875\n",
      "Loss: 0.006001093424856663\n",
      "Loss: 0.00574517110362649\n",
      "Loss: 0.005334018263965845\n",
      "Loss: 0.004457713570445776\n",
      "Loss: 0.0030156834982335567\n",
      "Loss: 0.0015048265922814608\n",
      "Loss: 0.0023962489794939756\n",
      "Loss: 0.0023070916067808867\n",
      "Epoch: 70, Loss: 0.0023070916067808867, Test Loss: 0.0023451626766473055\n",
      "OrderedDict([('weights', tensor([0.7042])), ('bias', tensor([0.2986]))])\n",
      "Loss: 0.0008542798459529877\n",
      "Loss: 0.0021528862416744232\n",
      "Loss: 0.002405751496553421\n",
      "Loss: 0.002179036382585764\n",
      "Loss: 0.0025185830891132355\n",
      "Loss: 0.002889698836952448\n",
      "Loss: 0.0029181824065744877\n",
      "Loss: 0.0026330507826060057\n",
      "Loss: 0.002332989126443863\n",
      "Loss: 0.002246101852506399\n",
      "Epoch: 80, Loss: 0.002246101852506399, Test Loss: 0.0020259260199964046\n",
      "OrderedDict([('weights', tensor([0.7078])), ('bias', tensor([0.2951]))])\n",
      "Loss: 0.002136971103027463\n",
      "Loss: 0.0015557862352579832\n",
      "Loss: 0.001102545065805316\n",
      "Loss: 0.0009951196843758225\n",
      "Loss: 0.0001605004072189331\n",
      "Loss: 0.001640250557102263\n",
      "Loss: 0.0013426803052425385\n",
      "Loss: 0.0012114867568016052\n",
      "Loss: 0.0019661509431898594\n",
      "Loss: 0.0018262766534462571\n",
      "Epoch: 90, Loss: 0.0018262766534462571, Test Loss: 0.0037562549114227295\n",
      "OrderedDict([('weights', tensor([0.6919])), ('bias', tensor([0.3035]))])\n",
      "Loss: 0.0016339973080903292\n",
      "Loss: 0.0018155903089791536\n",
      "Loss: 0.0017738647293299437\n",
      "Loss: 0.0013337567215785384\n",
      "Loss: 0.0010529980063438416\n",
      "Loss: 0.0010550037259235978\n",
      "Loss: 0.0007971629383973777\n",
      "Loss: 0.0004501938819885254\n",
      "Loss: 0.001926463097333908\n"
     ]
    }
   ],
   "execution_count": 17
  },
  {
   "metadata": {},
   "cell_type": "markdown",
   "source": "**Note: There are 2 modes for PyTorch models, train and eval mode**",
   "id": "ab7a5b6408f58f68"
  },
  {
   "metadata": {},
   "cell_type": "markdown",
   "source": "**Running the training loop epoch by epoch**",
   "id": "dfe49d5990f89c9e"
  },
  {
   "metadata": {
    "ExecuteTime": {
     "end_time": "2024-08-10T00:19:08.546155Z",
     "start_time": "2024-08-10T00:19:08.542701Z"
    }
   },
   "cell_type": "code",
   "source": "list(model_0.parameters())",
   "id": "f2fe3991f654bfb4",
   "outputs": [
    {
     "data": {
      "text/plain": [
       "[Parameter containing:\n",
       " tensor([0.7037], requires_grad=True),\n",
       " Parameter containing:\n",
       " tensor([0.3006], requires_grad=True)]"
      ]
     },
     "execution_count": 18,
     "metadata": {},
     "output_type": "execute_result"
    }
   ],
   "execution_count": 18
  },
  {
   "metadata": {
    "ExecuteTime": {
     "end_time": "2024-08-10T00:19:08.562342Z",
     "start_time": "2024-08-10T00:19:08.546679Z"
    }
   },
   "cell_type": "code",
   "source": "weights",
   "id": "abbcf0def69a37de",
   "outputs": [
    {
     "data": {
      "text/plain": [
       "0.7"
      ]
     },
     "execution_count": 19,
     "metadata": {},
     "output_type": "execute_result"
    }
   ],
   "execution_count": 19
  },
  {
   "metadata": {
    "ExecuteTime": {
     "end_time": "2024-08-10T00:19:08.577836Z",
     "start_time": "2024-08-10T00:19:08.563127Z"
    }
   },
   "cell_type": "code",
   "source": "bias",
   "id": "929046daa8cf8a3c",
   "outputs": [
    {
     "data": {
      "text/plain": [
       "0.3"
      ]
     },
     "execution_count": 20,
     "metadata": {},
     "output_type": "execute_result"
    }
   ],
   "execution_count": 20
  },
  {
   "metadata": {
    "ExecuteTime": {
     "end_time": "2024-08-10T00:19:08.706037Z",
     "start_time": "2024-08-10T00:19:08.578772Z"
    }
   },
   "cell_type": "code",
   "source": [
    "with torch.inference_mode():\n",
    "    y_preds_new = model_0(X_test)\n",
    "\n",
    "plot_predictions(X_train, y_train, X_test, y_test, y_preds_new)"
   ],
   "id": "11c9f1b099d8ee39",
   "outputs": [
    {
     "data": {
      "text/plain": [
       "<Figure size 1000x700 with 1 Axes>"
      ],
      "image/png": "[encoded data removed]"
     },
     "metadata": {},
     "output_type": "display_data"
    }
   ],
   "execution_count": 21
  },
  {
   "metadata": {
    "ExecuteTime": {
     "end_time": "2024-08-10T00:19:08.713329Z",
     "start_time": "2024-08-10T00:19:08.707028Z"
    }
   },
   "cell_type": "code",
   "source": "Epochs, training_loss, Test_Loss",
   "id": "5b6608dd3e407b8b",
   "outputs": [
    {
     "data": {
      "text/plain": [
       "([0, 10, 20, 30, 40, 50, 60, 70, 80, 90],\n",
       " [tensor(0.3129, grad_fn=<MeanBackward0>),\n",
       "  tensor(0.1739, grad_fn=<MeanBackward0>),\n",
       "  tensor(0.0422, grad_fn=<MeanBackward0>),\n",
       "  tensor(0.0442, grad_fn=<MeanBackward0>),\n",
       "  tensor(0.0226, grad_fn=<MeanBackward0>),\n",
       "  tensor(0.0171, grad_fn=<MeanBackward0>),\n",
       "  tensor(0.0087, grad_fn=<MeanBackward0>),\n",
       "  tensor(0.0023, grad_fn=<MeanBackward0>),\n",
       "  tensor(0.0022, grad_fn=<MeanBackward0>),\n",
       "  tensor(0.0018, grad_fn=<MeanBackward0>)],\n",
       " [tensor(0.4756),\n",
       "  tensor(0.2866),\n",
       "  tensor(0.0987),\n",
       "  tensor(0.0055),\n",
       "  tensor(0.0635),\n",
       "  tensor(0.0410),\n",
       "  tensor(0.0133),\n",
       "  tensor(0.0023),\n",
       "  tensor(0.0020),\n",
       "  tensor(0.0038)])"
      ]
     },
     "execution_count": 22,
     "metadata": {},
     "output_type": "execute_result"
    }
   ],
   "execution_count": 22
  },
  {
   "metadata": {
    "ExecuteTime": {
     "end_time": "2024-08-10T00:19:08.807430Z",
     "start_time": "2024-08-10T00:19:08.713868Z"
    }
   },
   "cell_type": "code",
   "source": [
    "#Plotting loss Curves\n",
    "plt.plot(Epochs, np.array(torch.tensor(training_loss).numpy()), label = 'Training Loss')\n",
    "plt.plot(Epochs, np.array(torch.tensor(Test_Loss).numpy()), label = 'Test Loss')\n",
    "plt.title('Training and Test Loss')\n",
    "plt.legend()"
   ],
   "id": "a72125cd2772e64a",
   "outputs": [
    {
     "data": {
      "text/plain": [
       "<matplotlib.legend.Legend at 0x77f15f96ef80>"
      ]
     },
     "execution_count": 23,
     "metadata": {},
     "output_type": "execute_result"
    },
    {
     "data": {
      "text/plain": [
       "<Figure size 640x480 with 1 Axes>"
      ],
      "image/png": "[encoded data removed]"
     },
     "metadata": {},
     "output_type": "display_data"
    }
   ],
   "execution_count": 23
  },
  {
   "metadata": {},
   "cell_type": "markdown",
   "source": [
    "**Saving a PyTorch model**\n",
    "\n",
    "3 methods of saving a PyTorch model:\n",
    "1. **torch.save()**: Saves the model as a .pickle file\n",
    "2. **torch.load()**: Can be used to load a saved PyTorch model\n",
    "3. **torch.nn.Module.load_state_dict()**: used for loading model's saved state dictionary "
   ],
   "id": "8dfe63cef3023834"
  },
  {
   "metadata": {
    "ExecuteTime": {
     "end_time": "2024-08-10T00:33:37.680038Z",
     "start_time": "2024-08-10T00:33:37.676374Z"
    }
   },
   "cell_type": "code",
   "source": [
    "#Saving PyTorch model\n",
    "#Importing Path from pathlib class for saving and model handling\n",
    "from pathlib import Path\n",
    "#Creating model directory\n",
    "MODEL_PATH = Path('Models')\n",
    "MODEL_PATH.mkdir(parents = True, exist_ok = True)\n",
    "#Model Save Path\n",
    "MODEL_NAME = 'Vanilla_Linear_Regression.pth'\n",
    "MODEL_SAVE_PATH = MODEL_PATH / MODEL_NAME\n",
    "#Saving the model state\n",
    "print(f'Saving model to {MODEL_SAVE_PATH}')\n",
    "torch.save(obj = model_0.state_dict(), f = MODEL_SAVE_PATH)"
   ],
   "id": "bef7df7919e15bc3",
   "outputs": [
    {
     "name": "stdout",
     "output_type": "stream",
     "text": [
      "Saving model to Models/Vanilla_Linear_Regression.pth\n"
     ]
    }
   ],
   "execution_count": 24
  },
  {
   "metadata": {
    "ExecuteTime": {
     "end_time": "2024-08-10T00:34:14.196273Z",
     "start_time": "2024-08-10T00:34:14.074998Z"
    }
   },
   "cell_type": "code",
   "source": "!ls -l Models",
   "id": "111e5ee2bb59c07d",
   "outputs": [
    {
     "name": "stdout",
     "output_type": "stream",
     "text": [
      "total 4\r\n",
      "-rw-rw-r-- 1 sanven0212 sanven0212 1668 Aug  9 20:33 Vanilla_Linear_Regression.pth\r\n"
     ]
    }
   ],
   "execution_count": 25
  },
  {
   "metadata": {},
   "cell_type": "markdown",
   "source": [
    "**Loading the saved model.**\n",
    "\n",
    "Since, we saved the model's state_dict() and not the entire model, a new model class instance has to be created"
   ],
   "id": "b1110d6eb96fb5b"
  },
  {
   "metadata": {
    "ExecuteTime": {
     "end_time": "2024-08-10T00:40:58.966482Z",
     "start_time": "2024-08-10T00:40:58.962145Z"
    }
   },
   "cell_type": "code",
   "source": [
    "loaded_model_0 = LinearRegression()\n",
    "#A class instance has to be created and the class instance.load_state_dict(torch.save(path)) loads the saved model's state_dict into the new instance\n",
    "loaded_model_0.load_state_dict(torch.load(MODEL_SAVE_PATH))"
   ],
   "id": "5d1950289cc885ee",
   "outputs": [
    {
     "data": {
      "text/plain": [
       "<All keys matched successfully>"
      ]
     },
     "execution_count": 28,
     "metadata": {},
     "output_type": "execute_result"
    }
   ],
   "execution_count": 28
  },
  {
   "metadata": {
    "ExecuteTime": {
     "end_time": "2024-08-10T00:41:50.982906Z",
     "start_time": "2024-08-10T00:41:50.980442Z"
    }
   },
   "cell_type": "code",
   "source": [
    "loaded_model_0.eval()\n",
    "with torch.inference_mode():\n",
    "    y_pred_loaded = loaded_model_0(X_test)"
   ],
   "id": "9d850abfad16c7fc",
   "outputs": [],
   "execution_count": 29
  },
  {
   "metadata": {
    "ExecuteTime": {
     "end_time": "2024-08-10T00:42:15.135021Z",
     "start_time": "2024-08-10T00:42:15.131437Z"
    }
   },
   "cell_type": "code",
   "source": "y_pred_loaded == y_preds_new",
   "id": "bbdf60913e80efda",
   "outputs": [
    {
     "data": {
      "text/plain": [
       "tensor([[True],\n",
       "        [True],\n",
       "        [True],\n",
       "        [True],\n",
       "        [True],\n",
       "        [True],\n",
       "        [True],\n",
       "        [True],\n",
       "        [True],\n",
       "        [True]])"
      ]
     },
     "execution_count": 30,
     "metadata": {},
     "output_type": "execute_result"
    }
   ],
   "execution_count": 30
  },
  {
   "metadata": {},
   "cell_type": "markdown",
   "source": "**Setting up device agnostic code**",
   "id": "1ba966c85290909d"
  },
  {
   "metadata": {
    "ExecuteTime": {
     "end_time": "2024-08-10T01:02:29.827374Z",
     "start_time": "2024-08-10T01:02:29.822464Z"
    }
   },
   "cell_type": "code",
   "source": [
    "#Another way of implementing linear regression model\n",
    "class LinearRegressionV2(nn.Module):\n",
    "    def __init__(self):\n",
    "        super().__init__()\n",
    "        #Using nn Linear layer instead of model parameters\n",
    "        #Takes in an input of size 1 and an output of size 1\n",
    "        self.linear_layer = nn.Linear(in_features = 1, out_features = 1)\n",
    "    def forward(self, x : torch.Tensor) -> torch.Tensor:\n",
    "        return self.linear_layer(x) #linear layer does the operation x * A.T + b which is the linear regression formula itself"
   ],
   "id": "eb115d4ccc6ad577",
   "outputs": [],
   "execution_count": 33
  },
  {
   "metadata": {
    "ExecuteTime": {
     "end_time": "2024-08-10T01:02:30.238227Z",
     "start_time": "2024-08-10T01:02:30.231175Z"
    }
   },
   "cell_type": "code",
   "source": [
    "torch.manual_seed(42)\n",
    "model_0v2 = LinearRegressionV2()\n",
    "model_0v2.state_dict()"
   ],
   "id": "a33fe7dec5454163",
   "outputs": [
    {
     "data": {
      "text/plain": [
       "OrderedDict([('linear_layer.weight', tensor([[0.7645]])),\n",
       "             ('linear_layer.bias', tensor([0.8300]))])"
      ]
     },
     "execution_count": 34,
     "metadata": {},
     "output_type": "execute_result"
    }
   ],
   "execution_count": 34
  },
  {
   "metadata": {
    "ExecuteTime": {
     "end_time": "2024-08-10T01:04:16.089436Z",
     "start_time": "2024-08-10T01:04:16.026812Z"
    }
   },
   "cell_type": "code",
   "source": [
    "#The model can be sent to the GPU memory Using:\n",
    "device = 'cuda' if torch.cuda.is_available() else 'cpu'\n",
    "model_0v2.to(device)"
   ],
   "id": "24f1aa7b0f1cf419",
   "outputs": [
    {
     "data": {
      "text/plain": [
       "LinearRegressionV2(\n",
       "  (linear_layer): Linear(in_features=1, out_features=1, bias=True)\n",
       ")"
      ]
     },
     "execution_count": 35,
     "metadata": {},
     "output_type": "execute_result"
    }
   ],
   "execution_count": 35
  },
  {
   "metadata": {},
   "cell_type": "code",
   "outputs": [],
   "execution_count": null,
   "source": "",
   "id": "b0a994b1b1e069cb"
  }
 ],
 "metadata": {
  "kernelspec": {
   "display_name": "Python 3",
   "language": "python",
   "name": "python3"
  },
  "language_info": {
   "codemirror_mode": {
    "name": "ipython",
    "version": 2
   },
   "file_extension": ".py",
   "mimetype": "text/x-python",
   "name": "python",
   "nbconvert_exporter": "python",
   "pygments_lexer": "ipython2",
   "version": "2.7.6"
  }
 },
 "nbformat": 4,
 "nbformat_minor": 5
}
