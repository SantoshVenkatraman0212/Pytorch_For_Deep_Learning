{
 "cells": [
  {
   "cell_type": "code",
   "id": "initial_id",
   "metadata": {
    "collapsed": true,
    "ExecuteTime": {
     "end_time": "2024-08-10T02:26:24.412126Z",
     "start_time": "2024-08-10T02:26:23.813966Z"
    }
   },
   "source": [
    "#Importing necessary Libraries\n",
    "import numpy as np\n",
    "import matplotlib.pyplot as plt\n",
    "import torch\n",
    "import torch.nn as nn"
   ],
   "outputs": [],
   "execution_count": 1
  },
  {
   "metadata": {},
   "cell_type": "markdown",
   "source": [
    "**Create a straight line dataset using the linear regression formula (weight * X + bias).**\n",
    "\n",
    "**1. Set weight=0.3 and bias=0.9 there should be at least 100 datapoints total.**\n",
    "\n",
    "**2. Split the data into 80% training, 20% testing.**\n",
    "\n",
    "**3. Plot the training and testing data so it becomes visual.**"
   ],
   "id": "3d294419017eb442"
  },
  {
   "metadata": {
    "ExecuteTime": {
     "end_time": "2024-08-10T02:26:24.415578Z",
     "start_time": "2024-08-10T02:26:24.413233Z"
    }
   },
   "cell_type": "code",
   "source": [
    "weight = 0.3\n",
    "bias = 0.9\n",
    "X = torch.arange(start = 0, end = 1000, step = 1, dtype = torch.float32).unsqueeze(dim = 1)\n",
    "y = weight * X + bias"
   ],
   "id": "35ba1545d2c31e56",
   "outputs": [],
   "execution_count": 2
  },
  {
   "metadata": {
    "ExecuteTime": {
     "end_time": "2024-08-10T02:26:24.441216Z",
     "start_time": "2024-08-10T02:26:24.416052Z"
    }
   },
   "cell_type": "code",
   "source": [
    "train_split = int(0.8 * len(X))\n",
    "X_train, y_train = X[: train_split], y[: train_split]\n",
    "X_test, y_test = X[train_split: ], y[train_split: ]"
   ],
   "id": "61f4476b596bfe9b",
   "outputs": [],
   "execution_count": 3
  },
  {
   "metadata": {
    "ExecuteTime": {
     "end_time": "2024-08-10T02:26:24.457912Z",
     "start_time": "2024-08-10T02:26:24.443838Z"
    }
   },
   "cell_type": "code",
   "source": [
    "def plot_data(train_data, train_output, test_data, test_output, predictions = None):\n",
    "    plt.scatter(train_data, train_output, c = 'b', s = 4, label = 'Training Data')\n",
    "    plt.scatter(test_data, test_output, c = 'g', s = 4, label = 'Test data')\n",
    "    if predictions is not None:\n",
    "        plt.scatter(test_data, predictions, c = 'r', s = 4, label = 'Predictions')\n",
    "    plt.legend()"
   ],
   "id": "d4b6a5dd154208f4",
   "outputs": [],
   "execution_count": 4
  },
  {
   "metadata": {
    "ExecuteTime": {
     "end_time": "2024-08-10T02:26:24.586939Z",
     "start_time": "2024-08-10T02:26:24.459402Z"
    }
   },
   "cell_type": "code",
   "source": "plot_data(X_train, y_train, X_test, y_test)",
   "id": "cfffb12ffeb0b0c2",
   "outputs": [
    {
     "data": {
      "text/plain": [
       "<Figure size 640x480 with 1 Axes>"
      ],
      "image/png": "[encoded data removed]"
     },
     "metadata": {},
     "output_type": "display_data"
    }
   ],
   "execution_count": 5
  },
  {
   "metadata": {
    "ExecuteTime": {
     "end_time": "2024-08-10T02:26:24.621904Z",
     "start_time": "2024-08-10T02:26:24.588032Z"
    }
   },
   "cell_type": "code",
   "source": [
    "#Making the data device agnostic\n",
    "device = 'cuda' if torch.cuda.is_available() else 'cpu'"
   ],
   "id": "b35c95c4e22a4aee",
   "outputs": [],
   "execution_count": 6
  },
  {
   "metadata": {
    "ExecuteTime": {
     "end_time": "2024-08-10T02:26:24.648427Z",
     "start_time": "2024-08-10T02:26:24.622622Z"
    }
   },
   "cell_type": "code",
   "source": "device",
   "id": "c5233bc49ee0880e",
   "outputs": [
    {
     "data": {
      "text/plain": [
       "'cuda'"
      ]
     },
     "execution_count": 7,
     "metadata": {},
     "output_type": "execute_result"
    }
   ],
   "execution_count": 7
  },
  {
   "metadata": {
    "ExecuteTime": {
     "end_time": "2024-08-10T02:26:24.664690Z",
     "start_time": "2024-08-10T02:26:24.649525Z"
    }
   },
   "cell_type": "code",
   "source": "torch.cuda.is_available()",
   "id": "f07360af921f38c7",
   "outputs": [
    {
     "data": {
      "text/plain": [
       "True"
      ]
     },
     "execution_count": 8,
     "metadata": {},
     "output_type": "execute_result"
    }
   ],
   "execution_count": 8
  },
  {
   "metadata": {
    "ExecuteTime": {
     "end_time": "2024-08-10T02:26:24.751645Z",
     "start_time": "2024-08-10T02:26:24.665393Z"
    }
   },
   "cell_type": "code",
   "source": [
    "X_train = X_train.to(device)\n",
    "y_train = y_train.to(device)\n",
    "X_test = X_test.to(device)\n",
    "y_test = y_test.to(device)"
   ],
   "id": "9a1e38d8740b3705",
   "outputs": [],
   "execution_count": 9
  },
  {
   "metadata": {},
   "cell_type": "markdown",
   "source": [
    "**Build a PyTorch model by subclassing nn.Module.**\n",
    "\n",
    "**1. Inside should be a randomly initialized nn.Parameter() with requires_grad=True, one for weights and one for bias.**\n",
    "\n",
    "**2. Implement the forward() method to compute the linear regression function you used to create the dataset in 1.**\n",
    "\n",
    "**3. Once you've constructed the model, make an instance of it and check its state_dict().**\n",
    "\n",
    "**Note: If you'd like to use nn.Linear() instead of nn.Parameter() you can.**"
   ],
   "id": "e1630cdaaf17950f"
  },
  {
   "metadata": {
    "ExecuteTime": {
     "end_time": "2024-08-10T02:26:24.755956Z",
     "start_time": "2024-08-10T02:26:24.753033Z"
    }
   },
   "cell_type": "code",
   "source": [
    "#Model Building\n",
    "class LinearRegressionEx(nn.Module):\n",
    "    def __init__(self):\n",
    "        super().__init__()\n",
    "        self.linear_layer = nn.Linear(in_features = 1, out_features = 1)\n",
    "    def forward(self, x: torch.Tensor) -> torch.Tensor:\n",
    "        return self.linear_layer(x)     "
   ],
   "id": "adf492737182a1e3",
   "outputs": [],
   "execution_count": 10
  },
  {
   "metadata": {
    "ExecuteTime": {
     "end_time": "2024-08-10T02:26:24.777720Z",
     "start_time": "2024-08-10T02:26:24.756498Z"
    }
   },
   "cell_type": "code",
   "source": [
    "#Creating a model instance\n",
    "model = LinearRegressionEx()"
   ],
   "id": "7d4ecc1739eadc43",
   "outputs": [],
   "execution_count": 11
  },
  {
   "metadata": {
    "ExecuteTime": {
     "end_time": "2024-08-10T02:26:24.797077Z",
     "start_time": "2024-08-10T02:26:24.779422Z"
    }
   },
   "cell_type": "code",
   "source": "model.state_dict()",
   "id": "66da3a6f944db23e",
   "outputs": [
    {
     "data": {
      "text/plain": [
       "OrderedDict([('linear_layer.weight', tensor([[-0.5826]])),\n",
       "             ('linear_layer.bias', tensor([0.1231]))])"
      ]
     },
     "execution_count": 12,
     "metadata": {},
     "output_type": "execute_result"
    }
   ],
   "execution_count": 12
  },
  {
   "metadata": {},
   "cell_type": "markdown",
   "source": [
    "**Create a loss function and optimizer using nn.L1Loss() and torch.optim.SGD(params, lr) respectively.**\n",
    "\n",
    "**1. Set the learning rate of the optimizer to be 0.01 and the parameters to optimize should be the model parameters from the model you created in 2.**\n",
    "\n",
    "**2. Write a training loop to perform the appropriate training steps for 300 epochs.**\n",
    "\n",
    "**The training loop should test the model on the test dataset every 20 epochs.**"
   ],
   "id": "39152eb17db6f935"
  },
  {
   "metadata": {
    "ExecuteTime": {
     "end_time": "2024-08-10T02:26:25.106323Z",
     "start_time": "2024-08-10T02:26:24.798543Z"
    }
   },
   "cell_type": "code",
   "source": [
    "loss_fn = nn.L1Loss()\n",
    "opt_fn = torch.optim.Adam(params = model.parameters(), lr = 0.01)"
   ],
   "id": "c1024bb241298ca9",
   "outputs": [],
   "execution_count": 13
  },
  {
   "metadata": {
    "ExecuteTime": {
     "end_time": "2024-08-10T02:26:25.110609Z",
     "start_time": "2024-08-10T02:26:25.107108Z"
    }
   },
   "cell_type": "code",
   "source": "X_train.device, y_train.device, X_test.device, y_test.device",
   "id": "36f8fa9ade7f4755",
   "outputs": [
    {
     "data": {
      "text/plain": [
       "(device(type='cuda', index=0),\n",
       " device(type='cuda', index=0),\n",
       " device(type='cuda', index=0),\n",
       " device(type='cuda', index=0))"
      ]
     },
     "execution_count": 14,
     "metadata": {},
     "output_type": "execute_result"
    }
   ],
   "execution_count": 14
  },
  {
   "metadata": {
    "ExecuteTime": {
     "end_time": "2024-08-10T02:26:25.136715Z",
     "start_time": "2024-08-10T02:26:25.111253Z"
    }
   },
   "cell_type": "code",
   "source": [
    "#Moving the model to GPU\n",
    "model.to(device)"
   ],
   "id": "262812b9245ffc69",
   "outputs": [
    {
     "data": {
      "text/plain": [
       "LinearRegressionEx(\n",
       "  (linear_layer): Linear(in_features=1, out_features=1, bias=True)\n",
       ")"
      ]
     },
     "execution_count": 15,
     "metadata": {},
     "output_type": "execute_result"
    }
   ],
   "execution_count": 15
  },
  {
   "metadata": {
    "ExecuteTime": {
     "end_time": "2024-08-10T02:26:25.552331Z",
     "start_time": "2024-08-10T02:26:25.138011Z"
    }
   },
   "cell_type": "code",
   "source": [
    "#Training loop\n",
    "train_loss_log = []\n",
    "test_loss_log = []\n",
    "epoch_count = []\n",
    "epochs = 300\n",
    "for i in range(epochs):\n",
    "    #model set to train mode\n",
    "    model.train()\n",
    "    #forward pass\n",
    "    train_pred = model(X_train)\n",
    "    #Loss \n",
    "    train_loss = loss_fn(train_pred, y_train)\n",
    "    # Optimizer reset\n",
    "    opt_fn.zero_grad()\n",
    "    #backpropagation\n",
    "    train_loss.backward()\n",
    "    #Stepping the optimizer\n",
    "    opt_fn.step()\n",
    "    print(f'Epoch: {i} | Train Loss: {train_loss} | Model Parameters: {model.state_dict()}')\n",
    "    epoch_count.append(i + 1)\n",
    "    train_loss_log.append(train_loss)\n",
    "    #Setting the model to eval mode\n",
    "    model.eval()\n",
    "    with torch.inference_mode():\n",
    "        #Forward test pass\n",
    "        test_pred = model(X_test)\n",
    "        #Test Loss\n",
    "        test_loss = loss_fn(test_pred, y_test)\n",
    "        if(i % 20 == 0):\n",
    "            test_loss_log.append(test_loss)\n",
    "            print(f'Test Loss: {test_loss}')"
   ],
   "id": "316c1ffc76f07f27",
   "outputs": [
    {
     "name": "stdout",
     "output_type": "stream",
     "text": [
      "Epoch: 0 | Train Loss: 353.36248779296875 | Model Parameters: OrderedDict([('linear_layer.weight', tensor([[-0.5726]], device='cuda:0')), ('linear_layer.bias', tensor([0.1331], device='cuda:0'))])\n",
      "Test Loss: 785.6412353515625\n",
      "Epoch: 1 | Train Loss: 349.35748291015625 | Model Parameters: OrderedDict([('linear_layer.weight', tensor([[-0.5626]], device='cuda:0')), ('linear_layer.bias', tensor([0.1431], device='cuda:0'))])\n",
      "Epoch: 2 | Train Loss: 345.35247802734375 | Model Parameters: OrderedDict([('linear_layer.weight', tensor([[-0.5526]], device='cuda:0')), ('linear_layer.bias', tensor([0.1531], device='cuda:0'))])\n",
      "Epoch: 3 | Train Loss: 341.3475036621094 | Model Parameters: OrderedDict([('linear_layer.weight', tensor([[-0.5426]], device='cuda:0')), ('linear_layer.bias', tensor([0.1631], device='cuda:0'))])\n",
      "Epoch: 4 | Train Loss: 337.3424987792969 | Model Parameters: OrderedDict([('linear_layer.weight', tensor([[-0.5326]], device='cuda:0')), ('linear_layer.bias', tensor([0.1731], device='cuda:0'))])\n",
      "Epoch: 5 | Train Loss: 333.33758544921875 | Model Parameters: OrderedDict([('linear_layer.weight', tensor([[-0.5226]], device='cuda:0')), ('linear_layer.bias', tensor([0.1831], device='cuda:0'))])\n",
      "Epoch: 6 | Train Loss: 329.33258056640625 | Model Parameters: OrderedDict([('linear_layer.weight', tensor([[-0.5126]], device='cuda:0')), ('linear_layer.bias', tensor([0.1931], device='cuda:0'))])\n",
      "Epoch: 7 | Train Loss: 325.3275451660156 | Model Parameters: OrderedDict([('linear_layer.weight', tensor([[-0.5026]], device='cuda:0')), ('linear_layer.bias', tensor([0.2031], device='cuda:0'))])\n",
      "Epoch: 8 | Train Loss: 321.3225402832031 | Model Parameters: OrderedDict([('linear_layer.weight', tensor([[-0.4926]], device='cuda:0')), ('linear_layer.bias', tensor([0.2131], device='cuda:0'))])\n",
      "Epoch: 9 | Train Loss: 317.31756591796875 | Model Parameters: OrderedDict([('linear_layer.weight', tensor([[-0.4826]], device='cuda:0')), ('linear_layer.bias', tensor([0.2231], device='cuda:0'))])\n",
      "Epoch: 10 | Train Loss: 313.31256103515625 | Model Parameters: OrderedDict([('linear_layer.weight', tensor([[-0.4726]], device='cuda:0')), ('linear_layer.bias', tensor([0.2331], device='cuda:0'))])\n",
      "Epoch: 11 | Train Loss: 309.30755615234375 | Model Parameters: OrderedDict([('linear_layer.weight', tensor([[-0.4626]], device='cuda:0')), ('linear_layer.bias', tensor([0.2431], device='cuda:0'))])\n",
      "Epoch: 12 | Train Loss: 305.3025817871094 | Model Parameters: OrderedDict([('linear_layer.weight', tensor([[-0.4526]], device='cuda:0')), ('linear_layer.bias', tensor([0.2531], device='cuda:0'))])\n",
      "Epoch: 13 | Train Loss: 301.2975769042969 | Model Parameters: OrderedDict([('linear_layer.weight', tensor([[-0.4426]], device='cuda:0')), ('linear_layer.bias', tensor([0.2631], device='cuda:0'))])\n",
      "Epoch: 14 | Train Loss: 297.2925720214844 | Model Parameters: OrderedDict([('linear_layer.weight', tensor([[-0.4326]], device='cuda:0')), ('linear_layer.bias', tensor([0.2731], device='cuda:0'))])\n",
      "Epoch: 15 | Train Loss: 293.2875671386719 | Model Parameters: OrderedDict([('linear_layer.weight', tensor([[-0.4226]], device='cuda:0')), ('linear_layer.bias', tensor([0.2831], device='cuda:0'))])\n",
      "Epoch: 16 | Train Loss: 289.2825622558594 | Model Parameters: OrderedDict([('linear_layer.weight', tensor([[-0.4126]], device='cuda:0')), ('linear_layer.bias', tensor([0.2931], device='cuda:0'))])\n",
      "Epoch: 17 | Train Loss: 285.277587890625 | Model Parameters: OrderedDict([('linear_layer.weight', tensor([[-0.4026]], device='cuda:0')), ('linear_layer.bias', tensor([0.3031], device='cuda:0'))])\n",
      "Epoch: 18 | Train Loss: 281.2725830078125 | Model Parameters: OrderedDict([('linear_layer.weight', tensor([[-0.3926]], device='cuda:0')), ('linear_layer.bias', tensor([0.3131], device='cuda:0'))])\n",
      "Epoch: 19 | Train Loss: 277.267578125 | Model Parameters: OrderedDict([('linear_layer.weight', tensor([[-0.3826]], device='cuda:0')), ('linear_layer.bias', tensor([0.3231], device='cuda:0'))])\n",
      "Epoch: 20 | Train Loss: 273.2626037597656 | Model Parameters: OrderedDict([('linear_layer.weight', tensor([[-0.3726]], device='cuda:0')), ('linear_layer.bias', tensor([0.3331], device='cuda:0'))])\n",
      "Test Loss: 605.5413818359375\n",
      "Epoch: 21 | Train Loss: 269.2575988769531 | Model Parameters: OrderedDict([('linear_layer.weight', tensor([[-0.3626]], device='cuda:0')), ('linear_layer.bias', tensor([0.3431], device='cuda:0'))])\n",
      "Epoch: 22 | Train Loss: 265.25262451171875 | Model Parameters: OrderedDict([('linear_layer.weight', tensor([[-0.3526]], device='cuda:0')), ('linear_layer.bias', tensor([0.3531], device='cuda:0'))])\n",
      "Epoch: 23 | Train Loss: 261.24761962890625 | Model Parameters: OrderedDict([('linear_layer.weight', tensor([[-0.3426]], device='cuda:0')), ('linear_layer.bias', tensor([0.3631], device='cuda:0'))])\n",
      "Epoch: 24 | Train Loss: 257.24261474609375 | Model Parameters: OrderedDict([('linear_layer.weight', tensor([[-0.3326]], device='cuda:0')), ('linear_layer.bias', tensor([0.3731], device='cuda:0'))])\n",
      "Epoch: 25 | Train Loss: 253.23760986328125 | Model Parameters: OrderedDict([('linear_layer.weight', tensor([[-0.3226]], device='cuda:0')), ('linear_layer.bias', tensor([0.3831], device='cuda:0'))])\n",
      "Epoch: 26 | Train Loss: 249.23260498046875 | Model Parameters: OrderedDict([('linear_layer.weight', tensor([[-0.3126]], device='cuda:0')), ('linear_layer.bias', tensor([0.3931], device='cuda:0'))])\n",
      "Epoch: 27 | Train Loss: 245.22763061523438 | Model Parameters: OrderedDict([('linear_layer.weight', tensor([[-0.3026]], device='cuda:0')), ('linear_layer.bias', tensor([0.4031], device='cuda:0'))])\n",
      "Epoch: 28 | Train Loss: 241.22262573242188 | Model Parameters: OrderedDict([('linear_layer.weight', tensor([[-0.2926]], device='cuda:0')), ('linear_layer.bias', tensor([0.4131], device='cuda:0'))])\n",
      "Epoch: 29 | Train Loss: 237.2176055908203 | Model Parameters: OrderedDict([('linear_layer.weight', tensor([[-0.2826]], device='cuda:0')), ('linear_layer.bias', tensor([0.4231], device='cuda:0'))])\n",
      "Epoch: 30 | Train Loss: 233.21263122558594 | Model Parameters: OrderedDict([('linear_layer.weight', tensor([[-0.2726]], device='cuda:0')), ('linear_layer.bias', tensor([0.4331], device='cuda:0'))])\n",
      "Epoch: 31 | Train Loss: 229.20765686035156 | Model Parameters: OrderedDict([('linear_layer.weight', tensor([[-0.2626]], device='cuda:0')), ('linear_layer.bias', tensor([0.4431], device='cuda:0'))])\n",
      "Epoch: 32 | Train Loss: 225.20265197753906 | Model Parameters: OrderedDict([('linear_layer.weight', tensor([[-0.2526]], device='cuda:0')), ('linear_layer.bias', tensor([0.4531], device='cuda:0'))])\n",
      "Epoch: 33 | Train Loss: 221.19764709472656 | Model Parameters: OrderedDict([('linear_layer.weight', tensor([[-0.2426]], device='cuda:0')), ('linear_layer.bias', tensor([0.4631], device='cuda:0'))])\n",
      "Epoch: 34 | Train Loss: 217.19265747070312 | Model Parameters: OrderedDict([('linear_layer.weight', tensor([[-0.2326]], device='cuda:0')), ('linear_layer.bias', tensor([0.4731], device='cuda:0'))])\n",
      "Epoch: 35 | Train Loss: 213.18765258789062 | Model Parameters: OrderedDict([('linear_layer.weight', tensor([[-0.2226]], device='cuda:0')), ('linear_layer.bias', tensor([0.4831], device='cuda:0'))])\n",
      "Epoch: 36 | Train Loss: 209.18264770507812 | Model Parameters: OrderedDict([('linear_layer.weight', tensor([[-0.2126]], device='cuda:0')), ('linear_layer.bias', tensor([0.4931], device='cuda:0'))])\n",
      "Epoch: 37 | Train Loss: 205.1776580810547 | Model Parameters: OrderedDict([('linear_layer.weight', tensor([[-0.2026]], device='cuda:0')), ('linear_layer.bias', tensor([0.5031], device='cuda:0'))])\n",
      "Epoch: 38 | Train Loss: 201.1726531982422 | Model Parameters: OrderedDict([('linear_layer.weight', tensor([[-0.1926]], device='cuda:0')), ('linear_layer.bias', tensor([0.5131], device='cuda:0'))])\n",
      "Epoch: 39 | Train Loss: 197.16763305664062 | Model Parameters: OrderedDict([('linear_layer.weight', tensor([[-0.1826]], device='cuda:0')), ('linear_layer.bias', tensor([0.5231], device='cuda:0'))])\n",
      "Epoch: 40 | Train Loss: 193.16261291503906 | Model Parameters: OrderedDict([('linear_layer.weight', tensor([[-0.1726]], device='cuda:0')), ('linear_layer.bias', tensor([0.5331], device='cuda:0'))])\n",
      "Test Loss: 425.4414367675781\n",
      "Epoch: 41 | Train Loss: 189.1576385498047 | Model Parameters: OrderedDict([('linear_layer.weight', tensor([[-0.1626]], device='cuda:0')), ('linear_layer.bias', tensor([0.5431], device='cuda:0'))])\n",
      "Epoch: 42 | Train Loss: 185.15261840820312 | Model Parameters: OrderedDict([('linear_layer.weight', tensor([[-0.1526]], device='cuda:0')), ('linear_layer.bias', tensor([0.5531], device='cuda:0'))])\n",
      "Epoch: 43 | Train Loss: 181.1476287841797 | Model Parameters: OrderedDict([('linear_layer.weight', tensor([[-0.1426]], device='cuda:0')), ('linear_layer.bias', tensor([0.5631], device='cuda:0'))])\n",
      "Epoch: 44 | Train Loss: 177.14263916015625 | Model Parameters: OrderedDict([('linear_layer.weight', tensor([[-0.1326]], device='cuda:0')), ('linear_layer.bias', tensor([0.5731], device='cuda:0'))])\n",
      "Epoch: 45 | Train Loss: 173.1376190185547 | Model Parameters: OrderedDict([('linear_layer.weight', tensor([[-0.1226]], device='cuda:0')), ('linear_layer.bias', tensor([0.5831], device='cuda:0'))])\n",
      "Epoch: 46 | Train Loss: 169.1326141357422 | Model Parameters: OrderedDict([('linear_layer.weight', tensor([[-0.1126]], device='cuda:0')), ('linear_layer.bias', tensor([0.5931], device='cuda:0'))])\n",
      "Epoch: 47 | Train Loss: 165.1276092529297 | Model Parameters: OrderedDict([('linear_layer.weight', tensor([[-0.1026]], device='cuda:0')), ('linear_layer.bias', tensor([0.6031], device='cuda:0'))])\n",
      "Epoch: 48 | Train Loss: 161.12261962890625 | Model Parameters: OrderedDict([('linear_layer.weight', tensor([[-0.0926]], device='cuda:0')), ('linear_layer.bias', tensor([0.6131], device='cuda:0'))])\n",
      "Epoch: 49 | Train Loss: 157.1176300048828 | Model Parameters: OrderedDict([('linear_layer.weight', tensor([[-0.0826]], device='cuda:0')), ('linear_layer.bias', tensor([0.6231], device='cuda:0'))])\n",
      "Epoch: 50 | Train Loss: 153.11260986328125 | Model Parameters: OrderedDict([('linear_layer.weight', tensor([[-0.0726]], device='cuda:0')), ('linear_layer.bias', tensor([0.6331], device='cuda:0'))])\n",
      "Epoch: 51 | Train Loss: 149.1076202392578 | Model Parameters: OrderedDict([('linear_layer.weight', tensor([[-0.0626]], device='cuda:0')), ('linear_layer.bias', tensor([0.6431], device='cuda:0'))])\n",
      "Epoch: 52 | Train Loss: 145.10263061523438 | Model Parameters: OrderedDict([('linear_layer.weight', tensor([[-0.0526]], device='cuda:0')), ('linear_layer.bias', tensor([0.6531], device='cuda:0'))])\n",
      "Epoch: 53 | Train Loss: 141.09762573242188 | Model Parameters: OrderedDict([('linear_layer.weight', tensor([[-0.0426]], device='cuda:0')), ('linear_layer.bias', tensor([0.6631], device='cuda:0'))])\n",
      "Epoch: 54 | Train Loss: 137.09262084960938 | Model Parameters: OrderedDict([('linear_layer.weight', tensor([[-0.0326]], device='cuda:0')), ('linear_layer.bias', tensor([0.6731], device='cuda:0'))])\n",
      "Epoch: 55 | Train Loss: 133.08761596679688 | Model Parameters: OrderedDict([('linear_layer.weight', tensor([[-0.0226]], device='cuda:0')), ('linear_layer.bias', tensor([0.6831], device='cuda:0'))])\n",
      "Epoch: 56 | Train Loss: 129.08261108398438 | Model Parameters: OrderedDict([('linear_layer.weight', tensor([[-0.0126]], device='cuda:0')), ('linear_layer.bias', tensor([0.6931], device='cuda:0'))])\n",
      "Epoch: 57 | Train Loss: 125.0776138305664 | Model Parameters: OrderedDict([('linear_layer.weight', tensor([[-0.0026]], device='cuda:0')), ('linear_layer.bias', tensor([0.7031], device='cuda:0'))])\n",
      "Epoch: 58 | Train Loss: 121.07261657714844 | Model Parameters: OrderedDict([('linear_layer.weight', tensor([[0.0074]], device='cuda:0')), ('linear_layer.bias', tensor([0.7131], device='cuda:0'))])\n",
      "Epoch: 59 | Train Loss: 117.067626953125 | Model Parameters: OrderedDict([('linear_layer.weight', tensor([[0.0174]], device='cuda:0')), ('linear_layer.bias', tensor([0.7231], device='cuda:0'))])\n",
      "Epoch: 60 | Train Loss: 113.06261444091797 | Model Parameters: OrderedDict([('linear_layer.weight', tensor([[0.0274]], device='cuda:0')), ('linear_layer.bias', tensor([0.7331], device='cuda:0'))])\n",
      "Test Loss: 245.34141540527344\n",
      "Epoch: 61 | Train Loss: 109.05762481689453 | Model Parameters: OrderedDict([('linear_layer.weight', tensor([[0.0374]], device='cuda:0')), ('linear_layer.bias', tensor([0.7431], device='cuda:0'))])\n",
      "Epoch: 62 | Train Loss: 105.0526351928711 | Model Parameters: OrderedDict([('linear_layer.weight', tensor([[0.0474]], device='cuda:0')), ('linear_layer.bias', tensor([0.7531], device='cuda:0'))])\n",
      "Epoch: 63 | Train Loss: 101.04762268066406 | Model Parameters: OrderedDict([('linear_layer.weight', tensor([[0.0574]], device='cuda:0')), ('linear_layer.bias', tensor([0.7631], device='cuda:0'))])\n",
      "Epoch: 64 | Train Loss: 97.0426254272461 | Model Parameters: OrderedDict([('linear_layer.weight', tensor([[0.0674]], device='cuda:0')), ('linear_layer.bias', tensor([0.7731], device='cuda:0'))])\n",
      "Epoch: 65 | Train Loss: 93.03762817382812 | Model Parameters: OrderedDict([('linear_layer.weight', tensor([[0.0774]], device='cuda:0')), ('linear_layer.bias', tensor([0.7831], device='cuda:0'))])\n",
      "Epoch: 66 | Train Loss: 89.03262329101562 | Model Parameters: OrderedDict([('linear_layer.weight', tensor([[0.0874]], device='cuda:0')), ('linear_layer.bias', tensor([0.7931], device='cuda:0'))])\n",
      "Epoch: 67 | Train Loss: 85.02762603759766 | Model Parameters: OrderedDict([('linear_layer.weight', tensor([[0.0974]], device='cuda:0')), ('linear_layer.bias', tensor([0.8031], device='cuda:0'))])\n",
      "Epoch: 68 | Train Loss: 81.02263641357422 | Model Parameters: OrderedDict([('linear_layer.weight', tensor([[0.1074]], device='cuda:0')), ('linear_layer.bias', tensor([0.8131], device='cuda:0'))])\n",
      "Epoch: 69 | Train Loss: 77.01762390136719 | Model Parameters: OrderedDict([('linear_layer.weight', tensor([[0.1174]], device='cuda:0')), ('linear_layer.bias', tensor([0.8231], device='cuda:0'))])\n",
      "Epoch: 70 | Train Loss: 73.01263427734375 | Model Parameters: OrderedDict([('linear_layer.weight', tensor([[0.1274]], device='cuda:0')), ('linear_layer.bias', tensor([0.8331], device='cuda:0'))])\n",
      "Epoch: 71 | Train Loss: 69.00763702392578 | Model Parameters: OrderedDict([('linear_layer.weight', tensor([[0.1374]], device='cuda:0')), ('linear_layer.bias', tensor([0.8431], device='cuda:0'))])\n",
      "Epoch: 72 | Train Loss: 65.00263214111328 | Model Parameters: OrderedDict([('linear_layer.weight', tensor([[0.1474]], device='cuda:0')), ('linear_layer.bias', tensor([0.8531], device='cuda:0'))])\n",
      "Epoch: 73 | Train Loss: 60.99764633178711 | Model Parameters: OrderedDict([('linear_layer.weight', tensor([[0.1574]], device='cuda:0')), ('linear_layer.bias', tensor([0.8631], device='cuda:0'))])\n",
      "Epoch: 74 | Train Loss: 56.992645263671875 | Model Parameters: OrderedDict([('linear_layer.weight', tensor([[0.1674]], device='cuda:0')), ('linear_layer.bias', tensor([0.8731], device='cuda:0'))])\n",
      "Epoch: 75 | Train Loss: 52.98765182495117 | Model Parameters: OrderedDict([('linear_layer.weight', tensor([[0.1774]], device='cuda:0')), ('linear_layer.bias', tensor([0.8831], device='cuda:0'))])\n",
      "Epoch: 76 | Train Loss: 48.9826545715332 | Model Parameters: OrderedDict([('linear_layer.weight', tensor([[0.1874]], device='cuda:0')), ('linear_layer.bias', tensor([0.8931], device='cuda:0'))])\n",
      "Epoch: 77 | Train Loss: 44.97765350341797 | Model Parameters: OrderedDict([('linear_layer.weight', tensor([[0.1974]], device='cuda:0')), ('linear_layer.bias', tensor([0.9031], device='cuda:0'))])\n",
      "Epoch: 78 | Train Loss: 40.97266387939453 | Model Parameters: OrderedDict([('linear_layer.weight', tensor([[0.2074]], device='cuda:0')), ('linear_layer.bias', tensor([0.9131], device='cuda:0'))])\n",
      "Epoch: 79 | Train Loss: 36.96770095825195 | Model Parameters: OrderedDict([('linear_layer.weight', tensor([[0.2174]], device='cuda:0')), ('linear_layer.bias', tensor([0.9231], device='cuda:0'))])\n",
      "Epoch: 80 | Train Loss: 32.96273422241211 | Model Parameters: OrderedDict([('linear_layer.weight', tensor([[0.2274]], device='cuda:0')), ('linear_layer.bias', tensor([0.9331], device='cuda:0'))])\n",
      "Test Loss: 65.24153900146484\n",
      "Epoch: 81 | Train Loss: 28.957767486572266 | Model Parameters: OrderedDict([('linear_layer.weight', tensor([[0.2374]], device='cuda:0')), ('linear_layer.bias', tensor([0.9431], device='cuda:0'))])\n",
      "Epoch: 82 | Train Loss: 24.952804565429688 | Model Parameters: OrderedDict([('linear_layer.weight', tensor([[0.2474]], device='cuda:0')), ('linear_layer.bias', tensor([0.9531], device='cuda:0'))])\n",
      "Epoch: 83 | Train Loss: 20.94784164428711 | Model Parameters: OrderedDict([('linear_layer.weight', tensor([[0.2574]], device='cuda:0')), ('linear_layer.bias', tensor([0.9631], device='cuda:0'))])\n",
      "Epoch: 84 | Train Loss: 16.94293975830078 | Model Parameters: OrderedDict([('linear_layer.weight', tensor([[0.2674]], device='cuda:0')), ('linear_layer.bias', tensor([0.9731], device='cuda:0'))])\n",
      "Epoch: 85 | Train Loss: 12.938054084777832 | Model Parameters: OrderedDict([('linear_layer.weight', tensor([[0.2774]], device='cuda:0')), ('linear_layer.bias', tensor([0.9831], device='cuda:0'))])\n",
      "Epoch: 86 | Train Loss: 8.933277130126953 | Model Parameters: OrderedDict([('linear_layer.weight', tensor([[0.2874]], device='cuda:0')), ('linear_layer.bias', tensor([0.9930], device='cuda:0'))])\n",
      "Epoch: 87 | Train Loss: 4.928820610046387 | Model Parameters: OrderedDict([('linear_layer.weight', tensor([[0.2974]], device='cuda:0')), ('linear_layer.bias', tensor([1.0030], device='cuda:0'))])\n",
      "Epoch: 88 | Train Loss: 0.9282589554786682 | Model Parameters: OrderedDict([('linear_layer.weight', tensor([[0.3074]], device='cuda:0')), ('linear_layer.bias', tensor([1.0129], device='cuda:0'))])\n",
      "Epoch: 89 | Train Loss: 3.080019235610962 | Model Parameters: OrderedDict([('linear_layer.weight', tensor([[0.3154]], device='cuda:0')), ('linear_layer.bias', tensor([1.0207], device='cuda:0'))])\n",
      "Epoch: 90 | Train Loss: 6.28212308883667 | Model Parameters: OrderedDict([('linear_layer.weight', tensor([[0.3216]], device='cuda:0')), ('linear_layer.bias', tensor([1.0268], device='cuda:0'))])\n",
      "Epoch: 91 | Train Loss: 8.763431549072266 | Model Parameters: OrderedDict([('linear_layer.weight', tensor([[0.3262]], device='cuda:0')), ('linear_layer.bias', tensor([1.0313], device='cuda:0'))])\n",
      "Epoch: 92 | Train Loss: 10.596047401428223 | Model Parameters: OrderedDict([('linear_layer.weight', tensor([[0.3293]], device='cuda:0')), ('linear_layer.bias', tensor([1.0343], device='cuda:0'))])\n",
      "Epoch: 93 | Train Loss: 11.844841003417969 | Model Parameters: OrderedDict([('linear_layer.weight', tensor([[0.3311]], device='cuda:0')), ('linear_layer.bias', tensor([1.0361], device='cuda:0'))])\n",
      "Epoch: 94 | Train Loss: 12.568204879760742 | Model Parameters: OrderedDict([('linear_layer.weight', tensor([[0.3317]], device='cuda:0')), ('linear_layer.bias', tensor([1.0366], device='cuda:0'))])\n",
      "Epoch: 95 | Train Loss: 12.81868839263916 | Model Parameters: OrderedDict([('linear_layer.weight', tensor([[0.3313]], device='cuda:0')), ('linear_layer.bias', tensor([1.0361], device='cuda:0'))])\n",
      "Epoch: 96 | Train Loss: 12.64358139038086 | Model Parameters: OrderedDict([('linear_layer.weight', tensor([[0.3299]], device='cuda:0')), ('linear_layer.bias', tensor([1.0347], device='cuda:0'))])\n",
      "Epoch: 97 | Train Loss: 12.08544635772705 | Model Parameters: OrderedDict([('linear_layer.weight', tensor([[0.3277]], device='cuda:0')), ('linear_layer.bias', tensor([1.0323], device='cuda:0'))])\n",
      "Epoch: 98 | Train Loss: 11.182586669921875 | Model Parameters: OrderedDict([('linear_layer.weight', tensor([[0.3246]], device='cuda:0')), ('linear_layer.bias', tensor([1.0293], device='cuda:0'))])\n",
      "Epoch: 99 | Train Loss: 9.969481468200684 | Model Parameters: OrderedDict([('linear_layer.weight', tensor([[0.3209]], device='cuda:0')), ('linear_layer.bias', tensor([1.0255], device='cuda:0'))])\n",
      "Epoch: 100 | Train Loss: 8.477154731750488 | Model Parameters: OrderedDict([('linear_layer.weight', tensor([[0.3166]], device='cuda:0')), ('linear_layer.bias', tensor([1.0211], device='cuda:0'))])\n",
      "Test Loss: 15.009432792663574\n",
      "Epoch: 101 | Train Loss: 6.73353385925293 | Model Parameters: OrderedDict([('linear_layer.weight', tensor([[0.3116]], device='cuda:0')), ('linear_layer.bias', tensor([1.0161], device='cuda:0'))])\n",
      "Epoch: 102 | Train Loss: 4.763744354248047 | Model Parameters: OrderedDict([('linear_layer.weight', tensor([[0.3062]], device='cuda:0')), ('linear_layer.bias', tensor([1.0107], device='cuda:0'))])\n",
      "Epoch: 103 | Train Loss: 2.5904159545898438 | Model Parameters: OrderedDict([('linear_layer.weight', tensor([[0.3003]], device='cuda:0')), ('linear_layer.bias', tensor([1.0047], device='cuda:0'))])\n",
      "Epoch: 104 | Train Loss: 0.23388732969760895 | Model Parameters: OrderedDict([('linear_layer.weight', tensor([[0.2940]], device='cuda:0')), ('linear_layer.bias', tensor([0.9984], device='cuda:0'))])\n",
      "Epoch: 105 | Train Loss: 2.289660692214966 | Model Parameters: OrderedDict([('linear_layer.weight', tensor([[0.2894]], device='cuda:0')), ('linear_layer.bias', tensor([0.9937], device='cuda:0'))])\n",
      "Epoch: 106 | Train Loss: 4.157788276672363 | Model Parameters: OrderedDict([('linear_layer.weight', tensor([[0.2862]], device='cuda:0')), ('linear_layer.bias', tensor([0.9904], device='cuda:0'))])\n",
      "Epoch: 107 | Train Loss: 5.439285755157471 | Model Parameters: OrderedDict([('linear_layer.weight', tensor([[0.2843]], device='cuda:0')), ('linear_layer.bias', tensor([0.9884], device='cuda:0'))])\n",
      "Epoch: 108 | Train Loss: 6.192317485809326 | Model Parameters: OrderedDict([('linear_layer.weight', tensor([[0.2836]], device='cuda:0')), ('linear_layer.bias', tensor([0.9876], device='cuda:0'))])\n",
      "Epoch: 109 | Train Loss: 6.469635009765625 | Model Parameters: OrderedDict([('linear_layer.weight', tensor([[0.2840]], device='cuda:0')), ('linear_layer.bias', tensor([0.9879], device='cuda:0'))])\n",
      "Epoch: 110 | Train Loss: 6.3188018798828125 | Model Parameters: OrderedDict([('linear_layer.weight', tensor([[0.2853]], device='cuda:0')), ('linear_layer.bias', tensor([0.9891], device='cuda:0'))])\n",
      "Epoch: 111 | Train Loss: 5.782626628875732 | Model Parameters: OrderedDict([('linear_layer.weight', tensor([[0.2875]], device='cuda:0')), ('linear_layer.bias', tensor([0.9912], device='cuda:0'))])\n",
      "Epoch: 112 | Train Loss: 4.899704456329346 | Model Parameters: OrderedDict([('linear_layer.weight', tensor([[0.2905]], device='cuda:0')), ('linear_layer.bias', tensor([0.9941], device='cuda:0'))])\n",
      "Epoch: 113 | Train Loss: 3.704813241958618 | Model Parameters: OrderedDict([('linear_layer.weight', tensor([[0.2942]], device='cuda:0')), ('linear_layer.bias', tensor([0.9977], device='cuda:0'))])\n",
      "Epoch: 114 | Train Loss: 2.2296011447906494 | Model Parameters: OrderedDict([('linear_layer.weight', tensor([[0.2985]], device='cuda:0')), ('linear_layer.bias', tensor([1.0018], device='cuda:0'))])\n",
      "Epoch: 115 | Train Loss: 0.5075289607048035 | Model Parameters: OrderedDict([('linear_layer.weight', tensor([[0.3034]], device='cuda:0')), ('linear_layer.bias', tensor([1.0064], device='cuda:0'))])\n",
      "Epoch: 116 | Train Loss: 1.45192289352417 | Model Parameters: OrderedDict([('linear_layer.weight', tensor([[0.3068]], device='cuda:0')), ('linear_layer.bias', tensor([1.0095], device='cuda:0'))])\n",
      "Epoch: 117 | Train Loss: 2.8069674968719482 | Model Parameters: OrderedDict([('linear_layer.weight', tensor([[0.3088]], device='cuda:0')), ('linear_layer.bias', tensor([1.0114], device='cuda:0'))])\n",
      "Epoch: 118 | Train Loss: 3.6259233951568604 | Model Parameters: OrderedDict([('linear_layer.weight', tensor([[0.3096]], device='cuda:0')), ('linear_layer.bias', tensor([1.0120], device='cuda:0'))])\n",
      "Epoch: 119 | Train Loss: 3.9623918533325195 | Model Parameters: OrderedDict([('linear_layer.weight', tensor([[0.3094]], device='cuda:0')), ('linear_layer.bias', tensor([1.0115], device='cuda:0'))])\n",
      "Epoch: 120 | Train Loss: 3.864628553390503 | Model Parameters: OrderedDict([('linear_layer.weight', tensor([[0.3082]], device='cuda:0')), ('linear_layer.bias', tensor([1.0101], device='cuda:0'))])\n",
      "Test Loss: 7.4635910987854\n",
      "Epoch: 121 | Train Loss: 3.376065492630005 | Model Parameters: OrderedDict([('linear_layer.weight', tensor([[0.3061]], device='cuda:0')), ('linear_layer.bias', tensor([1.0079], device='cuda:0'))])\n",
      "Epoch: 122 | Train Loss: 2.5357677936553955 | Model Parameters: OrderedDict([('linear_layer.weight', tensor([[0.3032]], device='cuda:0')), ('linear_layer.bias', tensor([1.0048], device='cuda:0'))])\n",
      "Epoch: 123 | Train Loss: 1.378920555114746 | Model Parameters: OrderedDict([('linear_layer.weight', tensor([[0.2996]], device='cuda:0')), ('linear_layer.bias', tensor([1.0011], device='cuda:0'))])\n",
      "Epoch: 124 | Train Loss: 0.09407509863376617 | Model Parameters: OrderedDict([('linear_layer.weight', tensor([[0.2972]], device='cuda:0')), ('linear_layer.bias', tensor([0.9981], device='cuda:0'))])\n",
      "Epoch: 125 | Train Loss: 1.042181372642517 | Model Parameters: OrderedDict([('linear_layer.weight', tensor([[0.2960]], device='cuda:0')), ('linear_layer.bias', tensor([0.9963], device='cuda:0'))])\n",
      "Epoch: 126 | Train Loss: 1.5187478065490723 | Model Parameters: OrderedDict([('linear_layer.weight', tensor([[0.2959]], device='cuda:0')), ('linear_layer.bias', tensor([0.9956], device='cuda:0'))])\n",
      "Epoch: 127 | Train Loss: 1.5483622550964355 | Model Parameters: OrderedDict([('linear_layer.weight', tensor([[0.2968]], device='cuda:0')), ('linear_layer.bias', tensor([0.9960], device='cuda:0'))])\n",
      "Epoch: 128 | Train Loss: 1.1755110025405884 | Model Parameters: OrderedDict([('linear_layer.weight', tensor([[0.2987]], device='cuda:0')), ('linear_layer.bias', tensor([0.9973], device='cuda:0'))])\n",
      "Epoch: 129 | Train Loss: 0.44448456168174744 | Model Parameters: OrderedDict([('linear_layer.weight', tensor([[0.3013]], device='cuda:0')), ('linear_layer.bias', tensor([0.9992], device='cuda:0'))])\n",
      "Epoch: 130 | Train Loss: 0.6216952800750732 | Model Parameters: OrderedDict([('linear_layer.weight', tensor([[0.3027]], device='cuda:0')), ('linear_layer.bias', tensor([1.0000], device='cuda:0'))])\n",
      "Epoch: 131 | Train Loss: 1.1719225645065308 | Model Parameters: OrderedDict([('linear_layer.weight', tensor([[0.3029]], device='cuda:0')), ('linear_layer.bias', tensor([0.9996], device='cuda:0'))])\n",
      "Epoch: 132 | Train Loss: 1.2658956050872803 | Model Parameters: OrderedDict([('linear_layer.weight', tensor([[0.3021]], device='cuda:0')), ('linear_layer.bias', tensor([0.9983], device='cuda:0'))])\n",
      "Epoch: 133 | Train Loss: 0.9492640495300293 | Model Parameters: OrderedDict([('linear_layer.weight', tensor([[0.3004]], device='cuda:0')), ('linear_layer.bias', tensor([0.9961], device='cuda:0'))])\n",
      "Epoch: 134 | Train Loss: 0.2630828320980072 | Model Parameters: OrderedDict([('linear_layer.weight', tensor([[0.2979]], device='cuda:0')), ('linear_layer.bias', tensor([0.9931], device='cuda:0'))])\n",
      "Epoch: 135 | Train Loss: 0.7608976364135742 | Model Parameters: OrderedDict([('linear_layer.weight', tensor([[0.2966]], device='cuda:0')), ('linear_layer.bias', tensor([0.9914], device='cuda:0'))])\n",
      "Epoch: 136 | Train Loss: 1.277019739151001 | Model Parameters: OrderedDict([('linear_layer.weight', tensor([[0.2964]], device='cuda:0')), ('linear_layer.bias', tensor([0.9907], device='cuda:0'))])\n",
      "Epoch: 137 | Train Loss: 1.3429256677627563 | Model Parameters: OrderedDict([('linear_layer.weight', tensor([[0.2973]], device='cuda:0')), ('linear_layer.bias', tensor([0.9910], device='cuda:0'))])\n",
      "Epoch: 138 | Train Loss: 1.0029914379119873 | Model Parameters: OrderedDict([('linear_layer.weight', tensor([[0.2990]], device='cuda:0')), ('linear_layer.bias', tensor([0.9923], device='cuda:0'))])\n",
      "Epoch: 139 | Train Loss: 0.3037284314632416 | Model Parameters: OrderedDict([('linear_layer.weight', tensor([[0.3016]], device='cuda:0')), ('linear_layer.bias', tensor([0.9942], device='cuda:0'))])\n",
      "Epoch: 140 | Train Loss: 0.7330799698829651 | Model Parameters: OrderedDict([('linear_layer.weight', tensor([[0.3029]], device='cuda:0')), ('linear_layer.bias', tensor([0.9949], device='cuda:0'))])\n",
      "Test Loss: 2.7066116333007812\n",
      "Epoch: 141 | Train Loss: 1.2548329830169678 | Model Parameters: OrderedDict([('linear_layer.weight', tensor([[0.3031]], device='cuda:0')), ('linear_layer.bias', tensor([0.9945], device='cuda:0'))])\n",
      "Epoch: 142 | Train Loss: 1.3231093883514404 | Model Parameters: OrderedDict([('linear_layer.weight', tensor([[0.3022]], device='cuda:0')), ('linear_layer.bias', tensor([0.9931], device='cuda:0'))])\n",
      "Epoch: 143 | Train Loss: 0.9832726716995239 | Model Parameters: OrderedDict([('linear_layer.weight', tensor([[0.3005]], device='cuda:0')), ('linear_layer.bias', tensor([0.9908], device='cuda:0'))])\n",
      "Epoch: 144 | Train Loss: 0.2761388421058655 | Model Parameters: OrderedDict([('linear_layer.weight', tensor([[0.2979]], device='cuda:0')), ('linear_layer.bias', tensor([0.9878], device='cuda:0'))])\n",
      "Epoch: 145 | Train Loss: 0.7662003636360168 | Model Parameters: OrderedDict([('linear_layer.weight', tensor([[0.2965]], device='cuda:0')), ('linear_layer.bias', tensor([0.9860], device='cuda:0'))])\n",
      "Epoch: 146 | Train Loss: 1.2992558479309082 | Model Parameters: OrderedDict([('linear_layer.weight', tensor([[0.2963]], device='cuda:0')), ('linear_layer.bias', tensor([0.9853], device='cuda:0'))])\n",
      "Epoch: 147 | Train Loss: 1.3800207376480103 | Model Parameters: OrderedDict([('linear_layer.weight', tensor([[0.2972]], device='cuda:0')), ('linear_layer.bias', tensor([0.9856], device='cuda:0'))])\n",
      "Epoch: 148 | Train Loss: 1.0530869960784912 | Model Parameters: OrderedDict([('linear_layer.weight', tensor([[0.2989]], device='cuda:0')), ('linear_layer.bias', tensor([0.9868], device='cuda:0'))])\n",
      "Epoch: 149 | Train Loss: 0.3634302020072937 | Model Parameters: OrderedDict([('linear_layer.weight', tensor([[0.3014]], device='cuda:0')), ('linear_layer.bias', tensor([0.9888], device='cuda:0'))])\n",
      "Epoch: 150 | Train Loss: 0.6641725301742554 | Model Parameters: OrderedDict([('linear_layer.weight', tensor([[0.3027]], device='cuda:0')), ('linear_layer.bias', tensor([0.9895], device='cuda:0'))])\n",
      "Epoch: 151 | Train Loss: 1.1798863410949707 | Model Parameters: OrderedDict([('linear_layer.weight', tensor([[0.3029]], device='cuda:0')), ('linear_layer.bias', tensor([0.9891], device='cuda:0'))])\n",
      "Epoch: 152 | Train Loss: 1.2426891326904297 | Model Parameters: OrderedDict([('linear_layer.weight', tensor([[0.3020]], device='cuda:0')), ('linear_layer.bias', tensor([0.9878], device='cuda:0'))])\n",
      "Epoch: 153 | Train Loss: 0.8978855013847351 | Model Parameters: OrderedDict([('linear_layer.weight', tensor([[0.3003]], device='cuda:0')), ('linear_layer.bias', tensor([0.9855], device='cuda:0'))])\n",
      "Epoch: 154 | Train Loss: 0.18625663220882416 | Model Parameters: OrderedDict([('linear_layer.weight', tensor([[0.2977]], device='cuda:0')), ('linear_layer.bias', tensor([0.9825], device='cuda:0'))])\n",
      "Epoch: 155 | Train Loss: 0.8592502474784851 | Model Parameters: OrderedDict([('linear_layer.weight', tensor([[0.2963]], device='cuda:0')), ('linear_layer.bias', tensor([0.9807], device='cuda:0'))])\n",
      "Epoch: 156 | Train Loss: 1.3957929611206055 | Model Parameters: OrderedDict([('linear_layer.weight', tensor([[0.2961]], device='cuda:0')), ('linear_layer.bias', tensor([0.9801], device='cuda:0'))])\n",
      "Epoch: 157 | Train Loss: 1.4791173934936523 | Model Parameters: OrderedDict([('linear_layer.weight', tensor([[0.2969]], device='cuda:0')), ('linear_layer.bias', tensor([0.9804], device='cuda:0'))])\n",
      "Epoch: 158 | Train Loss: 1.1540745496749878 | Model Parameters: OrderedDict([('linear_layer.weight', tensor([[0.2986]], device='cuda:0')), ('linear_layer.bias', tensor([0.9817], device='cuda:0'))])\n",
      "Epoch: 159 | Train Loss: 0.4642151892185211 | Model Parameters: OrderedDict([('linear_layer.weight', tensor([[0.3012]], device='cuda:0')), ('linear_layer.bias', tensor([0.9837], device='cuda:0'))])\n",
      "Epoch: 160 | Train Loss: 0.5627909302711487 | Model Parameters: OrderedDict([('linear_layer.weight', tensor([[0.3025]], device='cuda:0')), ('linear_layer.bias', tensor([0.9845], device='cuda:0'))])\n",
      "Test Loss: 2.3260796070098877\n",
      "Epoch: 161 | Train Loss: 1.0800858736038208 | Model Parameters: OrderedDict([('linear_layer.weight', tensor([[0.3027]], device='cuda:0')), ('linear_layer.bias', tensor([0.9842], device='cuda:0'))])\n",
      "Epoch: 162 | Train Loss: 1.144317388534546 | Model Parameters: OrderedDict([('linear_layer.weight', tensor([[0.3018]], device='cuda:0')), ('linear_layer.bias', tensor([0.9830], device='cuda:0'))])\n",
      "Epoch: 163 | Train Loss: 0.8007908463478088 | Model Parameters: OrderedDict([('linear_layer.weight', tensor([[0.3000]], device='cuda:0')), ('linear_layer.bias', tensor([0.9808], device='cuda:0'))])\n",
      "Epoch: 164 | Train Loss: 0.09030023962259293 | Model Parameters: OrderedDict([('linear_layer.weight', tensor([[0.2974]], device='cuda:0')), ('linear_layer.bias', tensor([0.9778], device='cuda:0'))])\n",
      "Epoch: 165 | Train Loss: 0.9534915089607239 | Model Parameters: OrderedDict([('linear_layer.weight', tensor([[0.2961]], device='cuda:0')), ('linear_layer.bias', tensor([0.9761], device='cuda:0'))])\n",
      "Epoch: 166 | Train Loss: 1.4890062808990479 | Model Parameters: OrderedDict([('linear_layer.weight', tensor([[0.2959]], device='cuda:0')), ('linear_layer.bias', tensor([0.9755], device='cuda:0'))])\n",
      "Epoch: 167 | Train Loss: 1.5710443258285522 | Model Parameters: OrderedDict([('linear_layer.weight', tensor([[0.2967]], device='cuda:0')), ('linear_layer.bias', tensor([0.9759], device='cuda:0'))])\n",
      "Epoch: 168 | Train Loss: 1.244587779045105 | Model Parameters: OrderedDict([('linear_layer.weight', tensor([[0.2984]], device='cuda:0')), ('linear_layer.bias', tensor([0.9772], device='cuda:0'))])\n",
      "Epoch: 169 | Train Loss: 0.5523374676704407 | Model Parameters: OrderedDict([('linear_layer.weight', tensor([[0.3010]], device='cuda:0')), ('linear_layer.bias', tensor([0.9793], device='cuda:0'))])\n",
      "Epoch: 170 | Train Loss: 0.4760296642780304 | Model Parameters: OrderedDict([('linear_layer.weight', tensor([[0.3023]], device='cuda:0')), ('linear_layer.bias', tensor([0.9802], device='cuda:0'))])\n",
      "Epoch: 171 | Train Loss: 0.9958540201187134 | Model Parameters: OrderedDict([('linear_layer.weight', tensor([[0.3025]], device='cuda:0')), ('linear_layer.bias', tensor([0.9800], device='cuda:0'))])\n",
      "Epoch: 172 | Train Loss: 1.0623681545257568 | Model Parameters: OrderedDict([('linear_layer.weight', tensor([[0.3016]], device='cuda:0')), ('linear_layer.bias', tensor([0.9788], device='cuda:0'))])\n",
      "Epoch: 173 | Train Loss: 0.7209140062332153 | Model Parameters: OrderedDict([('linear_layer.weight', tensor([[0.2998]], device='cuda:0')), ('linear_layer.bias', tensor([0.9766], device='cuda:0'))])\n",
      "Epoch: 174 | Train Loss: 0.03338102251291275 | Model Parameters: OrderedDict([('linear_layer.weight', tensor([[0.2985]], device='cuda:0')), ('linear_layer.bias', tensor([0.9745], device='cuda:0'))])\n",
      "Epoch: 175 | Train Loss: 0.5148734450340271 | Model Parameters: OrderedDict([('linear_layer.weight', tensor([[0.2984]], device='cuda:0')), ('linear_layer.bias', tensor([0.9735], device='cuda:0'))])\n",
      "Epoch: 176 | Train Loss: 0.5852202773094177 | Model Parameters: OrderedDict([('linear_layer.weight', tensor([[0.2992]], device='cuda:0')), ('linear_layer.bias', tensor([0.9735], device='cuda:0'))])\n",
      "Epoch: 177 | Train Loss: 0.25358152389526367 | Model Parameters: OrderedDict([('linear_layer.weight', tensor([[0.3009]], device='cuda:0')), ('linear_layer.bias', tensor([0.9743], device='cuda:0'))])\n",
      "Epoch: 178 | Train Loss: 0.44895076751708984 | Model Parameters: OrderedDict([('linear_layer.weight', tensor([[0.3015]], device='cuda:0')), ('linear_layer.bias', tensor([0.9740], device='cuda:0'))])\n",
      "Epoch: 179 | Train Loss: 0.6709907650947571 | Model Parameters: OrderedDict([('linear_layer.weight', tensor([[0.3010]], device='cuda:0')), ('linear_layer.bias', tensor([0.9727], device='cuda:0'))])\n",
      "Epoch: 180 | Train Loss: 0.46832606196403503 | Model Parameters: OrderedDict([('linear_layer.weight', tensor([[0.2995]], device='cuda:0')), ('linear_layer.bias', tensor([0.9705], device='cuda:0'))])\n",
      "Test Loss: 0.35063743591308594\n",
      "Epoch: 181 | Train Loss: 0.1299060732126236 | Model Parameters: OrderedDict([('linear_layer.weight', tensor([[0.2992]], device='cuda:0')), ('linear_layer.bias', tensor([0.9691], device='cuda:0'))])\n",
      "Epoch: 182 | Train Loss: 0.2764981687068939 | Model Parameters: OrderedDict([('linear_layer.weight', tensor([[0.2998]], device='cuda:0')), ('linear_layer.bias', tensor([0.9687], device='cuda:0'))])\n",
      "Epoch: 183 | Train Loss: 0.0418032631278038 | Model Parameters: OrderedDict([('linear_layer.weight', tensor([[0.3010]], device='cuda:0')), ('linear_layer.bias', tensor([0.9685], device='cuda:0'))])\n",
      "Epoch: 184 | Train Loss: 0.4785047173500061 | Model Parameters: OrderedDict([('linear_layer.weight', tensor([[0.3011]], device='cuda:0')), ('linear_layer.bias', tensor([0.9673], device='cuda:0'))])\n",
      "Epoch: 185 | Train Loss: 0.5172783732414246 | Model Parameters: OrderedDict([('linear_layer.weight', tensor([[0.3002]], device='cuda:0')), ('linear_layer.bias', tensor([0.9652], device='cuda:0'))])\n",
      "Epoch: 186 | Train Loss: 0.14883776009082794 | Model Parameters: OrderedDict([('linear_layer.weight', tensor([[0.2984]], device='cuda:0')), ('linear_layer.bias', tensor([0.9623], device='cuda:0'))])\n",
      "Epoch: 187 | Train Loss: 0.5891438722610474 | Model Parameters: OrderedDict([('linear_layer.weight', tensor([[0.2977]], device='cuda:0')), ('linear_layer.bias', tensor([0.9606], device='cuda:0'))])\n",
      "Epoch: 188 | Train Loss: 0.8482356071472168 | Model Parameters: OrderedDict([('linear_layer.weight', tensor([[0.2982]], device='cuda:0')), ('linear_layer.bias', tensor([0.9600], device='cuda:0'))])\n",
      "Epoch: 189 | Train Loss: 0.6803427934646606 | Model Parameters: OrderedDict([('linear_layer.weight', tensor([[0.2995]], device='cuda:0')), ('linear_layer.bias', tensor([0.9604], device='cuda:0'))])\n",
      "Epoch: 190 | Train Loss: 0.13440042734146118 | Model Parameters: OrderedDict([('linear_layer.weight', tensor([[0.3017]], device='cuda:0')), ('linear_layer.bias', tensor([0.9615], device='cuda:0'))])\n",
      "Epoch: 191 | Train Loss: 0.7553197145462036 | Model Parameters: OrderedDict([('linear_layer.weight', tensor([[0.3027]], device='cuda:0')), ('linear_layer.bias', tensor([0.9614], device='cuda:0'))])\n",
      "Epoch: 192 | Train Loss: 1.1437019109725952 | Model Parameters: OrderedDict([('linear_layer.weight', tensor([[0.3026]], device='cuda:0')), ('linear_layer.bias', tensor([0.9603], device='cuda:0'))])\n",
      "Epoch: 193 | Train Loss: 1.0898568630218506 | Model Parameters: OrderedDict([('linear_layer.weight', tensor([[0.3015]], device='cuda:0')), ('linear_layer.bias', tensor([0.9583], device='cuda:0'))])\n",
      "Epoch: 194 | Train Loss: 0.638035237789154 | Model Parameters: OrderedDict([('linear_layer.weight', tensor([[0.2994]], device='cuda:0')), ('linear_layer.bias', tensor([0.9555], device='cuda:0'))])\n",
      "Epoch: 195 | Train Loss: 0.17875583469867706 | Model Parameters: OrderedDict([('linear_layer.weight', tensor([[0.2986]], device='cuda:0')), ('linear_layer.bias', tensor([0.9537], device='cuda:0'))])\n",
      "Epoch: 196 | Train Loss: 0.5124386548995972 | Model Parameters: OrderedDict([('linear_layer.weight', tensor([[0.2988]], device='cuda:0')), ('linear_layer.bias', tensor([0.9530], device='cuda:0'))])\n",
      "Epoch: 197 | Train Loss: 0.4155716896057129 | Model Parameters: OrderedDict([('linear_layer.weight', tensor([[0.3001]], device='cuda:0')), ('linear_layer.bias', tensor([0.9533], device='cuda:0'))])\n",
      "Epoch: 198 | Train Loss: 0.07576601952314377 | Model Parameters: OrderedDict([('linear_layer.weight', tensor([[0.3001]], device='cuda:0')), ('linear_layer.bias', tensor([0.9526], device='cuda:0'))])\n",
      "Epoch: 199 | Train Loss: 0.11181345582008362 | Model Parameters: OrderedDict([('linear_layer.weight', tensor([[0.2992]], device='cuda:0')), ('linear_layer.bias', tensor([0.9509], device='cuda:0'))])\n",
      "Epoch: 200 | Train Loss: 0.2633364498615265 | Model Parameters: OrderedDict([('linear_layer.weight', tensor([[0.2994]], device='cuda:0')), ('linear_layer.bias', tensor([0.9502], device='cuda:0'))])\n",
      "Test Loss: 0.5021948218345642\n",
      "Epoch: 201 | Train Loss: 0.20033472776412964 | Model Parameters: OrderedDict([('linear_layer.weight', tensor([[0.3005]], device='cuda:0')), ('linear_layer.bias', tensor([0.9504], device='cuda:0'))])\n",
      "Epoch: 202 | Train Loss: 0.2572580575942993 | Model Parameters: OrderedDict([('linear_layer.weight', tensor([[0.3005]], device='cuda:0')), ('linear_layer.bias', tensor([0.9496], device='cuda:0'))])\n",
      "Epoch: 203 | Train Loss: 0.2610095739364624 | Model Parameters: OrderedDict([('linear_layer.weight', tensor([[0.2995]], device='cuda:0')), ('linear_layer.bias', tensor([0.9478], device='cuda:0'))])\n",
      "Epoch: 204 | Train Loss: 0.1451416015625 | Model Parameters: OrderedDict([('linear_layer.weight', tensor([[0.2996]], device='cuda:0')), ('linear_layer.bias', tensor([0.9469], device='cuda:0'))])\n",
      "Epoch: 205 | Train Loss: 0.11619173735380173 | Model Parameters: OrderedDict([('linear_layer.weight', tensor([[0.3006]], device='cuda:0')), ('linear_layer.bias', tensor([0.9469], device='cuda:0'))])\n",
      "Epoch: 206 | Train Loss: 0.30272525548934937 | Model Parameters: OrderedDict([('linear_layer.weight', tensor([[0.3006]], device='cuda:0')), ('linear_layer.bias', tensor([0.9458], device='cuda:0'))])\n",
      "Epoch: 207 | Train Loss: 0.26985111832618713 | Model Parameters: OrderedDict([('linear_layer.weight', tensor([[0.2995]], device='cuda:0')), ('linear_layer.bias', tensor([0.9438], device='cuda:0'))])\n",
      "Epoch: 208 | Train Loss: 0.16789136826992035 | Model Parameters: OrderedDict([('linear_layer.weight', tensor([[0.2995]], device='cuda:0')), ('linear_layer.bias', tensor([0.9428], device='cuda:0'))])\n",
      "Epoch: 209 | Train Loss: 0.16329053044319153 | Model Parameters: OrderedDict([('linear_layer.weight', tensor([[0.3005]], device='cuda:0')), ('linear_layer.bias', tensor([0.9427], device='cuda:0'))])\n",
      "Epoch: 210 | Train Loss: 0.2396935224533081 | Model Parameters: OrderedDict([('linear_layer.weight', tensor([[0.3004]], device='cuda:0')), ('linear_layer.bias', tensor([0.9416], device='cuda:0'))])\n",
      "Epoch: 211 | Train Loss: 0.19470588862895966 | Model Parameters: OrderedDict([('linear_layer.weight', tensor([[0.2993]], device='cuda:0')), ('linear_layer.bias', tensor([0.9396], device='cuda:0'))])\n",
      "Epoch: 212 | Train Loss: 0.25206080079078674 | Model Parameters: OrderedDict([('linear_layer.weight', tensor([[0.2993]], device='cuda:0')), ('linear_layer.bias', tensor([0.9387], device='cuda:0'))])\n",
      "Epoch: 213 | Train Loss: 0.2519095838069916 | Model Parameters: OrderedDict([('linear_layer.weight', tensor([[0.3003]], device='cuda:0')), ('linear_layer.bias', tensor([0.9387], device='cuda:0'))])\n",
      "Epoch: 214 | Train Loss: 0.15053796768188477 | Model Parameters: OrderedDict([('linear_layer.weight', tensor([[0.3002]], device='cuda:0')), ('linear_layer.bias', tensor([0.9378], device='cuda:0'))])\n",
      "Epoch: 215 | Train Loss: 0.1068340465426445 | Model Parameters: OrderedDict([('linear_layer.weight', tensor([[0.2991]], device='cuda:0')), ('linear_layer.bias', tensor([0.9358], device='cuda:0'))])\n",
      "Epoch: 216 | Train Loss: 0.3377520740032196 | Model Parameters: OrderedDict([('linear_layer.weight', tensor([[0.2991]], device='cuda:0')), ('linear_layer.bias', tensor([0.9350], device='cuda:0'))])\n",
      "Epoch: 217 | Train Loss: 0.3347012996673584 | Model Parameters: OrderedDict([('linear_layer.weight', tensor([[0.3001]], device='cuda:0')), ('linear_layer.bias', tensor([0.9353], device='cuda:0'))])\n",
      "Epoch: 218 | Train Loss: 0.07120103389024734 | Model Parameters: OrderedDict([('linear_layer.weight', tensor([[0.3000]], device='cuda:0')), ('linear_layer.bias', tensor([0.9344], device='cuda:0'))])\n",
      "Epoch: 219 | Train Loss: 0.03150036185979843 | Model Parameters: OrderedDict([('linear_layer.weight', tensor([[0.2989]], device='cuda:0')), ('linear_layer.bias', tensor([0.9326], device='cuda:0'))])\n",
      "Epoch: 220 | Train Loss: 0.40892156958580017 | Model Parameters: OrderedDict([('linear_layer.weight', tensor([[0.2989]], device='cuda:0')), ('linear_layer.bias', tensor([0.9320], device='cuda:0'))])\n",
      "Test Loss: 0.9421203136444092\n",
      "Epoch: 221 | Train Loss: 0.40187978744506836 | Model Parameters: OrderedDict([('linear_layer.weight', tensor([[0.2999]], device='cuda:0')), ('linear_layer.bias', tensor([0.9323], device='cuda:0'))])\n",
      "Epoch: 222 | Train Loss: 0.01350736990571022 | Model Parameters: OrderedDict([('linear_layer.weight', tensor([[0.3010]], device='cuda:0')), ('linear_layer.bias', tensor([0.9323], device='cuda:0'))])\n",
      "Epoch: 223 | Train Loss: 0.42705073952674866 | Model Parameters: OrderedDict([('linear_layer.weight', tensor([[0.3009]], device='cuda:0')), ('linear_layer.bias', tensor([0.9313], device='cuda:0'))])\n",
      "Epoch: 224 | Train Loss: 0.39985212683677673 | Model Parameters: OrderedDict([('linear_layer.weight', tensor([[0.2999]], device='cuda:0')), ('linear_layer.bias', tensor([0.9293], device='cuda:0'))])\n",
      "Epoch: 225 | Train Loss: 0.036411650478839874 | Model Parameters: OrderedDict([('linear_layer.weight', tensor([[0.2998]], device='cuda:0')), ('linear_layer.bias', tensor([0.9281], device='cuda:0'))])\n",
      "Epoch: 226 | Train Loss: 0.06629644334316254 | Model Parameters: OrderedDict([('linear_layer.weight', tensor([[0.3007]], device='cuda:0')), ('linear_layer.bias', tensor([0.9276], device='cuda:0'))])\n",
      "Epoch: 227 | Train Loss: 0.29329660534858704 | Model Parameters: OrderedDict([('linear_layer.weight', tensor([[0.3005]], device='cuda:0')), ('linear_layer.bias', tensor([0.9262], device='cuda:0'))])\n",
      "Epoch: 228 | Train Loss: 0.2082931250333786 | Model Parameters: OrderedDict([('linear_layer.weight', tensor([[0.2993]], device='cuda:0')), ('linear_layer.bias', tensor([0.9239], device='cuda:0'))])\n",
      "Epoch: 229 | Train Loss: 0.27384600043296814 | Model Parameters: OrderedDict([('linear_layer.weight', tensor([[0.2992]], device='cuda:0')), ('linear_layer.bias', tensor([0.9228], device='cuda:0'))])\n",
      "Epoch: 230 | Train Loss: 0.30348286032676697 | Model Parameters: OrderedDict([('linear_layer.weight', tensor([[0.3001]], device='cuda:0')), ('linear_layer.bias', tensor([0.9227], device='cuda:0'))])\n",
      "Epoch: 231 | Train Loss: 0.07410379499197006 | Model Parameters: OrderedDict([('linear_layer.weight', tensor([[0.3000]], device='cuda:0')), ('linear_layer.bias', tensor([0.9216], device='cuda:0'))])\n",
      "Epoch: 232 | Train Loss: 0.009345000609755516 | Model Parameters: OrderedDict([('linear_layer.weight', tensor([[0.2994]], device='cuda:0')), ('linear_layer.bias', tensor([0.9199], device='cuda:0'))])\n",
      "Epoch: 233 | Train Loss: 0.20307844877243042 | Model Parameters: OrderedDict([('linear_layer.weight', tensor([[0.3000]], device='cuda:0')), ('linear_layer.bias', tensor([0.9194], device='cuda:0'))])\n",
      "Epoch: 234 | Train Loss: 0.011908387765288353 | Model Parameters: OrderedDict([('linear_layer.weight', tensor([[0.2995]], device='cuda:0')), ('linear_layer.bias', tensor([0.9179], device='cuda:0'))])\n",
      "Epoch: 235 | Train Loss: 0.20158368349075317 | Model Parameters: OrderedDict([('linear_layer.weight', tensor([[0.3000]], device='cuda:0')), ('linear_layer.bias', tensor([0.9174], device='cuda:0'))])\n",
      "Epoch: 236 | Train Loss: 0.011666301637887955 | Model Parameters: OrderedDict([('linear_layer.weight', tensor([[0.2995]], device='cuda:0')), ('linear_layer.bias', tensor([0.9160], device='cuda:0'))])\n",
      "Epoch: 237 | Train Loss: 0.20305804908275604 | Model Parameters: OrderedDict([('linear_layer.weight', tensor([[0.3000]], device='cuda:0')), ('linear_layer.bias', tensor([0.9157], device='cuda:0'))])\n",
      "Epoch: 238 | Train Loss: 0.008999194018542767 | Model Parameters: OrderedDict([('linear_layer.weight', tensor([[0.2994]], device='cuda:0')), ('linear_layer.bias', tensor([0.9143], device='cuda:0'))])\n",
      "Epoch: 239 | Train Loss: 0.20649570226669312 | Model Parameters: OrderedDict([('linear_layer.weight', tensor([[0.3000]], device='cuda:0')), ('linear_layer.bias', tensor([0.9141], device='cuda:0'))])\n",
      "Epoch: 240 | Train Loss: 0.005901587661355734 | Model Parameters: OrderedDict([('linear_layer.weight', tensor([[0.3003]], device='cuda:0')), ('linear_layer.bias', tensor([0.9134], device='cuda:0'))])\n",
      "Test Loss: 0.2816626727581024\n",
      "Epoch: 241 | Train Loss: 0.13252884149551392 | Model Parameters: OrderedDict([('linear_layer.weight', tensor([[0.2996]], device='cuda:0')), ('linear_layer.bias', tensor([0.9117], device='cuda:0'))])\n",
      "Epoch: 242 | Train Loss: 0.15914469957351685 | Model Parameters: OrderedDict([('linear_layer.weight', tensor([[0.2999]], device='cuda:0')), ('linear_layer.bias', tensor([0.9111], device='cuda:0'))])\n",
      "Epoch: 243 | Train Loss: 0.018008792772889137 | Model Parameters: OrderedDict([('linear_layer.weight', tensor([[0.3012]], device='cuda:0')), ('linear_layer.bias', tensor([0.9112], device='cuda:0'))])\n",
      "Epoch: 244 | Train Loss: 0.4841933250427246 | Model Parameters: OrderedDict([('linear_layer.weight', tensor([[0.3013]], device='cuda:0')), ('linear_layer.bias', tensor([0.9102], device='cuda:0'))])\n",
      "Epoch: 245 | Train Loss: 0.5277965664863586 | Model Parameters: OrderedDict([('linear_layer.weight', tensor([[0.3004]], device='cuda:0')), ('linear_layer.bias', tensor([0.9083], device='cuda:0'))])\n",
      "Epoch: 246 | Train Loss: 0.1607857048511505 | Model Parameters: OrderedDict([('linear_layer.weight', tensor([[0.2985]], device='cuda:0')), ('linear_layer.bias', tensor([0.9055], device='cuda:0'))])\n",
      "Epoch: 247 | Train Loss: 0.5757490992546082 | Model Parameters: OrderedDict([('linear_layer.weight', tensor([[0.2979]], device='cuda:0')), ('linear_layer.bias', tensor([0.9041], device='cuda:0'))])\n",
      "Epoch: 248 | Train Loss: 0.8323788046836853 | Model Parameters: OrderedDict([('linear_layer.weight', tensor([[0.2983]], device='cuda:0')), ('linear_layer.bias', tensor([0.9038], device='cuda:0'))])\n",
      "Epoch: 249 | Train Loss: 0.6571873426437378 | Model Parameters: OrderedDict([('linear_layer.weight', tensor([[0.2998]], device='cuda:0')), ('linear_layer.bias', tensor([0.9046], device='cuda:0'))])\n",
      "Epoch: 250 | Train Loss: 0.09349770098924637 | Model Parameters: OrderedDict([('linear_layer.weight', tensor([[0.3020]], device='cuda:0')), ('linear_layer.bias', tensor([0.9063], device='cuda:0'))])\n",
      "Epoch: 251 | Train Loss: 0.8196324110031128 | Model Parameters: OrderedDict([('linear_layer.weight', tensor([[0.3031]], device='cuda:0')), ('linear_layer.bias', tensor([0.9068], device='cuda:0'))])\n",
      "Epoch: 252 | Train Loss: 1.2351981401443481 | Model Parameters: OrderedDict([('linear_layer.weight', tensor([[0.3030]], device='cuda:0')), ('linear_layer.bias', tensor([0.9062], device='cuda:0'))])\n",
      "Epoch: 253 | Train Loss: 1.2031199932098389 | Model Parameters: OrderedDict([('linear_layer.weight', tensor([[0.3019]], device='cuda:0')), ('linear_layer.bias', tensor([0.9046], device='cuda:0'))])\n",
      "Epoch: 254 | Train Loss: 0.7682150602340698 | Model Parameters: OrderedDict([('linear_layer.weight', tensor([[0.2999]], device='cuda:0')), ('linear_layer.bias', tensor([0.9022], device='cuda:0'))])\n",
      "Epoch: 255 | Train Loss: 0.0292646624147892 | Model Parameters: OrderedDict([('linear_layer.weight', tensor([[0.2991]], device='cuda:0')), ('linear_layer.bias', tensor([0.9009], device='cuda:0'))])\n",
      "Epoch: 256 | Train Loss: 0.34185585379600525 | Model Parameters: OrderedDict([('linear_layer.weight', tensor([[0.2995]], device='cuda:0')), ('linear_layer.bias', tensor([0.9008], device='cuda:0'))])\n",
      "Epoch: 257 | Train Loss: 0.2172742486000061 | Model Parameters: OrderedDict([('linear_layer.weight', tensor([[0.3007]], device='cuda:0')), ('linear_layer.bias', tensor([0.9018], device='cuda:0'))])\n",
      "Epoch: 258 | Train Loss: 0.3007824718952179 | Model Parameters: OrderedDict([('linear_layer.weight', tensor([[0.3009]], device='cuda:0')), ('linear_layer.bias', tensor([0.9016], device='cuda:0'))])\n",
      "Epoch: 259 | Train Loss: 0.3610861003398895 | Model Parameters: OrderedDict([('linear_layer.weight', tensor([[0.3000]], device='cuda:0')), ('linear_layer.bias', tensor([0.9004], device='cuda:0'))])\n",
      "Epoch: 260 | Train Loss: 0.009449439123272896 | Model Parameters: OrderedDict([('linear_layer.weight', tensor([[0.2982]], device='cuda:0')), ('linear_layer.bias', tensor([0.8983], device='cuda:0'))])\n",
      "Test Loss: 1.6029351949691772\n",
      "Epoch: 261 | Train Loss: 0.7128770351409912 | Model Parameters: OrderedDict([('linear_layer.weight', tensor([[0.2976]], device='cuda:0')), ('linear_layer.bias', tensor([0.8974], device='cuda:0'))])\n",
      "Epoch: 262 | Train Loss: 0.9570847153663635 | Model Parameters: OrderedDict([('linear_layer.weight', tensor([[0.2981]], device='cuda:0')), ('linear_layer.bias', tensor([0.8977], device='cuda:0'))])\n",
      "Epoch: 263 | Train Loss: 0.7710313200950623 | Model Parameters: OrderedDict([('linear_layer.weight', tensor([[0.2995]], device='cuda:0')), ('linear_layer.bias', tensor([0.8989], device='cuda:0'))])\n",
      "Epoch: 264 | Train Loss: 0.1977872997522354 | Model Parameters: OrderedDict([('linear_layer.weight', tensor([[0.3018]], device='cuda:0')), ('linear_layer.bias', tensor([0.9011], device='cuda:0'))])\n",
      "Epoch: 265 | Train Loss: 0.7238861918449402 | Model Parameters: OrderedDict([('linear_layer.weight', tensor([[0.3029]], device='cuda:0')), ('linear_layer.bias', tensor([0.9021], device='cuda:0'))])\n",
      "Epoch: 266 | Train Loss: 1.1475880146026611 | Model Parameters: OrderedDict([('linear_layer.weight', tensor([[0.3028]], device='cuda:0')), ('linear_layer.bias', tensor([0.9019], device='cuda:0'))])\n",
      "Epoch: 267 | Train Loss: 1.1231645345687866 | Model Parameters: OrderedDict([('linear_layer.weight', tensor([[0.3017]], device='cuda:0')), ('linear_layer.bias', tensor([0.9006], device='cuda:0'))])\n",
      "Epoch: 268 | Train Loss: 0.6954729557037354 | Model Parameters: OrderedDict([('linear_layer.weight', tensor([[0.2998]], device='cuda:0')), ('linear_layer.bias', tensor([0.8985], device='cuda:0'))])\n",
      "Epoch: 269 | Train Loss: 0.09511805325746536 | Model Parameters: OrderedDict([('linear_layer.weight', tensor([[0.2990]], device='cuda:0')), ('linear_layer.bias', tensor([0.8976], device='cuda:0'))])\n",
      "Epoch: 270 | Train Loss: 0.4009464979171753 | Model Parameters: OrderedDict([('linear_layer.weight', tensor([[0.2993]], device='cuda:0')), ('linear_layer.bias', tensor([0.8978], device='cuda:0'))])\n",
      "Epoch: 271 | Train Loss: 0.27053672075271606 | Model Parameters: OrderedDict([('linear_layer.weight', tensor([[0.3006]], device='cuda:0')), ('linear_layer.bias', tensor([0.8991], device='cuda:0'))])\n",
      "Epoch: 272 | Train Loss: 0.2524602711200714 | Model Parameters: OrderedDict([('linear_layer.weight', tensor([[0.3008]], device='cuda:0')), ('linear_layer.bias', tensor([0.8992], device='cuda:0'))])\n",
      "Epoch: 273 | Train Loss: 0.31752684712409973 | Model Parameters: OrderedDict([('linear_layer.weight', tensor([[0.2999]], device='cuda:0')), ('linear_layer.bias', tensor([0.8982], device='cuda:0'))])\n",
      "Epoch: 274 | Train Loss: 0.029486605897545815 | Model Parameters: OrderedDict([('linear_layer.weight', tensor([[0.3002]], device='cuda:0')), ('linear_layer.bias', tensor([0.8984], device='cuda:0'))])\n",
      "Epoch: 275 | Train Loss: 0.06380242109298706 | Model Parameters: OrderedDict([('linear_layer.weight', tensor([[0.2994]], device='cuda:0')), ('linear_layer.bias', tensor([0.8976], device='cuda:0'))])\n",
      "Epoch: 276 | Train Loss: 0.2576840817928314 | Model Parameters: OrderedDict([('linear_layer.weight', tensor([[0.2997]], device='cuda:0')), ('linear_layer.bias', tensor([0.8979], device='cuda:0'))])\n",
      "Epoch: 277 | Train Loss: 0.1414642184972763 | Model Parameters: OrderedDict([('linear_layer.weight', tensor([[0.3009]], device='cuda:0')), ('linear_layer.bias', tensor([0.8992], device='cuda:0'))])\n",
      "Epoch: 278 | Train Loss: 0.36862319707870483 | Model Parameters: OrderedDict([('linear_layer.weight', tensor([[0.3011]], device='cuda:0')), ('linear_layer.bias', tensor([0.8993], device='cuda:0'))])\n",
      "Epoch: 279 | Train Loss: 0.42220526933670044 | Model Parameters: OrderedDict([('linear_layer.weight', tensor([[0.3002]], device='cuda:0')), ('linear_layer.bias', tensor([0.8983], device='cuda:0'))])\n",
      "Epoch: 280 | Train Loss: 0.06499901413917542 | Model Parameters: OrderedDict([('linear_layer.weight', tensor([[0.2984]], device='cuda:0')), ('linear_layer.bias', tensor([0.8965], device='cuda:0'))])\n",
      "Test Loss: 1.4857195615768433\n",
      "Epoch: 281 | Train Loss: 0.6618077754974365 | Model Parameters: OrderedDict([('linear_layer.weight', tensor([[0.2977]], device='cuda:0')), ('linear_layer.bias', tensor([0.8959], device='cuda:0'))])\n",
      "Epoch: 282 | Train Loss: 0.9104694128036499 | Model Parameters: OrderedDict([('linear_layer.weight', tensor([[0.2982]], device='cuda:0')), ('linear_layer.bias', tensor([0.8964], device='cuda:0'))])\n",
      "Epoch: 283 | Train Loss: 0.7288625836372375 | Model Parameters: OrderedDict([('linear_layer.weight', tensor([[0.2996]], device='cuda:0')), ('linear_layer.bias', tensor([0.8978], device='cuda:0'))])\n",
      "Epoch: 284 | Train Loss: 0.1600550413131714 | Model Parameters: OrderedDict([('linear_layer.weight', tensor([[0.3019]], device='cuda:0')), ('linear_layer.bias', tensor([0.9002], device='cuda:0'))])\n",
      "Epoch: 285 | Train Loss: 0.7571947574615479 | Model Parameters: OrderedDict([('linear_layer.weight', tensor([[0.3029]], device='cuda:0')), ('linear_layer.bias', tensor([0.9013], device='cuda:0'))])\n",
      "Epoch: 286 | Train Loss: 1.1773520708084106 | Model Parameters: OrderedDict([('linear_layer.weight', tensor([[0.3029]], device='cuda:0')), ('linear_layer.bias', tensor([0.9012], device='cuda:0'))])\n",
      "Epoch: 287 | Train Loss: 1.1501694917678833 | Model Parameters: OrderedDict([('linear_layer.weight', tensor([[0.3018]], device='cuda:0')), ('linear_layer.bias', tensor([0.9001], device='cuda:0'))])\n",
      "Epoch: 288 | Train Loss: 0.7204097509384155 | Model Parameters: OrderedDict([('linear_layer.weight', tensor([[0.2998]], device='cuda:0')), ('linear_layer.bias', tensor([0.8981], device='cuda:0'))])\n",
      "Epoch: 289 | Train Loss: 0.07162829488515854 | Model Parameters: OrderedDict([('linear_layer.weight', tensor([[0.2991]], device='cuda:0')), ('linear_layer.bias', tensor([0.8973], device='cuda:0'))])\n",
      "Epoch: 290 | Train Loss: 0.37916967272758484 | Model Parameters: OrderedDict([('linear_layer.weight', tensor([[0.2994]], device='cuda:0')), ('linear_layer.bias', tensor([0.8977], device='cuda:0'))])\n",
      "Epoch: 291 | Train Loss: 0.2507133483886719 | Model Parameters: OrderedDict([('linear_layer.weight', tensor([[0.3007]], device='cuda:0')), ('linear_layer.bias', tensor([0.8990], device='cuda:0'))])\n",
      "Epoch: 292 | Train Loss: 0.2701035737991333 | Model Parameters: OrderedDict([('linear_layer.weight', tensor([[0.3008]], device='cuda:0')), ('linear_layer.bias', tensor([0.8992], device='cuda:0'))])\n",
      "Epoch: 293 | Train Loss: 0.333627313375473 | Model Parameters: OrderedDict([('linear_layer.weight', tensor([[0.3000]], device='cuda:0')), ('linear_layer.bias', tensor([0.8983], device='cuda:0'))])\n",
      "Epoch: 294 | Train Loss: 0.01437606755644083 | Model Parameters: OrderedDict([('linear_layer.weight', tensor([[0.3002]], device='cuda:0')), ('linear_layer.bias', tensor([0.8985], device='cuda:0'))])\n",
      "Epoch: 295 | Train Loss: 0.07760977745056152 | Model Parameters: OrderedDict([('linear_layer.weight', tensor([[0.2994]], device='cuda:0')), ('linear_layer.bias', tensor([0.8977], device='cuda:0'))])\n",
      "Epoch: 296 | Train Loss: 0.24468901753425598 | Model Parameters: OrderedDict([('linear_layer.weight', tensor([[0.2997]], device='cuda:0')), ('linear_layer.bias', tensor([0.8981], device='cuda:0'))])\n",
      "Epoch: 297 | Train Loss: 0.12960463762283325 | Model Parameters: OrderedDict([('linear_layer.weight', tensor([[0.3010]], device='cuda:0')), ('linear_layer.bias', tensor([0.8994], device='cuda:0'))])\n",
      "Epoch: 298 | Train Loss: 0.37907716631889343 | Model Parameters: OrderedDict([('linear_layer.weight', tensor([[0.3011]], device='cuda:0')), ('linear_layer.bias', tensor([0.8995], device='cuda:0'))])\n",
      "Epoch: 299 | Train Loss: 0.43177759647369385 | Model Parameters: OrderedDict([('linear_layer.weight', tensor([[0.3002]], device='cuda:0')), ('linear_layer.bias', tensor([0.8987], device='cuda:0'))])\n"
     ]
    }
   ],
   "execution_count": 16
  },
  {
   "metadata": {},
   "cell_type": "markdown",
   "source": [
    "**Make predictions with the trained model on the test data.\n",
    "Visualize these predictions against the original training and testing data (note: you may need to make sure the predictions are not on the GPU if you want to use non-CUDA-enabled libraries such as matplotlib to plot).**"
   ],
   "id": "5a6108dc712b8c8b"
  },
  {
   "metadata": {
    "ExecuteTime": {
     "end_time": "2024-08-10T02:26:25.565680Z",
     "start_time": "2024-08-10T02:26:25.553028Z"
    }
   },
   "cell_type": "code",
   "source": [
    "#Making predictions\n",
    "model.eval()\n",
    "with torch.inference_mode():\n",
    "    y_pred = model(X_test)\n",
    "y_pred"
   ],
   "id": "7870d31ac15c6859",
   "outputs": [
    {
     "data": {
      "text/plain": [
       "tensor([[241.0498],\n",
       "        [241.3500],\n",
       "        [241.6502],\n",
       "        [241.9504],\n",
       "        [242.2506],\n",
       "        [242.5508],\n",
       "        [242.8510],\n",
       "        [243.1512],\n",
       "        [243.4513],\n",
       "        [243.7515],\n",
       "        [244.0517],\n",
       "        [244.3519],\n",
       "        [244.6521],\n",
       "        [244.9523],\n",
       "        [245.2525],\n",
       "        [245.5527],\n",
       "        [245.8528],\n",
       "        [246.1530],\n",
       "        [246.4532],\n",
       "        [246.7534],\n",
       "        [247.0536],\n",
       "        [247.3538],\n",
       "        [247.6540],\n",
       "        [247.9542],\n",
       "        [248.2544],\n",
       "        [248.5546],\n",
       "        [248.8547],\n",
       "        [249.1549],\n",
       "        [249.4551],\n",
       "        [249.7553],\n",
       "        [250.0555],\n",
       "        [250.3557],\n",
       "        [250.6559],\n",
       "        [250.9561],\n",
       "        [251.2563],\n",
       "        [251.5564],\n",
       "        [251.8566],\n",
       "        [252.1568],\n",
       "        [252.4570],\n",
       "        [252.7572],\n",
       "        [253.0574],\n",
       "        [253.3576],\n",
       "        [253.6578],\n",
       "        [253.9579],\n",
       "        [254.2581],\n",
       "        [254.5583],\n",
       "        [254.8585],\n",
       "        [255.1587],\n",
       "        [255.4589],\n",
       "        [255.7591],\n",
       "        [256.0593],\n",
       "        [256.3595],\n",
       "        [256.6596],\n",
       "        [256.9598],\n",
       "        [257.2600],\n",
       "        [257.5602],\n",
       "        [257.8604],\n",
       "        [258.1606],\n",
       "        [258.4608],\n",
       "        [258.7610],\n",
       "        [259.0612],\n",
       "        [259.3614],\n",
       "        [259.6615],\n",
       "        [259.9617],\n",
       "        [260.2619],\n",
       "        [260.5621],\n",
       "        [260.8623],\n",
       "        [261.1625],\n",
       "        [261.4627],\n",
       "        [261.7628],\n",
       "        [262.0630],\n",
       "        [262.3633],\n",
       "        [262.6634],\n",
       "        [262.9636],\n",
       "        [263.2638],\n",
       "        [263.5640],\n",
       "        [263.8642],\n",
       "        [264.1644],\n",
       "        [264.4646],\n",
       "        [264.7647],\n",
       "        [265.0649],\n",
       "        [265.3651],\n",
       "        [265.6653],\n",
       "        [265.9655],\n",
       "        [266.2657],\n",
       "        [266.5659],\n",
       "        [266.8661],\n",
       "        [267.1663],\n",
       "        [267.4665],\n",
       "        [267.7666],\n",
       "        [268.0668],\n",
       "        [268.3670],\n",
       "        [268.6672],\n",
       "        [268.9674],\n",
       "        [269.2676],\n",
       "        [269.5678],\n",
       "        [269.8680],\n",
       "        [270.1682],\n",
       "        [270.4684],\n",
       "        [270.7685],\n",
       "        [271.0687],\n",
       "        [271.3689],\n",
       "        [271.6691],\n",
       "        [271.9693],\n",
       "        [272.2695],\n",
       "        [272.5697],\n",
       "        [272.8698],\n",
       "        [273.1700],\n",
       "        [273.4702],\n",
       "        [273.7704],\n",
       "        [274.0706],\n",
       "        [274.3708],\n",
       "        [274.6710],\n",
       "        [274.9712],\n",
       "        [275.2714],\n",
       "        [275.5716],\n",
       "        [275.8717],\n",
       "        [276.1719],\n",
       "        [276.4721],\n",
       "        [276.7723],\n",
       "        [277.0725],\n",
       "        [277.3727],\n",
       "        [277.6729],\n",
       "        [277.9731],\n",
       "        [278.2733],\n",
       "        [278.5735],\n",
       "        [278.8736],\n",
       "        [279.1738],\n",
       "        [279.4740],\n",
       "        [279.7742],\n",
       "        [280.0744],\n",
       "        [280.3746],\n",
       "        [280.6748],\n",
       "        [280.9749],\n",
       "        [281.2751],\n",
       "        [281.5753],\n",
       "        [281.8755],\n",
       "        [282.1757],\n",
       "        [282.4759],\n",
       "        [282.7761],\n",
       "        [283.0763],\n",
       "        [283.3765],\n",
       "        [283.6767],\n",
       "        [283.9768],\n",
       "        [284.2770],\n",
       "        [284.5772],\n",
       "        [284.8774],\n",
       "        [285.1776],\n",
       "        [285.4778],\n",
       "        [285.7780],\n",
       "        [286.0782],\n",
       "        [286.3784],\n",
       "        [286.6786],\n",
       "        [286.9787],\n",
       "        [287.2789],\n",
       "        [287.5791],\n",
       "        [287.8793],\n",
       "        [288.1795],\n",
       "        [288.4797],\n",
       "        [288.7799],\n",
       "        [289.0800],\n",
       "        [289.3802],\n",
       "        [289.6805],\n",
       "        [289.9806],\n",
       "        [290.2808],\n",
       "        [290.5810],\n",
       "        [290.8812],\n",
       "        [291.1814],\n",
       "        [291.4816],\n",
       "        [291.7818],\n",
       "        [292.0819],\n",
       "        [292.3821],\n",
       "        [292.6823],\n",
       "        [292.9825],\n",
       "        [293.2827],\n",
       "        [293.5829],\n",
       "        [293.8831],\n",
       "        [294.1833],\n",
       "        [294.4835],\n",
       "        [294.7837],\n",
       "        [295.0838],\n",
       "        [295.3840],\n",
       "        [295.6842],\n",
       "        [295.9844],\n",
       "        [296.2846],\n",
       "        [296.5848],\n",
       "        [296.8850],\n",
       "        [297.1852],\n",
       "        [297.4854],\n",
       "        [297.7855],\n",
       "        [298.0857],\n",
       "        [298.3859],\n",
       "        [298.6861],\n",
       "        [298.9863],\n",
       "        [299.2865],\n",
       "        [299.5867],\n",
       "        [299.8869],\n",
       "        [300.1870],\n",
       "        [300.4872],\n",
       "        [300.7874]], device='cuda:0')"
      ]
     },
     "execution_count": 17,
     "metadata": {},
     "output_type": "execute_result"
    }
   ],
   "execution_count": 17
  },
  {
   "metadata": {},
   "cell_type": "markdown",
   "source": [
    "**Make predictions with the trained model on the test data.\n",
    "Visualize these predictions against the original training and testing data (note: you may need to make sure the predictions are not on the GPU if you want to use non-CUDA-enabled libraries such as matplotlib to plot).**"
   ],
   "id": "5ac78d3cae051c5d"
  },
  {
   "metadata": {
    "ExecuteTime": {
     "end_time": "2024-08-10T02:26:25.686424Z",
     "start_time": "2024-08-10T02:26:25.566913Z"
    }
   },
   "cell_type": "code",
   "source": "plot_data(X_train.cpu(), y_train.cpu(), X_test.cpu(), y_test.cpu(), predictions = y_pred.cpu())",
   "id": "f9372d151b334e0a",
   "outputs": [
    {
     "data": {
      "text/plain": [
       "<Figure size 640x480 with 1 Axes>"
      ],
      "image/png": "[encoded data removed]"
     },
     "metadata": {},
     "output_type": "display_data"
    }
   ],
   "execution_count": 18
  },
  {
   "metadata": {
    "ExecuteTime": {
     "end_time": "2024-08-10T02:26:25.690563Z",
     "start_time": "2024-08-10T02:26:25.687331Z"
    }
   },
   "cell_type": "code",
   "source": "X_train.cpu().device",
   "id": "2aaaa0e884fe2863",
   "outputs": [
    {
     "data": {
      "text/plain": [
       "device(type='cpu')"
      ]
     },
     "execution_count": 19,
     "metadata": {},
     "output_type": "execute_result"
    }
   ],
   "execution_count": 19
  },
  {
   "metadata": {
    "ExecuteTime": {
     "end_time": "2024-08-10T02:26:25.705955Z",
     "start_time": "2024-08-10T02:26:25.691280Z"
    }
   },
   "cell_type": "code",
   "source": "X_train.device",
   "id": "902222b83b1120ed",
   "outputs": [
    {
     "data": {
      "text/plain": [
       "device(type='cuda', index=0)"
      ]
     },
     "execution_count": 20,
     "metadata": {},
     "output_type": "execute_result"
    }
   ],
   "execution_count": 20
  },
  {
   "metadata": {},
   "cell_type": "markdown",
   "source": [
    "**1. Save your trained model's state_dict() to file.**\n",
    "\n",
    "**2. Create a new instance of your model class you made in 2. and load in the state_dict() you just saved to it.**\n",
    "\n",
    "**3. Perform predictions on your test data with the loaded model and confirm they match the original model predictions from 4.**"
   ],
   "id": "c8ffe68afb5137c4"
  },
  {
   "metadata": {
    "ExecuteTime": {
     "end_time": "2024-08-10T02:31:10.123948Z",
     "start_time": "2024-08-10T02:31:10.112637Z"
    }
   },
   "cell_type": "code",
   "source": [
    "from pathlib import Path\n",
    "Main_Dir = Path('Linear_reg_Ex')\n",
    "Main_Dir.mkdir(exist_ok = True, parents = True)\n",
    "Model_Path = 'LinearRegModelEx.pth'\n",
    "Overall_Path = Main_Dir / Model_Path\n",
    "torch.save(obj = model.state_dict(), f = Overall_Path)"
   ],
   "id": "3056a70e1a2961c8",
   "outputs": [],
   "execution_count": 21
  },
  {
   "metadata": {
    "ExecuteTime": {
     "end_time": "2024-08-10T02:32:49.651427Z",
     "start_time": "2024-08-10T02:32:49.636089Z"
    }
   },
   "cell_type": "code",
   "source": [
    "#Creating an instance\n",
    "Loaded_LR_Ex = LinearRegressionEx()\n",
    "Loaded_LR_Ex.load_state_dict(torch.load(Overall_Path))"
   ],
   "id": "11b1949c09cd281a",
   "outputs": [
    {
     "data": {
      "text/plain": [
       "<All keys matched successfully>"
      ]
     },
     "execution_count": 22,
     "metadata": {},
     "output_type": "execute_result"
    }
   ],
   "execution_count": 22
  },
  {
   "metadata": {
    "ExecuteTime": {
     "end_time": "2024-08-10T02:32:58.089224Z",
     "start_time": "2024-08-10T02:32:58.085894Z"
    }
   },
   "cell_type": "code",
   "source": "Loaded_LR_Ex",
   "id": "b03c126416aad433",
   "outputs": [
    {
     "data": {
      "text/plain": [
       "LinearRegressionEx(\n",
       "  (linear_layer): Linear(in_features=1, out_features=1, bias=True)\n",
       ")"
      ]
     },
     "execution_count": 23,
     "metadata": {},
     "output_type": "execute_result"
    }
   ],
   "execution_count": 23
  },
  {
   "metadata": {
    "ExecuteTime": {
     "end_time": "2024-08-10T02:33:09.704802Z",
     "start_time": "2024-08-10T02:33:09.701396Z"
    }
   },
   "cell_type": "code",
   "source": "Loaded_LR_Ex.state_dict()",
   "id": "d88f8a17e2e3a083",
   "outputs": [
    {
     "data": {
      "text/plain": [
       "OrderedDict([('linear_layer.weight', tensor([[0.3002]])),\n",
       "             ('linear_layer.bias', tensor([0.8987]))])"
      ]
     },
     "execution_count": 24,
     "metadata": {},
     "output_type": "execute_result"
    }
   ],
   "execution_count": 24
  },
  {
   "metadata": {
    "ExecuteTime": {
     "end_time": "2024-08-10T02:35:08.840168Z",
     "start_time": "2024-08-10T02:35:08.834550Z"
    }
   },
   "cell_type": "code",
   "source": [
    "Loaded_LR_Ex.eval()\n",
    "with torch.inference_mode():\n",
    "    loaded_y_pred = Loaded_LR_Ex(X_test.cpu())"
   ],
   "id": "f8aa45c78e5c234c",
   "outputs": [],
   "execution_count": 29
  },
  {
   "metadata": {
    "ExecuteTime": {
     "end_time": "2024-08-10T02:39:01.857939Z",
     "start_time": "2024-08-10T02:39:01.844234Z"
    }
   },
   "cell_type": "code",
   "source": "torch.Tensor(loaded_y_pred) == torch.Tensor(y_pred.cpu())",
   "id": "9f48759e4025f842",
   "outputs": [
    {
     "data": {
      "text/plain": [
       "tensor([[ True],\n",
       "        [ True],\n",
       "        [False],\n",
       "        [False],\n",
       "        [ True],\n",
       "        [ True],\n",
       "        [ True],\n",
       "        [False],\n",
       "        [False],\n",
       "        [ True],\n",
       "        [ True],\n",
       "        [ True],\n",
       "        [ True],\n",
       "        [False],\n",
       "        [False],\n",
       "        [ True],\n",
       "        [ True],\n",
       "        [ True],\n",
       "        [False],\n",
       "        [False],\n",
       "        [ True],\n",
       "        [ True],\n",
       "        [ True],\n",
       "        [False],\n",
       "        [False],\n",
       "        [False],\n",
       "        [ True],\n",
       "        [ True],\n",
       "        [ True],\n",
       "        [False],\n",
       "        [False],\n",
       "        [ True],\n",
       "        [ True],\n",
       "        [ True],\n",
       "        [False],\n",
       "        [False],\n",
       "        [False],\n",
       "        [ True],\n",
       "        [ True],\n",
       "        [ True],\n",
       "        [False],\n",
       "        [False],\n",
       "        [ True],\n",
       "        [ True],\n",
       "        [ True],\n",
       "        [False],\n",
       "        [False],\n",
       "        [ True],\n",
       "        [ True],\n",
       "        [ True],\n",
       "        [ True],\n",
       "        [ True],\n",
       "        [ True],\n",
       "        [ True],\n",
       "        [False],\n",
       "        [ True],\n",
       "        [ True],\n",
       "        [ True],\n",
       "        [ True],\n",
       "        [False],\n",
       "        [ True],\n",
       "        [ True],\n",
       "        [ True],\n",
       "        [ True],\n",
       "        [False],\n",
       "        [ True],\n",
       "        [False],\n",
       "        [ True],\n",
       "        [ True],\n",
       "        [ True],\n",
       "        [ True],\n",
       "        [False],\n",
       "        [ True],\n",
       "        [ True],\n",
       "        [ True],\n",
       "        [ True],\n",
       "        [False],\n",
       "        [ True],\n",
       "        [ True],\n",
       "        [ True],\n",
       "        [ True],\n",
       "        [False],\n",
       "        [ True],\n",
       "        [ True],\n",
       "        [ True],\n",
       "        [ True],\n",
       "        [False],\n",
       "        [ True],\n",
       "        [ True],\n",
       "        [ True],\n",
       "        [ True],\n",
       "        [ True],\n",
       "        [ True],\n",
       "        [False],\n",
       "        [ True],\n",
       "        [ True],\n",
       "        [ True],\n",
       "        [ True],\n",
       "        [False],\n",
       "        [ True],\n",
       "        [ True],\n",
       "        [ True],\n",
       "        [ True],\n",
       "        [False],\n",
       "        [ True],\n",
       "        [ True],\n",
       "        [ True],\n",
       "        [ True],\n",
       "        [False],\n",
       "        [ True],\n",
       "        [ True],\n",
       "        [ True],\n",
       "        [ True],\n",
       "        [False],\n",
       "        [ True],\n",
       "        [False],\n",
       "        [ True],\n",
       "        [ True],\n",
       "        [ True],\n",
       "        [ True],\n",
       "        [False],\n",
       "        [ True],\n",
       "        [ True],\n",
       "        [ True],\n",
       "        [ True],\n",
       "        [False],\n",
       "        [ True],\n",
       "        [ True],\n",
       "        [ True],\n",
       "        [ True],\n",
       "        [False],\n",
       "        [ True],\n",
       "        [ True],\n",
       "        [ True],\n",
       "        [ True],\n",
       "        [False],\n",
       "        [ True],\n",
       "        [ True],\n",
       "        [ True],\n",
       "        [ True],\n",
       "        [ True],\n",
       "        [ True],\n",
       "        [False],\n",
       "        [ True],\n",
       "        [ True],\n",
       "        [ True],\n",
       "        [ True],\n",
       "        [False],\n",
       "        [ True],\n",
       "        [ True],\n",
       "        [ True],\n",
       "        [ True],\n",
       "        [False],\n",
       "        [ True],\n",
       "        [ True],\n",
       "        [ True],\n",
       "        [ True],\n",
       "        [False],\n",
       "        [ True],\n",
       "        [ True],\n",
       "        [ True],\n",
       "        [ True],\n",
       "        [False],\n",
       "        [ True],\n",
       "        [False],\n",
       "        [ True],\n",
       "        [ True],\n",
       "        [ True],\n",
       "        [ True],\n",
       "        [False],\n",
       "        [ True],\n",
       "        [ True],\n",
       "        [ True],\n",
       "        [ True],\n",
       "        [False],\n",
       "        [ True],\n",
       "        [ True],\n",
       "        [ True],\n",
       "        [ True],\n",
       "        [False],\n",
       "        [ True],\n",
       "        [ True],\n",
       "        [ True],\n",
       "        [ True],\n",
       "        [False],\n",
       "        [ True],\n",
       "        [ True],\n",
       "        [ True],\n",
       "        [ True],\n",
       "        [ True],\n",
       "        [ True],\n",
       "        [False],\n",
       "        [ True],\n",
       "        [ True],\n",
       "        [ True],\n",
       "        [ True],\n",
       "        [False],\n",
       "        [ True],\n",
       "        [ True],\n",
       "        [ True]])"
      ]
     },
     "execution_count": 38,
     "metadata": {},
     "output_type": "execute_result"
    }
   ],
   "execution_count": 38
  },
  {
   "metadata": {},
   "cell_type": "code",
   "outputs": [],
   "execution_count": null,
   "source": "",
   "id": "791d5b9f9507f0f3"
  }
 ],
 "metadata": {
  "kernelspec": {
   "display_name": "Python 3",
   "language": "python",
   "name": "python3"
  },
  "language_info": {
   "codemirror_mode": {
    "name": "ipython",
    "version": 2
   },
   "file_extension": ".py",
   "mimetype": "text/x-python",
   "name": "python",
   "nbconvert_exporter": "python",
   "pygments_lexer": "ipython2",
   "version": "2.7.6"
  }
 },
 "nbformat": 4,
 "nbformat_minor": 5
}
