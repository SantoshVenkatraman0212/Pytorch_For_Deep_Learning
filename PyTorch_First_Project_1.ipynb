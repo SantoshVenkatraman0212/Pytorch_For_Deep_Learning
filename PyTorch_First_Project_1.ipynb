{
 "cells": [
  {
   "cell_type": "code",
   "id": "initial_id",
   "metadata": {
    "collapsed": true,
    "ExecuteTime": {
     "end_time": "2024-08-06T18:19:00.812525Z",
     "start_time": "2024-08-06T18:18:59.955755Z"
    }
   },
   "source": [
    "from torch import cuda\n",
    "cuda.is_available()"
   ],
   "outputs": [
    {
     "data": {
      "text/plain": [
       "True"
      ]
     },
     "execution_count": 1,
     "metadata": {},
     "output_type": "execute_result"
    }
   ],
   "execution_count": 1
  },
  {
   "metadata": {
    "ExecuteTime": {
     "end_time": "2024-08-06T18:19:00.816203Z",
     "start_time": "2024-08-06T18:19:00.814111Z"
    }
   },
   "cell_type": "code",
   "source": "import torch",
   "id": "44180b3b7c13259",
   "outputs": [],
   "execution_count": 2
  },
  {
   "metadata": {
    "ExecuteTime": {
     "end_time": "2024-08-06T18:19:00.832503Z",
     "start_time": "2024-08-06T18:19:00.816904Z"
    }
   },
   "cell_type": "code",
   "source": "print(torch.__version__)",
   "id": "72e532da627c9e8f",
   "outputs": [
    {
     "name": "stdout",
     "output_type": "stream",
     "text": [
      "2.3.1+cu118\n"
     ]
    }
   ],
   "execution_count": 3
  },
  {
   "metadata": {
    "ExecuteTime": {
     "end_time": "2024-08-06T18:19:00.848281Z",
     "start_time": "2024-08-06T18:19:00.833314Z"
    }
   },
   "cell_type": "code",
   "source": [
    "import numpy as np\n",
    "import pandas as pd\n",
    "import matplotlib.pyplot as plt\n",
    "import seaborn as sb"
   ],
   "id": "52373c04a163cf7b",
   "outputs": [],
   "execution_count": 4
  },
  {
   "metadata": {},
   "cell_type": "markdown",
   "source": "**PyTorch Tensors**",
   "id": "8ab0e23b49712255"
  },
  {
   "metadata": {},
   "cell_type": "markdown",
   "source": "**Scalar**",
   "id": "b3215e277f48db16"
  },
  {
   "metadata": {
    "ExecuteTime": {
     "end_time": "2024-08-06T18:19:00.865591Z",
     "start_time": "2024-08-06T18:19:00.849087Z"
    }
   },
   "cell_type": "code",
   "source": [
    "#A scalar is a single value\n",
    "#torch.tensor creates a tensor\n",
    "scalar = torch.tensor(7)\n",
    "scalar"
   ],
   "id": "b6ac116162771195",
   "outputs": [
    {
     "data": {
      "text/plain": [
       "tensor(7)"
      ]
     },
     "execution_count": 5,
     "metadata": {},
     "output_type": "execute_result"
    }
   ],
   "execution_count": 5
  },
  {
   "metadata": {
    "ExecuteTime": {
     "end_time": "2024-08-06T18:19:00.882409Z",
     "start_time": "2024-08-06T18:19:00.866521Z"
    }
   },
   "cell_type": "code",
   "source": "scalar.ndim",
   "id": "970a88a18acde1ba",
   "outputs": [
    {
     "data": {
      "text/plain": [
       "0"
      ]
     },
     "execution_count": 6,
     "metadata": {},
     "output_type": "execute_result"
    }
   ],
   "execution_count": 6
  },
  {
   "metadata": {},
   "cell_type": "markdown",
   "source": "**Note: The ndim of scalar is 0 since, there is neither a row nor a column nor any axis associated with a tensor**",
   "id": "1eaafd895743f14f"
  },
  {
   "metadata": {
    "ExecuteTime": {
     "end_time": "2024-08-06T18:19:00.898987Z",
     "start_time": "2024-08-06T18:19:00.884585Z"
    }
   },
   "cell_type": "code",
   "source": [
    "#Retrieving the number from a scalar\n",
    "#This basically returns just the element of the scalar with its original data type\n",
    "scalar.item()"
   ],
   "id": "a9d1e33d151ed9d1",
   "outputs": [
    {
     "data": {
      "text/plain": [
       "7"
      ]
     },
     "execution_count": 7,
     "metadata": {},
     "output_type": "execute_result"
    }
   ],
   "execution_count": 7
  },
  {
   "metadata": {},
   "cell_type": "markdown",
   "source": "**Vectors**",
   "id": "250fd69f3e6bcfd"
  },
  {
   "metadata": {
    "ExecuteTime": {
     "end_time": "2024-08-06T18:19:00.915837Z",
     "start_time": "2024-08-06T18:19:00.899956Z"
    }
   },
   "cell_type": "code",
   "source": [
    "vector = torch.tensor([1, 2])\n",
    "vector"
   ],
   "id": "2f38ef1714356dad",
   "outputs": [
    {
     "data": {
      "text/plain": [
       "tensor([1, 2])"
      ]
     },
     "execution_count": 8,
     "metadata": {},
     "output_type": "execute_result"
    }
   ],
   "execution_count": 8
  },
  {
   "metadata": {
    "ExecuteTime": {
     "end_time": "2024-08-06T18:19:00.932316Z",
     "start_time": "2024-08-06T18:19:00.916866Z"
    }
   },
   "cell_type": "code",
   "source": "vector.ndim",
   "id": "62eaae11369ea7c6",
   "outputs": [
    {
     "data": {
      "text/plain": [
       "1"
      ]
     },
     "execution_count": 9,
     "metadata": {},
     "output_type": "execute_result"
    }
   ],
   "execution_count": 9
  },
  {
   "metadata": {},
   "cell_type": "markdown",
   "source": "**Vector has multiple elements and the above vector has just one axis consisting of elements 1 and 2**",
   "id": "f5c1aa20cda21220"
  },
  {
   "metadata": {},
   "cell_type": "markdown",
   "source": "**Matrices**",
   "id": "1ff318750881fc1c"
  },
  {
   "metadata": {
    "ExecuteTime": {
     "end_time": "2024-08-06T18:19:00.947909Z",
     "start_time": "2024-08-06T18:19:00.933038Z"
    }
   },
   "cell_type": "code",
   "source": "MATRIX = torch.tensor([[1, 2], [4, 5]])",
   "id": "b53d72329df4258c",
   "outputs": [],
   "execution_count": 10
  },
  {
   "metadata": {
    "ExecuteTime": {
     "end_time": "2024-08-06T18:19:00.964415Z",
     "start_time": "2024-08-06T18:19:00.948850Z"
    }
   },
   "cell_type": "code",
   "source": "MATRIX",
   "id": "2f8122172b0fbe01",
   "outputs": [
    {
     "data": {
      "text/plain": [
       "tensor([[1, 2],\n",
       "        [4, 5]])"
      ]
     },
     "execution_count": 11,
     "metadata": {},
     "output_type": "execute_result"
    }
   ],
   "execution_count": 11
  },
  {
   "metadata": {
    "ExecuteTime": {
     "end_time": "2024-08-06T18:19:00.981074Z",
     "start_time": "2024-08-06T18:19:00.965172Z"
    }
   },
   "cell_type": "code",
   "source": "MATRIX.ndim",
   "id": "ca7298fc3252419f",
   "outputs": [
    {
     "data": {
      "text/plain": [
       "2"
      ]
     },
     "execution_count": 12,
     "metadata": {},
     "output_type": "execute_result"
    }
   ],
   "execution_count": 12
  },
  {
   "metadata": {},
   "cell_type": "markdown",
   "source": "**Matrix is basically a collection of vectors and the above matrix has 2 dimensions or 2 axes**",
   "id": "b7b545ed5f148a58"
  },
  {
   "metadata": {
    "ExecuteTime": {
     "end_time": "2024-08-06T18:19:00.998331Z",
     "start_time": "2024-08-06T18:19:00.981868Z"
    }
   },
   "cell_type": "code",
   "source": "MATRIX[0]",
   "id": "82d6b4577e3de24e",
   "outputs": [
    {
     "data": {
      "text/plain": [
       "tensor([1, 2])"
      ]
     },
     "execution_count": 13,
     "metadata": {},
     "output_type": "execute_result"
    }
   ],
   "execution_count": 13
  },
  {
   "metadata": {
    "ExecuteTime": {
     "end_time": "2024-08-06T18:19:01.015026Z",
     "start_time": "2024-08-06T18:19:00.999157Z"
    }
   },
   "cell_type": "code",
   "source": "MATRIX[1]",
   "id": "3e0f09aba9eec819",
   "outputs": [
    {
     "data": {
      "text/plain": [
       "tensor([4, 5])"
      ]
     },
     "execution_count": 14,
     "metadata": {},
     "output_type": "execute_result"
    }
   ],
   "execution_count": 14
  },
  {
   "metadata": {
    "ExecuteTime": {
     "end_time": "2024-08-06T18:19:01.031370Z",
     "start_time": "2024-08-06T18:19:01.016038Z"
    }
   },
   "cell_type": "code",
   "source": "MATRIX[0][0]",
   "id": "c8fe1ad00c75c110",
   "outputs": [
    {
     "data": {
      "text/plain": [
       "tensor(1)"
      ]
     },
     "execution_count": 15,
     "metadata": {},
     "output_type": "execute_result"
    }
   ],
   "execution_count": 15
  },
  {
   "metadata": {
    "ExecuteTime": {
     "end_time": "2024-08-06T18:19:01.048154Z",
     "start_time": "2024-08-06T18:19:01.032145Z"
    }
   },
   "cell_type": "code",
   "source": "MATRIX[0][1]",
   "id": "7d2f06ffb42ba2de",
   "outputs": [
    {
     "data": {
      "text/plain": [
       "tensor(2)"
      ]
     },
     "execution_count": 16,
     "metadata": {},
     "output_type": "execute_result"
    }
   ],
   "execution_count": 16
  },
  {
   "metadata": {},
   "cell_type": "markdown",
   "source": "**Note: The above matrix has vectors as its elements so the first index gives the vector index and the 2nd index gives the element within that vector**",
   "id": "bc7843dda3f6c552"
  },
  {
   "metadata": {},
   "cell_type": "markdown",
   "source": "**Tensor**",
   "id": "807f9afc9265d824"
  },
  {
   "metadata": {
    "ExecuteTime": {
     "end_time": "2024-08-06T18:19:01.063757Z",
     "start_time": "2024-08-06T18:19:01.049067Z"
    }
   },
   "cell_type": "code",
   "source": "TENSOR = torch.tensor([[[1, 2, 3], [4, 5, 6], [7, 8, 9]]])",
   "id": "727703d8540cba05",
   "outputs": [],
   "execution_count": 17
  },
  {
   "metadata": {
    "ExecuteTime": {
     "end_time": "2024-08-06T18:19:01.080518Z",
     "start_time": "2024-08-06T18:19:01.064764Z"
    }
   },
   "cell_type": "code",
   "source": "TENSOR",
   "id": "81d6855383ef035a",
   "outputs": [
    {
     "data": {
      "text/plain": [
       "tensor([[[1, 2, 3],\n",
       "         [4, 5, 6],\n",
       "         [7, 8, 9]]])"
      ]
     },
     "execution_count": 18,
     "metadata": {},
     "output_type": "execute_result"
    }
   ],
   "execution_count": 18
  },
  {
   "metadata": {
    "ExecuteTime": {
     "end_time": "2024-08-06T18:19:01.096206Z",
     "start_time": "2024-08-06T18:19:01.081138Z"
    }
   },
   "cell_type": "code",
   "source": "TENSOR.ndim",
   "id": "5956590f3a2e9bf4",
   "outputs": [
    {
     "data": {
      "text/plain": [
       "3"
      ]
     },
     "execution_count": 19,
     "metadata": {},
     "output_type": "execute_result"
    }
   ],
   "execution_count": 19
  },
  {
   "metadata": {
    "ExecuteTime": {
     "end_time": "2024-08-06T18:19:01.112478Z",
     "start_time": "2024-08-06T18:19:01.097038Z"
    }
   },
   "cell_type": "code",
   "source": "TENSOR.shape",
   "id": "7c6600490104f168",
   "outputs": [
    {
     "data": {
      "text/plain": [
       "torch.Size([1, 3, 3])"
      ]
     },
     "execution_count": 20,
     "metadata": {},
     "output_type": "execute_result"
    }
   ],
   "execution_count": 20
  },
  {
   "metadata": {
    "ExecuteTime": {
     "end_time": "2024-08-06T18:19:01.127523Z",
     "start_time": "2024-08-06T18:19:01.113595Z"
    }
   },
   "cell_type": "code",
   "source": "TENSOR_1 = torch.tensor([[[[[1, 2, 3, 4], [3, 4, 5, 7]]]]])",
   "id": "96e7f918750a3041",
   "outputs": [],
   "execution_count": 21
  },
  {
   "metadata": {
    "ExecuteTime": {
     "end_time": "2024-08-06T18:19:01.143970Z",
     "start_time": "2024-08-06T18:19:01.129184Z"
    }
   },
   "cell_type": "code",
   "source": "TENSOR_1.shape",
   "id": "e28bd64d1edaaae8",
   "outputs": [
    {
     "data": {
      "text/plain": [
       "torch.Size([1, 1, 1, 2, 4])"
      ]
     },
     "execution_count": 22,
     "metadata": {},
     "output_type": "execute_result"
    }
   ],
   "execution_count": 22
  },
  {
   "metadata": {
    "ExecuteTime": {
     "end_time": "2024-08-06T18:19:01.160701Z",
     "start_time": "2024-08-06T18:19:01.144587Z"
    }
   },
   "cell_type": "code",
   "source": "TENSOR_1.ndim",
   "id": "5bad62b8c92828ba",
   "outputs": [
    {
     "data": {
      "text/plain": [
       "5"
      ]
     },
     "execution_count": 23,
     "metadata": {},
     "output_type": "execute_result"
    }
   ],
   "execution_count": 23
  },
  {
   "metadata": {},
   "cell_type": "markdown",
   "source": "**Note: According to naming conventions scalars and vectors have lowercase variable names while matrices and tensors have uppercase variable names**",
   "id": "19d8fa0eb92663d6"
  },
  {
   "metadata": {},
   "cell_type": "markdown",
   "source": "**Creating random tensors**",
   "id": "bb4bb1d9bd44059e"
  },
  {
   "metadata": {
    "ExecuteTime": {
     "end_time": "2024-08-06T18:19:01.177135Z",
     "start_time": "2024-08-06T18:19:01.161364Z"
    }
   },
   "cell_type": "code",
   "source": [
    "#Creating a random tensor of size (3, 4)\n",
    "#torch.rand(n_rows, n_cols) creates a random tensor with the specified dimensions\n",
    "random_tensor = torch.rand(3, 4)"
   ],
   "id": "804d7cb99db8f665",
   "outputs": [],
   "execution_count": 24
  },
  {
   "metadata": {
    "ExecuteTime": {
     "end_time": "2024-08-06T18:19:01.193943Z",
     "start_time": "2024-08-06T18:19:01.178423Z"
    }
   },
   "cell_type": "code",
   "source": "random_tensor",
   "id": "c1ef9b7c227008af",
   "outputs": [
    {
     "data": {
      "text/plain": [
       "tensor([[0.1476, 0.0569, 0.3561, 0.4593],\n",
       "        [0.6001, 0.4712, 0.5978, 0.9927],\n",
       "        [0.2200, 0.9470, 0.0377, 0.2517]])"
      ]
     },
     "execution_count": 25,
     "metadata": {},
     "output_type": "execute_result"
    }
   ],
   "execution_count": 25
  },
  {
   "metadata": {
    "ExecuteTime": {
     "end_time": "2024-08-06T18:19:01.208612Z",
     "start_time": "2024-08-06T18:19:01.194867Z"
    }
   },
   "cell_type": "code",
   "source": "random_tensor.ndim",
   "id": "5bc94c28f5d261b9",
   "outputs": [
    {
     "data": {
      "text/plain": [
       "2"
      ]
     },
     "execution_count": 26,
     "metadata": {},
     "output_type": "execute_result"
    }
   ],
   "execution_count": 26
  },
  {
   "metadata": {
    "ExecuteTime": {
     "end_time": "2024-08-06T18:19:01.227355Z",
     "start_time": "2024-08-06T18:19:01.209320Z"
    }
   },
   "cell_type": "code",
   "source": [
    "#Creating a random tensor with similar shape to an image tensor\n",
    "image_tensor = torch.rand(224, 224, 3)\n",
    "image_tensor"
   ],
   "id": "d2ba43051b029b0c",
   "outputs": [
    {
     "data": {
      "text/plain": [
       "tensor([[[0.0284, 0.7910, 0.0637],\n",
       "         [0.6698, 0.0380, 0.1807],\n",
       "         [0.1528, 0.4487, 0.9413],\n",
       "         ...,\n",
       "         [0.8493, 0.6772, 0.7206],\n",
       "         [0.9543, 0.0951, 0.4624],\n",
       "         [0.2559, 0.9112, 0.8021]],\n",
       "\n",
       "        [[0.9182, 0.1437, 0.4703],\n",
       "         [0.3276, 0.5030, 0.7941],\n",
       "         [0.1984, 0.2603, 0.0871],\n",
       "         ...,\n",
       "         [0.5092, 0.2247, 0.4100],\n",
       "         [0.5347, 0.6117, 0.0350],\n",
       "         [0.8243, 0.0555, 0.0935]],\n",
       "\n",
       "        [[0.0732, 0.5937, 0.3337],\n",
       "         [0.1545, 0.5126, 0.6636],\n",
       "         [0.4916, 0.0590, 0.7282],\n",
       "         ...,\n",
       "         [0.2522, 0.8548, 0.1404],\n",
       "         [0.2393, 0.2023, 0.6201],\n",
       "         [0.0955, 0.1650, 0.8030]],\n",
       "\n",
       "        ...,\n",
       "\n",
       "        [[0.8576, 0.4552, 0.2566],\n",
       "         [0.3805, 0.9262, 0.6918],\n",
       "         [0.0841, 0.8294, 0.3358],\n",
       "         ...,\n",
       "         [0.6437, 0.6459, 0.7741],\n",
       "         [0.2935, 0.5535, 0.5175],\n",
       "         [0.8055, 0.4233, 0.3867]],\n",
       "\n",
       "        [[0.4706, 0.1258, 0.5048],\n",
       "         [0.9661, 0.7825, 0.8236],\n",
       "         [0.0216, 0.7438, 0.3513],\n",
       "         ...,\n",
       "         [0.3210, 0.0581, 0.6082],\n",
       "         [0.2552, 0.4145, 0.3278],\n",
       "         [0.3523, 0.9926, 0.2254]],\n",
       "\n",
       "        [[0.0660, 0.4583, 0.3140],\n",
       "         [0.9328, 0.2658, 0.9678],\n",
       "         [0.8428, 0.4150, 0.2948],\n",
       "         ...,\n",
       "         [0.4452, 0.7085, 0.2282],\n",
       "         [0.7603, 0.7260, 0.3393],\n",
       "         [0.4752, 0.6748, 0.5619]]])"
      ]
     },
     "execution_count": 27,
     "metadata": {},
     "output_type": "execute_result"
    }
   ],
   "execution_count": 27
  },
  {
   "metadata": {
    "ExecuteTime": {
     "end_time": "2024-08-06T18:19:01.240659Z",
     "start_time": "2024-08-06T18:19:01.228250Z"
    }
   },
   "cell_type": "code",
   "source": "image_tensor.ndim",
   "id": "73e5435102e945ae",
   "outputs": [
    {
     "data": {
      "text/plain": [
       "3"
      ]
     },
     "execution_count": 28,
     "metadata": {},
     "output_type": "execute_result"
    }
   ],
   "execution_count": 28
  },
  {
   "metadata": {
    "ExecuteTime": {
     "end_time": "2024-08-06T18:19:01.257467Z",
     "start_time": "2024-08-06T18:19:01.241338Z"
    }
   },
   "cell_type": "code",
   "source": "image_tensor.shape",
   "id": "b7f3aff61bc45c9d",
   "outputs": [
    {
     "data": {
      "text/plain": [
       "torch.Size([224, 224, 3])"
      ]
     },
     "execution_count": 29,
     "metadata": {},
     "output_type": "execute_result"
    }
   ],
   "execution_count": 29
  },
  {
   "metadata": {},
   "cell_type": "markdown",
   "source": "**Note: Here the image_tensor has the dimensions width x height x colour_channels**",
   "id": "8baac3f54f9f4ed4"
  },
  {
   "metadata": {},
   "cell_type": "markdown",
   "source": "**Zeros and Ones Tensor**",
   "id": "39c12dbcfc506fd6"
  },
  {
   "metadata": {
    "ExecuteTime": {
     "end_time": "2024-08-06T18:19:01.280212Z",
     "start_time": "2024-08-06T18:19:01.258351Z"
    }
   },
   "cell_type": "code",
   "source": [
    "#torch.zeros(size = (x, y)) creates a tensor with all 0s according to the specified size\n",
    "zero_tensor = torch.zeros(size = (3, 4))\n",
    "zero_tensor"
   ],
   "id": "8b47e90cd66c2b15",
   "outputs": [
    {
     "data": {
      "text/plain": [
       "tensor([[0., 0., 0., 0.],\n",
       "        [0., 0., 0., 0.],\n",
       "        [0., 0., 0., 0.]])"
      ]
     },
     "execution_count": 30,
     "metadata": {},
     "output_type": "execute_result"
    }
   ],
   "execution_count": 30
  },
  {
   "metadata": {
    "ExecuteTime": {
     "end_time": "2024-08-06T18:19:01.297058Z",
     "start_time": "2024-08-06T18:19:01.281016Z"
    }
   },
   "cell_type": "code",
   "source": [
    "ones_tensor = torch.ones(size = (3, 4))\n",
    "ones_tensor"
   ],
   "id": "8e86a20cad3cecb4",
   "outputs": [
    {
     "data": {
      "text/plain": [
       "tensor([[1., 1., 1., 1.],\n",
       "        [1., 1., 1., 1.],\n",
       "        [1., 1., 1., 1.]])"
      ]
     },
     "execution_count": 31,
     "metadata": {},
     "output_type": "execute_result"
    }
   ],
   "execution_count": 31
  },
  {
   "metadata": {
    "ExecuteTime": {
     "end_time": "2024-08-06T18:19:01.312539Z",
     "start_time": "2024-08-06T18:19:01.297659Z"
    }
   },
   "cell_type": "code",
   "source": "zero_tensor.dtype",
   "id": "2fc9219b0d870f9c",
   "outputs": [
    {
     "data": {
      "text/plain": [
       "torch.float32"
      ]
     },
     "execution_count": 32,
     "metadata": {},
     "output_type": "execute_result"
    }
   ],
   "execution_count": 32
  },
  {
   "metadata": {
    "ExecuteTime": {
     "end_time": "2024-08-06T18:19:01.330204Z",
     "start_time": "2024-08-06T18:19:01.313264Z"
    }
   },
   "cell_type": "code",
   "source": "ones_tensor.dtype",
   "id": "7e6683d4a2a6fffc",
   "outputs": [
    {
     "data": {
      "text/plain": [
       "torch.float32"
      ]
     },
     "execution_count": 33,
     "metadata": {},
     "output_type": "execute_result"
    }
   ],
   "execution_count": 33
  },
  {
   "metadata": {},
   "cell_type": "markdown",
   "source": "**By default all the PyTorch tensors have float32 tensors**",
   "id": "392eeb66905d740b"
  },
  {
   "metadata": {},
   "cell_type": "markdown",
   "source": "**Creating a tensor with a range**",
   "id": "4432e5da3b5e6b5b"
  },
  {
   "metadata": {
    "ExecuteTime": {
     "end_time": "2024-08-06T18:19:01.347429Z",
     "start_time": "2024-08-06T18:19:01.331290Z"
    }
   },
   "cell_type": "code",
   "source": "torch.range(0, 10)",
   "id": "88d4924aa233e58c",
   "outputs": [
    {
     "name": "stderr",
     "output_type": "stream",
     "text": [
      "/tmp/ipykernel_5719/1045297309.py:1: UserWarning: torch.range is deprecated and will be removed in a future release because its behavior is inconsistent with Python's range builtin. Instead, use torch.arange, which produces values in [start, end).\n",
      "  torch.range(0, 10)\n"
     ]
    },
    {
     "data": {
      "text/plain": [
       "tensor([ 0.,  1.,  2.,  3.,  4.,  5.,  6.,  7.,  8.,  9., 10.])"
      ]
     },
     "execution_count": 34,
     "metadata": {},
     "output_type": "execute_result"
    }
   ],
   "execution_count": 34
  },
  {
   "metadata": {},
   "cell_type": "markdown",
   "source": "**torch.range will be removed in future**",
   "id": "b99ef494bbff151c"
  },
  {
   "metadata": {
    "ExecuteTime": {
     "end_time": "2024-08-06T18:19:01.362668Z",
     "start_time": "2024-08-06T18:19:01.348487Z"
    }
   },
   "cell_type": "code",
   "source": [
    "#By default the step count is 1\n",
    "torch.arange(0, 10)"
   ],
   "id": "1e0abee341e854c7",
   "outputs": [
    {
     "data": {
      "text/plain": [
       "tensor([0, 1, 2, 3, 4, 5, 6, 7, 8, 9])"
      ]
     },
     "execution_count": 35,
     "metadata": {},
     "output_type": "execute_result"
    }
   ],
   "execution_count": 35
  },
  {
   "metadata": {
    "ExecuteTime": {
     "end_time": "2024-08-06T18:19:01.379436Z",
     "start_time": "2024-08-06T18:19:01.363543Z"
    }
   },
   "cell_type": "code",
   "source": [
    "#step parameter is used for specifying the step size\n",
    "random_ranged_tensor = torch.arange(start = 0, end = 100, step = 2)\n",
    "random_ranged_tensor"
   ],
   "id": "4580199c27af3d68",
   "outputs": [
    {
     "data": {
      "text/plain": [
       "tensor([ 0,  2,  4,  6,  8, 10, 12, 14, 16, 18, 20, 22, 24, 26, 28, 30, 32, 34,\n",
       "        36, 38, 40, 42, 44, 46, 48, 50, 52, 54, 56, 58, 60, 62, 64, 66, 68, 70,\n",
       "        72, 74, 76, 78, 80, 82, 84, 86, 88, 90, 92, 94, 96, 98])"
      ]
     },
     "execution_count": 36,
     "metadata": {},
     "output_type": "execute_result"
    }
   ],
   "execution_count": 36
  },
  {
   "metadata": {
    "ExecuteTime": {
     "end_time": "2024-08-06T18:19:01.395479Z",
     "start_time": "2024-08-06T18:19:01.380368Z"
    }
   },
   "cell_type": "code",
   "source": "random_ranged_tensor.shape",
   "id": "8efc42fa7edd48fe",
   "outputs": [
    {
     "data": {
      "text/plain": [
       "torch.Size([50])"
      ]
     },
     "execution_count": 37,
     "metadata": {},
     "output_type": "execute_result"
    }
   ],
   "execution_count": 37
  },
  {
   "metadata": {},
   "cell_type": "markdown",
   "source": "random_ranged_tensor.ndim",
   "id": "705b69f4583c8d53"
  },
  {
   "metadata": {},
   "cell_type": "markdown",
   "source": "**Creating tensors like**",
   "id": "45f69ac97d8690bf"
  },
  {
   "metadata": {
    "ExecuteTime": {
     "end_time": "2024-08-06T18:19:01.411938Z",
     "start_time": "2024-08-06T18:19:01.396297Z"
    }
   },
   "cell_type": "code",
   "source": [
    "ten_zeros = torch.zeros_like(input = torch.arange(start = 1, end = 11, step = 1))\n",
    "ten_zeros"
   ],
   "id": "d24770faf299433b",
   "outputs": [
    {
     "data": {
      "text/plain": [
       "tensor([0, 0, 0, 0, 0, 0, 0, 0, 0, 0])"
      ]
     },
     "execution_count": 38,
     "metadata": {},
     "output_type": "execute_result"
    }
   ],
   "execution_count": 38
  },
  {
   "metadata": {},
   "cell_type": "markdown",
   "source": "**torch.zeros_like takes in a range of tensor values and creates a tensor with 0s where the number of 0s is equal to the number of elements**",
   "id": "f04eae546bbf5def"
  },
  {
   "metadata": {
    "ExecuteTime": {
     "end_time": "2024-08-06T18:19:01.428736Z",
     "start_time": "2024-08-06T18:19:01.412590Z"
    }
   },
   "cell_type": "code",
   "source": [
    "zeros_tensor = torch.zeros_like(input = torch.arange(start = 0, end = 30, step = 2))\n",
    "zeros_tensor"
   ],
   "id": "8bed13e50b435e30",
   "outputs": [
    {
     "data": {
      "text/plain": [
       "tensor([0, 0, 0, 0, 0, 0, 0, 0, 0, 0, 0, 0, 0, 0, 0])"
      ]
     },
     "execution_count": 39,
     "metadata": {},
     "output_type": "execute_result"
    }
   ],
   "execution_count": 39
  },
  {
   "metadata": {},
   "cell_type": "markdown",
   "source": "**Tensor Data types**",
   "id": "38d2003cb5d5205e"
  },
  {
   "metadata": {
    "ExecuteTime": {
     "end_time": "2024-08-06T18:19:01.444350Z",
     "start_time": "2024-08-06T18:19:01.429422Z"
    }
   },
   "cell_type": "code",
   "source": [
    "#Float32 tensor\n",
    "float_32_tensor = torch.tensor([3.0, 6.0, 9.0], dtype = None)\n",
    "float_32_tensor"
   ],
   "id": "eb6182b8bea79c2d",
   "outputs": [
    {
     "data": {
      "text/plain": [
       "tensor([3., 6., 9.])"
      ]
     },
     "execution_count": 40,
     "metadata": {},
     "output_type": "execute_result"
    }
   ],
   "execution_count": 40
  },
  {
   "metadata": {
    "ExecuteTime": {
     "end_time": "2024-08-06T18:19:01.459846Z",
     "start_time": "2024-08-06T18:19:01.444984Z"
    }
   },
   "cell_type": "code",
   "source": "float_32_tensor.dtype",
   "id": "1da1c8ee07d2d0d0",
   "outputs": [
    {
     "data": {
      "text/plain": [
       "torch.float32"
      ]
     },
     "execution_count": 41,
     "metadata": {},
     "output_type": "execute_result"
    }
   ],
   "execution_count": 41
  },
  {
   "metadata": {},
   "cell_type": "markdown",
   "source": "**Note: Even if u set the dtype to None it will have the default float32 data type**",
   "id": "bb65fea14f9bc0a5"
  },
  {
   "metadata": {},
   "cell_type": "markdown",
   "source": [
    "**Precision**\n",
    "\n",
    "1. **Float32:** 1 precision\n",
    "2. **Float16:** 1/2 precision"
   ],
   "id": "18cb69577e2834e4"
  },
  {
   "metadata": {},
   "cell_type": "markdown",
   "source": [
    "**Common tensor datatype errors**\n",
    "1. Tensors not in right shape\n",
    "2. Tensors not in right data type\n",
    "3. Tensors not on right device"
   ],
   "id": "1c6e44cf8e53e430"
  },
  {
   "metadata": {},
   "cell_type": "markdown",
   "source": [
    "**torch.tensor parameters**\n",
    "1. **Tensor elements:** The elements or values\n",
    "2. **dtype:** Data type of the elements in the Tensor\n",
    "3. **device:** The compute device on which the tensor resides\n",
    "4. **requires_grad:** Whether gradients are required or not"
   ],
   "id": "dd4891977ea52a34"
  },
  {
   "metadata": {
    "ExecuteTime": {
     "end_time": "2024-08-06T18:19:01.477054Z",
     "start_time": "2024-08-06T18:19:01.460611Z"
    }
   },
   "cell_type": "code",
   "source": [
    "float_16_tensor = float_32_tensor.type(torch.float16)\n",
    "float_16_tensor"
   ],
   "id": "db4cb54a5be2a74b",
   "outputs": [
    {
     "data": {
      "text/plain": [
       "tensor([3., 6., 9.], dtype=torch.float16)"
      ]
     },
     "execution_count": 42,
     "metadata": {},
     "output_type": "execute_result"
    }
   ],
   "execution_count": 42
  },
  {
   "metadata": {
    "ExecuteTime": {
     "end_time": "2024-08-06T18:19:01.492016Z",
     "start_time": "2024-08-06T18:19:01.477979Z"
    }
   },
   "cell_type": "code",
   "source": "float_16_tensor.dtype",
   "id": "5190600e4bb9c69e",
   "outputs": [
    {
     "data": {
      "text/plain": [
       "torch.float16"
      ]
     },
     "execution_count": 43,
     "metadata": {},
     "output_type": "execute_result"
    }
   ],
   "execution_count": 43
  },
  {
   "metadata": {},
   "cell_type": "markdown",
   "source": "**Note: torch.type(torch.dtype) can be used to convert a tensor to another data type**",
   "id": "61116b10296d4766"
  },
  {
   "metadata": {
    "ExecuteTime": {
     "end_time": "2024-08-06T18:19:01.508925Z",
     "start_time": "2024-08-06T18:19:01.492762Z"
    }
   },
   "cell_type": "code",
   "source": [
    "#Demo tensor multiplication\n",
    "float_32_tensor * float_16_tensor"
   ],
   "id": "4fd6b76311e82831",
   "outputs": [
    {
     "data": {
      "text/plain": [
       "tensor([ 9., 36., 81.])"
      ]
     },
     "execution_count": 44,
     "metadata": {},
     "output_type": "execute_result"
    }
   ],
   "execution_count": 44
  },
  {
   "metadata": {
    "ExecuteTime": {
     "end_time": "2024-08-06T18:19:01.523844Z",
     "start_time": "2024-08-06T18:19:01.509834Z"
    }
   },
   "cell_type": "code",
   "source": "(float_32_tensor * float_16_tensor).dtype",
   "id": "904d872c5594546c",
   "outputs": [
    {
     "data": {
      "text/plain": [
       "torch.float32"
      ]
     },
     "execution_count": 45,
     "metadata": {},
     "output_type": "execute_result"
    }
   ],
   "execution_count": 45
  },
  {
   "metadata": {},
   "cell_type": "markdown",
   "source": "**Note: When a float32 tensor is multiplied with a float16 tensor the resulting product will be a float32 tensor**",
   "id": "2dcf2f9e72e3d80d"
  },
  {
   "metadata": {
    "ExecuteTime": {
     "end_time": "2024-08-06T18:19:01.540391Z",
     "start_time": "2024-08-06T18:19:01.525933Z"
    }
   },
   "cell_type": "code",
   "source": [
    "int_32_tensor = torch.tensor([3, 6, 9], dtype = torch.int32)\n",
    "int_32_tensor"
   ],
   "id": "c47fbbbceb367667",
   "outputs": [
    {
     "data": {
      "text/plain": [
       "tensor([3, 6, 9], dtype=torch.int32)"
      ]
     },
     "execution_count": 46,
     "metadata": {},
     "output_type": "execute_result"
    }
   ],
   "execution_count": 46
  },
  {
   "metadata": {},
   "cell_type": "markdown",
   "source": [
    "**Getting additional info from the tensors**\n",
    "\n",
    "1. tensor.shape\n",
    "2. tensor.device\n",
    "3. tensor.dtype"
   ],
   "id": "4d14f17d6ebfaaae"
  },
  {
   "metadata": {
    "ExecuteTime": {
     "end_time": "2024-08-06T18:19:01.571980Z",
     "start_time": "2024-08-06T18:19:01.541400Z"
    }
   },
   "cell_type": "code",
   "source": [
    "t1 = torch.rand(3, 4)\n",
    "print(f'Tensor: {t1}\\nData type: {t1.dtype}\\nShape: {t1.shape}\\nDevice: {t1.device}')"
   ],
   "id": "e69c8eb476f8261c",
   "outputs": [
    {
     "name": "stdout",
     "output_type": "stream",
     "text": [
      "Tensor: tensor([[0.0995, 0.0544, 0.1057, 0.6752],\n",
      "        [0.8737, 0.4085, 0.0432, 0.5709],\n",
      "        [0.4685, 0.7488, 0.1069, 0.2504]])\n",
      "Data type: torch.float32\n",
      "Shape: torch.Size([3, 4])\n",
      "Device: cpu\n"
     ]
    }
   ],
   "execution_count": 47
  },
  {
   "metadata": {},
   "cell_type": "markdown",
   "source": "**By default all the tensors will be saved on a CPU**",
   "id": "f2ee2d972c0126d8"
  },
  {
   "metadata": {},
   "cell_type": "markdown",
   "source": [
    "**Tensor Manipulation**\n",
    "\n",
    "1. Addition\n",
    "2. Subtraction\n",
    "3. Product (element-wise)\n",
    "4. Division\n",
    "5. Matrix multiplication"
   ],
   "id": "5ca336b560c60598"
  },
  {
   "metadata": {
    "ExecuteTime": {
     "end_time": "2024-08-06T18:19:01.587718Z",
     "start_time": "2024-08-06T18:19:01.573300Z"
    }
   },
   "cell_type": "code",
   "source": [
    "tensor = torch.tensor([1, 2, 3, 4, 5])\n",
    "tensor + 10"
   ],
   "id": "8d7a573d56513c69",
   "outputs": [
    {
     "data": {
      "text/plain": [
       "tensor([11, 12, 13, 14, 15])"
      ]
     },
     "execution_count": 48,
     "metadata": {},
     "output_type": "execute_result"
    }
   ],
   "execution_count": 48
  },
  {
   "metadata": {
    "ExecuteTime": {
     "end_time": "2024-08-06T18:19:01.700266Z",
     "start_time": "2024-08-06T18:19:01.697216Z"
    }
   },
   "cell_type": "code",
   "source": [
    "#Product\n",
    "tensor * tensor"
   ],
   "id": "1743fb60aa2bf23",
   "outputs": [
    {
     "data": {
      "text/plain": [
       "tensor([ 1,  4,  9, 16, 25])"
      ]
     },
     "execution_count": 49,
     "metadata": {},
     "output_type": "execute_result"
    }
   ],
   "execution_count": 49
  },
  {
   "metadata": {
    "ExecuteTime": {
     "end_time": "2024-08-06T18:19:02.194027Z",
     "start_time": "2024-08-06T18:19:02.190719Z"
    }
   },
   "cell_type": "code",
   "source": "tensor * 2",
   "id": "a1ffea59e732af8e",
   "outputs": [
    {
     "data": {
      "text/plain": [
       "tensor([ 2,  4,  6,  8, 10])"
      ]
     },
     "execution_count": 50,
     "metadata": {},
     "output_type": "execute_result"
    }
   ],
   "execution_count": 50
  },
  {
   "metadata": {
    "ExecuteTime": {
     "end_time": "2024-08-06T18:19:02.263130Z",
     "start_time": "2024-08-06T18:19:02.259491Z"
    }
   },
   "cell_type": "code",
   "source": "tensor - 20",
   "id": "efc545da9ac02771",
   "outputs": [
    {
     "data": {
      "text/plain": [
       "tensor([-19, -18, -17, -16, -15])"
      ]
     },
     "execution_count": 51,
     "metadata": {},
     "output_type": "execute_result"
    }
   ],
   "execution_count": 51
  },
  {
   "metadata": {
    "ExecuteTime": {
     "end_time": "2024-08-06T18:19:02.341797Z",
     "start_time": "2024-08-06T18:19:02.337741Z"
    }
   },
   "cell_type": "code",
   "source": [
    "#Testing PyTorch inbuilt functions\n",
    "torch.add(tensor, 10)"
   ],
   "id": "693ce7623f952dd6",
   "outputs": [
    {
     "data": {
      "text/plain": [
       "tensor([11, 12, 13, 14, 15])"
      ]
     },
     "execution_count": 52,
     "metadata": {},
     "output_type": "execute_result"
    }
   ],
   "execution_count": 52
  },
  {
   "metadata": {
    "ExecuteTime": {
     "end_time": "2024-08-06T18:19:02.419890Z",
     "start_time": "2024-08-06T18:19:02.416415Z"
    }
   },
   "cell_type": "code",
   "source": "torch.sub(tensor, 20)",
   "id": "c20bbae55ce7966a",
   "outputs": [
    {
     "data": {
      "text/plain": [
       "tensor([-19, -18, -17, -16, -15])"
      ]
     },
     "execution_count": 53,
     "metadata": {},
     "output_type": "execute_result"
    }
   ],
   "execution_count": 53
  },
  {
   "metadata": {
    "ExecuteTime": {
     "end_time": "2024-08-06T18:19:02.469543Z",
     "start_time": "2024-08-06T18:19:02.466370Z"
    }
   },
   "cell_type": "code",
   "source": "torch.mul(tensor, tensor)",
   "id": "9a3910439eb20957",
   "outputs": [
    {
     "data": {
      "text/plain": [
       "tensor([ 1,  4,  9, 16, 25])"
      ]
     },
     "execution_count": 54,
     "metadata": {},
     "output_type": "execute_result"
    }
   ],
   "execution_count": 54
  },
  {
   "metadata": {},
   "cell_type": "markdown",
   "source": [
    "**Matrix Multiplication**\n",
    "\n",
    "There are 2 ways of performing multiplication on tensors namely: element-wise and matrix multiplication (dot product)"
   ],
   "id": "a4f03ee964bac85"
  },
  {
   "metadata": {
    "ExecuteTime": {
     "end_time": "2024-08-06T18:19:02.532577Z",
     "start_time": "2024-08-06T18:19:02.528884Z"
    }
   },
   "cell_type": "code",
   "source": "torch.matmul(tensor, tensor)",
   "id": "e0781ec943eab718",
   "outputs": [
    {
     "data": {
      "text/plain": [
       "tensor(55)"
      ]
     },
     "execution_count": 55,
     "metadata": {},
     "output_type": "execute_result"
    }
   ],
   "execution_count": 55
  },
  {
   "metadata": {
    "ExecuteTime": {
     "end_time": "2024-08-06T18:19:02.577953Z",
     "start_time": "2024-08-06T18:19:02.574513Z"
    }
   },
   "cell_type": "code",
   "source": "tensor.shape",
   "id": "cbf177cec660def8",
   "outputs": [
    {
     "data": {
      "text/plain": [
       "torch.Size([5])"
      ]
     },
     "execution_count": 56,
     "metadata": {},
     "output_type": "execute_result"
    }
   ],
   "execution_count": 56
  },
  {
   "metadata": {
    "ExecuteTime": {
     "end_time": "2024-08-06T18:19:02.664192Z",
     "start_time": "2024-08-06T18:19:02.661195Z"
    }
   },
   "cell_type": "code",
   "source": [
    "#manual matrix multiplication\n",
    "product = 0\n",
    "for i in range (len(tensor)):\n",
    "    product = product + tensor[i] * tensor[i]\n",
    "product"
   ],
   "id": "9d9e3d591f8e2c03",
   "outputs": [
    {
     "data": {
      "text/plain": [
       "tensor(55)"
      ]
     },
     "execution_count": 57,
     "metadata": {},
     "output_type": "execute_result"
    }
   ],
   "execution_count": 57
  },
  {
   "metadata": {},
   "cell_type": "markdown",
   "source": [
    "**2 main rules of Matrix Multiplication**\n",
    "\n",
    "1. Inner dimensions have to match i.e. the final dim (no of columns) in the first matrix has to match with the no of rows (first dim) of the 2nd matrix\n",
    "2. The resulting matrix (product) will have the shape that matches the outer dimensions of the original matrices"
   ],
   "id": "87103b9b38b4d567"
  },
  {
   "metadata": {
    "ExecuteTime": {
     "end_time": "2024-08-06T18:19:02.729176Z",
     "start_time": "2024-08-06T18:19:02.725376Z"
    }
   },
   "cell_type": "code",
   "source": [
    "#Dealing with tensor shape errors\n",
    "Tensor_A = torch.tensor([[1, 2], [3, 4], [5, 6]])\n",
    "Tensor_B = torch.tensor([[7, 8], [9, 10], [11, 12]])\n",
    "\n",
    "torch.matmul(Tensor_A, Tensor_B.mT)"
   ],
   "id": "8c9dc45efc04467",
   "outputs": [
    {
     "data": {
      "text/plain": [
       "tensor([[ 23,  29,  35],\n",
       "        [ 53,  67,  81],\n",
       "        [ 83, 105, 127]])"
      ]
     },
     "execution_count": 58,
     "metadata": {},
     "output_type": "execute_result"
    }
   ],
   "execution_count": 58
  },
  {
   "metadata": {},
   "cell_type": "markdown",
   "source": "**Note: mm is short for matmul; mT gives transpose of tensors**",
   "id": "391cb25e2e848436"
  },
  {
   "metadata": {
    "ExecuteTime": {
     "end_time": "2024-08-06T18:19:02.776115Z",
     "start_time": "2024-08-06T18:19:02.772992Z"
    }
   },
   "cell_type": "code",
   "source": "Tensor_B.shape",
   "id": "46f845409140bb75",
   "outputs": [
    {
     "data": {
      "text/plain": [
       "torch.Size([3, 2])"
      ]
     },
     "execution_count": 59,
     "metadata": {},
     "output_type": "execute_result"
    }
   ],
   "execution_count": 59
  },
  {
   "metadata": {
    "ExecuteTime": {
     "end_time": "2024-08-06T18:19:02.855444Z",
     "start_time": "2024-08-06T18:19:02.851976Z"
    }
   },
   "cell_type": "code",
   "source": "Tensor_B.mT.shape",
   "id": "b1aa5ed6c8a30118",
   "outputs": [
    {
     "data": {
      "text/plain": [
       "torch.Size([2, 3])"
      ]
     },
     "execution_count": 60,
     "metadata": {},
     "output_type": "execute_result"
    }
   ],
   "execution_count": 60
  },
  {
   "metadata": {},
   "cell_type": "markdown",
   "source": "**Note: tensor.T also works for getting the transpose of a tensor but it will be deprecated in the future; Therefore, we should use tensor.mT; However for 1-D tensor (vector) .mT doesn't work and .T has to be used**",
   "id": "dcc9f2daa34983db"
  },
  {
   "metadata": {
    "ExecuteTime": {
     "end_time": "2024-08-06T18:19:02.886556Z",
     "start_time": "2024-08-06T18:19:02.882710Z"
    }
   },
   "cell_type": "code",
   "source": [
    "print(f'Tensor-A: {Tensor_A}')\n",
    "print(f'Tensor-B: {Tensor_B}')\n",
    "print(f'Shape of Tensor-A: {Tensor_A.shape}\\nShape of Tensor-B: {Tensor_B.shape}')\n",
    "print(f'Transpose of Tensor-B: {Tensor_B.T}\\nShape of Tensor-B Transpose: {Tensor_A.T.shape}')\n",
    "print(f'Dot Product of Tensor-A and Transpose of Tensor-B: {torch.matmul(Tensor_A, Tensor_B.T)}')\n",
    "print(f'Transpose of Tensor-A: {Tensor_A.T}\\nShape of Tensor-A Transpose {Tensor_A.T.shape}')\n",
    "print(f'Dot Product of Tensor-A Transpose and Tensor-B: {torch.matmul(Tensor_A.T, Tensor_B)}')"
   ],
   "id": "c968e202a6f298ba",
   "outputs": [
    {
     "name": "stdout",
     "output_type": "stream",
     "text": [
      "Tensor-A: tensor([[1, 2],\n",
      "        [3, 4],\n",
      "        [5, 6]])\n",
      "Tensor-B: tensor([[ 7,  8],\n",
      "        [ 9, 10],\n",
      "        [11, 12]])\n",
      "Shape of Tensor-A: torch.Size([3, 2])\n",
      "Shape of Tensor-B: torch.Size([3, 2])\n",
      "Transpose of Tensor-B: tensor([[ 7,  9, 11],\n",
      "        [ 8, 10, 12]])\n",
      "Shape of Tensor-B Transpose: torch.Size([2, 3])\n",
      "Dot Product of Tensor-A and Transpose of Tensor-B: tensor([[ 23,  29,  35],\n",
      "        [ 53,  67,  81],\n",
      "        [ 83, 105, 127]])\n",
      "Transpose of Tensor-A: tensor([[1, 3, 5],\n",
      "        [2, 4, 6]])\n",
      "Shape of Tensor-A Transpose torch.Size([2, 3])\n",
      "Dot Product of Tensor-A Transpose and Tensor-B: tensor([[ 89,  98],\n",
      "        [116, 128]])\n"
     ]
    }
   ],
   "execution_count": 61
  },
  {
   "metadata": {},
   "cell_type": "markdown",
   "source": [
    "**Tensor Aggregation operations**\n",
    "\n",
    "1. min\n",
    "2. max\n",
    "3. mean"
   ],
   "id": "91a60986b67509da"
  },
  {
   "metadata": {
    "ExecuteTime": {
     "end_time": "2024-08-06T18:19:02.968593Z",
     "start_time": "2024-08-06T18:19:02.965425Z"
    }
   },
   "cell_type": "code",
   "source": [
    "Tensor = torch.tensor([[1, 2, 3], [4, 5, 6]])\n",
    "torch.max(Tensor)"
   ],
   "id": "ba07a793a7815748",
   "outputs": [
    {
     "data": {
      "text/plain": [
       "tensor(6)"
      ]
     },
     "execution_count": 62,
     "metadata": {},
     "output_type": "execute_result"
    }
   ],
   "execution_count": 62
  },
  {
   "metadata": {
    "ExecuteTime": {
     "end_time": "2024-08-06T18:19:03.023445Z",
     "start_time": "2024-08-06T18:19:03.019932Z"
    }
   },
   "cell_type": "code",
   "source": "torch.min(Tensor)",
   "id": "782b2a1b42cf07b2",
   "outputs": [
    {
     "data": {
      "text/plain": [
       "tensor(1)"
      ]
     },
     "execution_count": 63,
     "metadata": {},
     "output_type": "execute_result"
    }
   ],
   "execution_count": 63
  },
  {
   "metadata": {
    "ExecuteTime": {
     "end_time": "2024-08-06T18:19:03.132037Z",
     "start_time": "2024-08-06T18:19:03.128388Z"
    }
   },
   "cell_type": "code",
   "source": "torch.sum(Tensor)",
   "id": "380bf91171e63286",
   "outputs": [
    {
     "data": {
      "text/plain": [
       "tensor(21)"
      ]
     },
     "execution_count": 64,
     "metadata": {},
     "output_type": "execute_result"
    }
   ],
   "execution_count": 64
  },
  {
   "metadata": {
    "ExecuteTime": {
     "end_time": "2024-08-06T18:19:03.175516Z",
     "start_time": "2024-08-06T18:19:03.171948Z"
    }
   },
   "cell_type": "code",
   "source": [
    "#Now checking if all these operations also work with the same tensor but with long data type\n",
    "Tensor = Tensor.type(dtype = torch.long)\n",
    "torch.max(Tensor)"
   ],
   "id": "1ae8a9d3d44d9a40",
   "outputs": [
    {
     "data": {
      "text/plain": [
       "tensor(6)"
      ]
     },
     "execution_count": 65,
     "metadata": {},
     "output_type": "execute_result"
    }
   ],
   "execution_count": 65
  },
  {
   "metadata": {
    "ExecuteTime": {
     "end_time": "2024-08-06T18:19:03.251075Z",
     "start_time": "2024-08-06T18:19:03.247636Z"
    }
   },
   "cell_type": "code",
   "source": "Tensor.dtype",
   "id": "daa944f1e4acd2a6",
   "outputs": [
    {
     "data": {
      "text/plain": [
       "torch.int64"
      ]
     },
     "execution_count": 66,
     "metadata": {},
     "output_type": "execute_result"
    }
   ],
   "execution_count": 66
  },
  {
   "metadata": {
    "ExecuteTime": {
     "end_time": "2024-08-06T18:19:03.401112Z",
     "start_time": "2024-08-06T18:19:03.269237Z"
    }
   },
   "cell_type": "code",
   "source": "torch.mean(Tensor)",
   "id": "80d603f7f4237533",
   "outputs": [
    {
     "ename": "RuntimeError",
     "evalue": "mean(): could not infer output dtype. Input dtype must be either a floating point or complex dtype. Got: Long",
     "output_type": "error",
     "traceback": [
      "\u001B[0;31m---------------------------------------------------------------------------\u001B[0m",
      "\u001B[0;31mRuntimeError\u001B[0m                              Traceback (most recent call last)",
      "Cell \u001B[0;32mIn[67], line 1\u001B[0m\n\u001B[0;32m----> 1\u001B[0m \u001B[43mtorch\u001B[49m\u001B[38;5;241;43m.\u001B[39;49m\u001B[43mmean\u001B[49m\u001B[43m(\u001B[49m\u001B[43mTensor\u001B[49m\u001B[43m)\u001B[49m\n",
      "\u001B[0;31mRuntimeError\u001B[0m: mean(): could not infer output dtype. Input dtype must be either a floating point or complex dtype. Got: Long"
     ]
    }
   ],
   "execution_count": 67
  },
  {
   "metadata": {},
   "cell_type": "markdown",
   "source": "**Note: torch.mean works only with float and complex dtype**",
   "id": "a3101ccb74fdeba5"
  },
  {
   "metadata": {},
   "cell_type": "code",
   "source": "torch.mean(Tensor.type(dtype = torch.float32))",
   "id": "2c545a046a4054ba",
   "outputs": [],
   "execution_count": null
  },
  {
   "metadata": {},
   "cell_type": "code",
   "source": "torch.sum(Tensor)",
   "id": "35636e989c1edad9",
   "outputs": [],
   "execution_count": null
  },
  {
   "metadata": {
    "ExecuteTime": {
     "end_time": "2024-08-06T18:19:03.441595Z",
     "start_time": "2024-08-06T18:19:03.438358Z"
    }
   },
   "cell_type": "code",
   "source": "Tensor.sum()",
   "id": "fc66fb322481fdac",
   "outputs": [
    {
     "data": {
      "text/plain": [
       "tensor(21)"
      ]
     },
     "execution_count": 68,
     "metadata": {},
     "output_type": "execute_result"
    }
   ],
   "execution_count": 68
  },
  {
   "metadata": {},
   "cell_type": "markdown",
   "source": "**Note: Both Tensor.sum() & torch.sum(Tensor) work and they return the sum of all the elements in the tensor**",
   "id": "1c30b9f875e09f81"
  },
  {
   "metadata": {
    "ExecuteTime": {
     "end_time": "2024-08-06T18:19:03.470445Z",
     "start_time": "2024-08-06T18:19:03.455680Z"
    }
   },
   "cell_type": "code",
   "source": "torch.argmax(Tensor)",
   "id": "8e75bf8ea58a62e3",
   "outputs": [
    {
     "data": {
      "text/plain": [
       "tensor(5)"
      ]
     },
     "execution_count": 69,
     "metadata": {},
     "output_type": "execute_result"
    }
   ],
   "execution_count": 69
  },
  {
   "metadata": {
    "ExecuteTime": {
     "end_time": "2024-08-06T18:19:03.493904Z",
     "start_time": "2024-08-06T18:19:03.490301Z"
    }
   },
   "cell_type": "code",
   "source": "torch.argmin(Tensor)",
   "id": "427579f8bba7c564",
   "outputs": [
    {
     "data": {
      "text/plain": [
       "tensor(0)"
      ]
     },
     "execution_count": 70,
     "metadata": {},
     "output_type": "execute_result"
    }
   ],
   "execution_count": 70
  },
  {
   "metadata": {
    "ExecuteTime": {
     "end_time": "2024-08-06T18:19:03.997426Z",
     "start_time": "2024-08-06T18:19:03.994117Z"
    }
   },
   "cell_type": "code",
   "source": "Tensor",
   "id": "ccd24e5f198665df",
   "outputs": [
    {
     "data": {
      "text/plain": [
       "tensor([[1, 2, 3],\n",
       "        [4, 5, 6]])"
      ]
     },
     "execution_count": 71,
     "metadata": {},
     "output_type": "execute_result"
    }
   ],
   "execution_count": 71
  },
  {
   "metadata": {},
   "cell_type": "markdown",
   "source": "**Note: Both Tensor.argmax() or Torch.argmin() & torch.argmin(Tensor) or torch.argmax(Tensor) work ,and they return the index or position of the largest and the smallest elements in a tensor**",
   "id": "edea60f8607ed260"
  },
  {
   "metadata": {
    "ExecuteTime": {
     "end_time": "2024-08-06T18:19:04.060329Z",
     "start_time": "2024-08-06T18:19:04.056802Z"
    }
   },
   "cell_type": "code",
   "source": "Tensor.argmin()",
   "id": "f985b7b2cdb06559",
   "outputs": [
    {
     "data": {
      "text/plain": [
       "tensor(0)"
      ]
     },
     "execution_count": 72,
     "metadata": {},
     "output_type": "execute_result"
    }
   ],
   "execution_count": 72
  },
  {
   "metadata": {
    "ExecuteTime": {
     "end_time": "2024-08-06T18:19:04.151009Z",
     "start_time": "2024-08-06T18:19:04.147494Z"
    }
   },
   "cell_type": "code",
   "source": "Tensor.argmax()",
   "id": "42cfedfcddf236fa",
   "outputs": [
    {
     "data": {
      "text/plain": [
       "tensor(5)"
      ]
     },
     "execution_count": 73,
     "metadata": {},
     "output_type": "execute_result"
    }
   ],
   "execution_count": 73
  },
  {
   "metadata": {},
   "cell_type": "markdown",
   "source": [
    "**Reshaping, viweing and stacking Tensors**\n",
    "\n",
    "1. **Reshaping:** Converting the shape of a tensor to a desired one\n",
    "2. **View:** Return a view of inputs tensor of certain shape but still keeps the same original tensor in the memory\n",
    "3. **Stacking:** Combining multiple tensors on top of each other (vstack) or side-by-side (hstack)\n",
    "4. **Squeeze:** Removes all the 1 dimensions from the tensor\n",
    "5. **Unsqueeze:** Adds a 1 dimension to the tensor\n",
    "6. **Permute:** Return a view of the input with dimensions permuted (swapped) in a certain way"
   ],
   "id": "988ade11e3a02a13"
  },
  {
   "metadata": {
    "ExecuteTime": {
     "end_time": "2024-08-06T18:19:04.172002Z",
     "start_time": "2024-08-06T18:19:04.168641Z"
    }
   },
   "cell_type": "code",
   "source": [
    "x = torch.arange(1., 10.)\n",
    "x, x.shape"
   ],
   "id": "4547a4bdcadf5750",
   "outputs": [
    {
     "data": {
      "text/plain": [
       "(tensor([1., 2., 3., 4., 5., 6., 7., 8., 9.]), torch.Size([9]))"
      ]
     },
     "execution_count": 74,
     "metadata": {},
     "output_type": "execute_result"
    }
   ],
   "execution_count": 74
  },
  {
   "metadata": {
    "ExecuteTime": {
     "end_time": "2024-08-06T18:19:04.228811Z",
     "start_time": "2024-08-06T18:19:04.225179Z"
    }
   },
   "cell_type": "code",
   "source": [
    "#Adding an extra dimension\n",
    "x = x.reshape(1, 9)\n",
    "x"
   ],
   "id": "e1c44ee576c80392",
   "outputs": [
    {
     "data": {
      "text/plain": [
       "tensor([[1., 2., 3., 4., 5., 6., 7., 8., 9.]])"
      ]
     },
     "execution_count": 75,
     "metadata": {},
     "output_type": "execute_result"
    }
   ],
   "execution_count": 75
  },
  {
   "metadata": {
    "ExecuteTime": {
     "end_time": "2024-08-06T18:19:04.260082Z",
     "start_time": "2024-08-06T18:19:04.257053Z"
    }
   },
   "cell_type": "code",
   "source": "x.shape",
   "id": "7391f25e05fa7d53",
   "outputs": [
    {
     "data": {
      "text/plain": [
       "torch.Size([1, 9])"
      ]
     },
     "execution_count": 76,
     "metadata": {},
     "output_type": "execute_result"
    }
   ],
   "execution_count": 76
  },
  {
   "metadata": {
    "ExecuteTime": {
     "end_time": "2024-08-06T18:19:04.328202Z",
     "start_time": "2024-08-06T18:19:04.324752Z"
    }
   },
   "cell_type": "code",
   "source": [
    "#Changing the view of tensor\n",
    "z = x.view(9, 1)\n",
    "z"
   ],
   "id": "f390b4aeadaeb4bd",
   "outputs": [
    {
     "data": {
      "text/plain": [
       "tensor([[1.],\n",
       "        [2.],\n",
       "        [3.],\n",
       "        [4.],\n",
       "        [5.],\n",
       "        [6.],\n",
       "        [7.],\n",
       "        [8.],\n",
       "        [9.]])"
      ]
     },
     "execution_count": 77,
     "metadata": {},
     "output_type": "execute_result"
    }
   ],
   "execution_count": 77
  },
  {
   "metadata": {
    "ExecuteTime": {
     "end_time": "2024-08-06T18:19:04.356930Z",
     "start_time": "2024-08-06T18:19:04.354082Z"
    }
   },
   "cell_type": "code",
   "source": "z.shape",
   "id": "65dc58275798e417",
   "outputs": [
    {
     "data": {
      "text/plain": [
       "torch.Size([9, 1])"
      ]
     },
     "execution_count": 78,
     "metadata": {},
     "output_type": "execute_result"
    }
   ],
   "execution_count": 78
  },
  {
   "metadata": {},
   "cell_type": "markdown",
   "source": "**Note: Here z shares the same memory as x and both aren't separate tensors. Therefore changing any element or anything in x or z brings about the same change in the other**",
   "id": "a3a2cd86f462f666"
  },
  {
   "metadata": {},
   "cell_type": "markdown",
   "source": "**Stacking Tensors**",
   "id": "c15e392cc209b930"
  },
  {
   "metadata": {
    "ExecuteTime": {
     "end_time": "2024-08-06T18:19:04.414481Z",
     "start_time": "2024-08-06T18:19:04.411158Z"
    }
   },
   "cell_type": "code",
   "source": [
    "x_stacked = torch.stack([x, x, x, x])\n",
    "x_stacked"
   ],
   "id": "6d13a907c04afb3f",
   "outputs": [
    {
     "data": {
      "text/plain": [
       "tensor([[[1., 2., 3., 4., 5., 6., 7., 8., 9.]],\n",
       "\n",
       "        [[1., 2., 3., 4., 5., 6., 7., 8., 9.]],\n",
       "\n",
       "        [[1., 2., 3., 4., 5., 6., 7., 8., 9.]],\n",
       "\n",
       "        [[1., 2., 3., 4., 5., 6., 7., 8., 9.]]])"
      ]
     },
     "execution_count": 79,
     "metadata": {},
     "output_type": "execute_result"
    }
   ],
   "execution_count": 79
  },
  {
   "metadata": {},
   "cell_type": "markdown",
   "source": "**Note: By default torch.stack takes a list of tensors as arguments and default is 0 which results in stacking along axis = 0 which is hstack (horizontal stacking)**",
   "id": "b642a40e3f0be152"
  },
  {
   "metadata": {
    "ExecuteTime": {
     "end_time": "2024-08-06T18:19:04.451379Z",
     "start_time": "2024-08-06T18:19:04.447340Z"
    }
   },
   "cell_type": "code",
   "source": [
    "x_stacked_1 = torch.stack([x, x, x, x], dim = 1)\n",
    "x_stacked_1"
   ],
   "id": "e47c5b8330875887",
   "outputs": [
    {
     "data": {
      "text/plain": [
       "tensor([[[1., 2., 3., 4., 5., 6., 7., 8., 9.],\n",
       "         [1., 2., 3., 4., 5., 6., 7., 8., 9.],\n",
       "         [1., 2., 3., 4., 5., 6., 7., 8., 9.],\n",
       "         [1., 2., 3., 4., 5., 6., 7., 8., 9.]]])"
      ]
     },
     "execution_count": 80,
     "metadata": {},
     "output_type": "execute_result"
    }
   ],
   "execution_count": 80
  },
  {
   "metadata": {
    "ExecuteTime": {
     "end_time": "2024-08-06T18:19:04.523594Z",
     "start_time": "2024-08-06T18:19:04.520817Z"
    }
   },
   "cell_type": "code",
   "source": "x_stacked_1.shape",
   "id": "449a3fb849dbe8e3",
   "outputs": [
    {
     "data": {
      "text/plain": [
       "torch.Size([1, 4, 9])"
      ]
     },
     "execution_count": 81,
     "metadata": {},
     "output_type": "execute_result"
    }
   ],
   "execution_count": 81
  },
  {
   "metadata": {
    "ExecuteTime": {
     "end_time": "2024-08-06T18:19:04.553955Z",
     "start_time": "2024-08-06T18:19:04.551068Z"
    }
   },
   "cell_type": "code",
   "source": "x_stacked.shape",
   "id": "e6b432fd0531e084",
   "outputs": [
    {
     "data": {
      "text/plain": [
       "torch.Size([4, 1, 9])"
      ]
     },
     "execution_count": 82,
     "metadata": {},
     "output_type": "execute_result"
    }
   ],
   "execution_count": 82
  },
  {
   "metadata": {},
   "cell_type": "markdown",
   "source": "**Squeezing and unsqueezing tensors**",
   "id": "1e54ddb37f396e24"
  },
  {
   "metadata": {
    "ExecuteTime": {
     "end_time": "2024-08-06T18:19:04.628241Z",
     "start_time": "2024-08-06T18:19:04.625325Z"
    }
   },
   "cell_type": "code",
   "source": "x",
   "id": "549842d14e46b10c",
   "outputs": [
    {
     "data": {
      "text/plain": [
       "tensor([[1., 2., 3., 4., 5., 6., 7., 8., 9.]])"
      ]
     },
     "execution_count": 83,
     "metadata": {},
     "output_type": "execute_result"
    }
   ],
   "execution_count": 83
  },
  {
   "metadata": {
    "ExecuteTime": {
     "end_time": "2024-08-06T18:19:04.661737Z",
     "start_time": "2024-08-06T18:19:04.658919Z"
    }
   },
   "cell_type": "code",
   "source": "x.shape",
   "id": "4f423ef8081f0cf3",
   "outputs": [
    {
     "data": {
      "text/plain": [
       "torch.Size([1, 9])"
      ]
     },
     "execution_count": 84,
     "metadata": {},
     "output_type": "execute_result"
    }
   ],
   "execution_count": 84
  },
  {
   "metadata": {
    "ExecuteTime": {
     "end_time": "2024-08-06T18:19:04.730873Z",
     "start_time": "2024-08-06T18:19:04.727344Z"
    }
   },
   "cell_type": "code",
   "source": "torch.squeeze(x).shape",
   "id": "843114d6f219ed2",
   "outputs": [
    {
     "data": {
      "text/plain": [
       "torch.Size([9])"
      ]
     },
     "execution_count": 85,
     "metadata": {},
     "output_type": "execute_result"
    }
   ],
   "execution_count": 85
  },
  {
   "metadata": {
    "ExecuteTime": {
     "end_time": "2024-08-06T18:19:04.758981Z",
     "start_time": "2024-08-06T18:19:04.755477Z"
    }
   },
   "cell_type": "code",
   "source": "torch.unsqueeze(x, dim = 1).shape",
   "id": "d15fd29f08948207",
   "outputs": [
    {
     "data": {
      "text/plain": [
       "torch.Size([1, 1, 9])"
      ]
     },
     "execution_count": 86,
     "metadata": {},
     "output_type": "execute_result"
    }
   ],
   "execution_count": 86
  },
  {
   "metadata": {},
   "cell_type": "markdown",
   "source": "**unsqueeze requires dim as an argument to determine where to add the next dimension**",
   "id": "6391c364f3a55ebd"
  },
  {
   "metadata": {
    "ExecuteTime": {
     "end_time": "2024-08-06T18:19:04.819102Z",
     "start_time": "2024-08-06T18:19:04.815668Z"
    }
   },
   "cell_type": "code",
   "source": "x.shape",
   "id": "4bb3723942db097",
   "outputs": [
    {
     "data": {
      "text/plain": [
       "torch.Size([1, 9])"
      ]
     },
     "execution_count": 87,
     "metadata": {},
     "output_type": "execute_result"
    }
   ],
   "execution_count": 87
  },
  {
   "metadata": {
    "ExecuteTime": {
     "end_time": "2024-08-06T18:19:04.852663Z",
     "start_time": "2024-08-06T18:19:04.849271Z"
    }
   },
   "cell_type": "code",
   "source": [
    "x = torch.squeeze(x)\n",
    "x"
   ],
   "id": "6da1b588084336b1",
   "outputs": [
    {
     "data": {
      "text/plain": [
       "tensor([1., 2., 3., 4., 5., 6., 7., 8., 9.])"
      ]
     },
     "execution_count": 88,
     "metadata": {},
     "output_type": "execute_result"
    }
   ],
   "execution_count": 88
  },
  {
   "metadata": {
    "ExecuteTime": {
     "end_time": "2024-08-06T18:19:04.919053Z",
     "start_time": "2024-08-06T18:19:04.916350Z"
    }
   },
   "cell_type": "code",
   "source": "x.shape",
   "id": "8b7c268489fc1ed5",
   "outputs": [
    {
     "data": {
      "text/plain": [
       "torch.Size([9])"
      ]
     },
     "execution_count": 89,
     "metadata": {},
     "output_type": "execute_result"
    }
   ],
   "execution_count": 89
  },
  {
   "metadata": {
    "ExecuteTime": {
     "end_time": "2024-08-06T18:19:04.947609Z",
     "start_time": "2024-08-06T18:19:04.943692Z"
    }
   },
   "cell_type": "code",
   "source": [
    "y = torch.unsqueeze(x, dim = 0)\n",
    "y"
   ],
   "id": "d82b1c4c9f1c7be6",
   "outputs": [
    {
     "data": {
      "text/plain": [
       "tensor([[1., 2., 3., 4., 5., 6., 7., 8., 9.]])"
      ]
     },
     "execution_count": 90,
     "metadata": {},
     "output_type": "execute_result"
    }
   ],
   "execution_count": 90
  },
  {
   "metadata": {
    "ExecuteTime": {
     "end_time": "2024-08-06T18:19:05.005499Z",
     "start_time": "2024-08-06T18:19:05.001740Z"
    }
   },
   "cell_type": "code",
   "source": "y.shape",
   "id": "c00e37ec7c34f35f",
   "outputs": [
    {
     "data": {
      "text/plain": [
       "torch.Size([1, 9])"
      ]
     },
     "execution_count": 91,
     "metadata": {},
     "output_type": "execute_result"
    }
   ],
   "execution_count": 91
  },
  {
   "metadata": {
    "ExecuteTime": {
     "end_time": "2024-08-06T18:19:05.036766Z",
     "start_time": "2024-08-06T18:19:05.033139Z"
    }
   },
   "cell_type": "code",
   "source": [
    "z = torch.unsqueeze(x, dim = 1)\n",
    "z, z.shape"
   ],
   "id": "f6facbf47abdce74",
   "outputs": [
    {
     "data": {
      "text/plain": [
       "(tensor([[1.],\n",
       "         [2.],\n",
       "         [3.],\n",
       "         [4.],\n",
       "         [5.],\n",
       "         [6.],\n",
       "         [7.],\n",
       "         [8.],\n",
       "         [9.]]),\n",
       " torch.Size([9, 1]))"
      ]
     },
     "execution_count": 92,
     "metadata": {},
     "output_type": "execute_result"
    }
   ],
   "execution_count": 92
  },
  {
   "metadata": {},
   "cell_type": "markdown",
   "source": "**Note: torch.unsqueeze(dim = 0) adds 1 dim in the beginning while torch.unsqueeze(dim = 1) adds 1 dim at the end of the tensor**",
   "id": "1ca7f6e6dd2ddbe4"
  },
  {
   "metadata": {
    "ExecuteTime": {
     "end_time": "2024-08-06T18:19:05.104586Z",
     "start_time": "2024-08-06T18:19:05.100414Z"
    }
   },
   "cell_type": "code",
   "source": [
    "#Torch.permute rearranges the dimensions of the tensors in a specified order\n",
    "tensor  = torch.rand(size = (3, 224, 224))\n",
    "tensor"
   ],
   "id": "b72383694a3729af",
   "outputs": [
    {
     "data": {
      "text/plain": [
       "tensor([[[0.9872, 0.8641, 0.2094,  ..., 0.7278, 0.2570, 0.3022],\n",
       "         [0.0443, 0.7787, 0.9490,  ..., 0.5902, 0.1355, 0.4092],\n",
       "         [0.5216, 0.5685, 0.5044,  ..., 0.8061, 0.0529, 0.8200],\n",
       "         ...,\n",
       "         [0.2187, 0.5150, 0.5509,  ..., 0.4603, 0.9346, 0.7710],\n",
       "         [0.2504, 0.0635, 0.3310,  ..., 0.9923, 0.4690, 0.8146],\n",
       "         [0.6913, 0.8472, 0.8371,  ..., 0.0650, 0.2138, 0.1161]],\n",
       "\n",
       "        [[0.3264, 0.7273, 0.0493,  ..., 0.7387, 0.5815, 0.9115],\n",
       "         [0.0644, 0.9226, 0.6776,  ..., 0.3511, 0.4185, 0.8914],\n",
       "         [0.4582, 0.3806, 0.9886,  ..., 0.3879, 0.3589, 0.5774],\n",
       "         ...,\n",
       "         [0.0430, 0.4825, 0.7102,  ..., 0.8772, 0.7297, 0.5583],\n",
       "         [0.3240, 0.9784, 0.7885,  ..., 0.5130, 0.9675, 0.8626],\n",
       "         [0.6368, 0.2346, 0.0738,  ..., 0.9598, 0.7536, 0.1121]],\n",
       "\n",
       "        [[0.2939, 0.5167, 0.0720,  ..., 0.6451, 0.8537, 0.4399],\n",
       "         [0.8746, 0.1901, 0.7924,  ..., 0.3763, 0.6313, 0.0903],\n",
       "         [0.3738, 0.8118, 0.2815,  ..., 0.5643, 0.5916, 0.2566],\n",
       "         ...,\n",
       "         [0.9849, 0.9206, 0.1274,  ..., 0.4234, 0.7044, 0.2494],\n",
       "         [0.4673, 0.1768, 0.3881,  ..., 0.7794, 0.4287, 0.1647],\n",
       "         [0.6515, 0.8931, 0.4930,  ..., 0.4116, 0.7569, 0.4234]]])"
      ]
     },
     "execution_count": 93,
     "metadata": {},
     "output_type": "execute_result"
    }
   ],
   "execution_count": 93
  },
  {
   "metadata": {
    "ExecuteTime": {
     "end_time": "2024-08-06T18:19:05.137392Z",
     "start_time": "2024-08-06T18:19:05.132842Z"
    }
   },
   "cell_type": "code",
   "source": [
    "img_tensor = torch.permute(tensor, (1, 2, 0))\n",
    "img_tensor"
   ],
   "id": "5352da517625d905",
   "outputs": [
    {
     "data": {
      "text/plain": [
       "tensor([[[0.9872, 0.3264, 0.2939],\n",
       "         [0.8641, 0.7273, 0.5167],\n",
       "         [0.2094, 0.0493, 0.0720],\n",
       "         ...,\n",
       "         [0.7278, 0.7387, 0.6451],\n",
       "         [0.2570, 0.5815, 0.8537],\n",
       "         [0.3022, 0.9115, 0.4399]],\n",
       "\n",
       "        [[0.0443, 0.0644, 0.8746],\n",
       "         [0.7787, 0.9226, 0.1901],\n",
       "         [0.9490, 0.6776, 0.7924],\n",
       "         ...,\n",
       "         [0.5902, 0.3511, 0.3763],\n",
       "         [0.1355, 0.4185, 0.6313],\n",
       "         [0.4092, 0.8914, 0.0903]],\n",
       "\n",
       "        [[0.5216, 0.4582, 0.3738],\n",
       "         [0.5685, 0.3806, 0.8118],\n",
       "         [0.5044, 0.9886, 0.2815],\n",
       "         ...,\n",
       "         [0.8061, 0.3879, 0.5643],\n",
       "         [0.0529, 0.3589, 0.5916],\n",
       "         [0.8200, 0.5774, 0.2566]],\n",
       "\n",
       "        ...,\n",
       "\n",
       "        [[0.2187, 0.0430, 0.9849],\n",
       "         [0.5150, 0.4825, 0.9206],\n",
       "         [0.5509, 0.7102, 0.1274],\n",
       "         ...,\n",
       "         [0.4603, 0.8772, 0.4234],\n",
       "         [0.9346, 0.7297, 0.7044],\n",
       "         [0.7710, 0.5583, 0.2494]],\n",
       "\n",
       "        [[0.2504, 0.3240, 0.4673],\n",
       "         [0.0635, 0.9784, 0.1768],\n",
       "         [0.3310, 0.7885, 0.3881],\n",
       "         ...,\n",
       "         [0.9923, 0.5130, 0.7794],\n",
       "         [0.4690, 0.9675, 0.4287],\n",
       "         [0.8146, 0.8626, 0.1647]],\n",
       "\n",
       "        [[0.6913, 0.6368, 0.6515],\n",
       "         [0.8472, 0.2346, 0.8931],\n",
       "         [0.8371, 0.0738, 0.4930],\n",
       "         ...,\n",
       "         [0.0650, 0.9598, 0.4116],\n",
       "         [0.2138, 0.7536, 0.7569],\n",
       "         [0.1161, 0.1121, 0.4234]]])"
      ]
     },
     "execution_count": 94,
     "metadata": {},
     "output_type": "execute_result"
    }
   ],
   "execution_count": 94
  },
  {
   "metadata": {
    "ExecuteTime": {
     "end_time": "2024-08-06T18:19:05.210720Z",
     "start_time": "2024-08-06T18:19:05.206997Z"
    }
   },
   "cell_type": "code",
   "source": "img_tensor.shape, tensor.shape",
   "id": "3d4fd6eb2e087b49",
   "outputs": [
    {
     "data": {
      "text/plain": [
       "(torch.Size([224, 224, 3]), torch.Size([3, 224, 224]))"
      ]
     },
     "execution_count": 95,
     "metadata": {},
     "output_type": "execute_result"
    }
   ],
   "execution_count": 95
  },
  {
   "metadata": {
    "ExecuteTime": {
     "end_time": "2024-08-06T18:19:05.243272Z",
     "start_time": "2024-08-06T18:19:05.238083Z"
    }
   },
   "cell_type": "code",
   "source": [
    "img_tensor = torch.permute(tensor, (2, 1, 0))\n",
    "img_tensor, img_tensor.shape"
   ],
   "id": "f3a87483bcbd1a5e",
   "outputs": [
    {
     "data": {
      "text/plain": [
       "(tensor([[[0.9872, 0.3264, 0.2939],\n",
       "          [0.0443, 0.0644, 0.8746],\n",
       "          [0.5216, 0.4582, 0.3738],\n",
       "          ...,\n",
       "          [0.2187, 0.0430, 0.9849],\n",
       "          [0.2504, 0.3240, 0.4673],\n",
       "          [0.6913, 0.6368, 0.6515]],\n",
       " \n",
       "         [[0.8641, 0.7273, 0.5167],\n",
       "          [0.7787, 0.9226, 0.1901],\n",
       "          [0.5685, 0.3806, 0.8118],\n",
       "          ...,\n",
       "          [0.5150, 0.4825, 0.9206],\n",
       "          [0.0635, 0.9784, 0.1768],\n",
       "          [0.8472, 0.2346, 0.8931]],\n",
       " \n",
       "         [[0.2094, 0.0493, 0.0720],\n",
       "          [0.9490, 0.6776, 0.7924],\n",
       "          [0.5044, 0.9886, 0.2815],\n",
       "          ...,\n",
       "          [0.5509, 0.7102, 0.1274],\n",
       "          [0.3310, 0.7885, 0.3881],\n",
       "          [0.8371, 0.0738, 0.4930]],\n",
       " \n",
       "         ...,\n",
       " \n",
       "         [[0.7278, 0.7387, 0.6451],\n",
       "          [0.5902, 0.3511, 0.3763],\n",
       "          [0.8061, 0.3879, 0.5643],\n",
       "          ...,\n",
       "          [0.4603, 0.8772, 0.4234],\n",
       "          [0.9923, 0.5130, 0.7794],\n",
       "          [0.0650, 0.9598, 0.4116]],\n",
       " \n",
       "         [[0.2570, 0.5815, 0.8537],\n",
       "          [0.1355, 0.4185, 0.6313],\n",
       "          [0.0529, 0.3589, 0.5916],\n",
       "          ...,\n",
       "          [0.9346, 0.7297, 0.7044],\n",
       "          [0.4690, 0.9675, 0.4287],\n",
       "          [0.2138, 0.7536, 0.7569]],\n",
       " \n",
       "         [[0.3022, 0.9115, 0.4399],\n",
       "          [0.4092, 0.8914, 0.0903],\n",
       "          [0.8200, 0.5774, 0.2566],\n",
       "          ...,\n",
       "          [0.7710, 0.5583, 0.2494],\n",
       "          [0.8146, 0.8626, 0.1647],\n",
       "          [0.1161, 0.1121, 0.4234]]]),\n",
       " torch.Size([224, 224, 3]))"
      ]
     },
     "execution_count": 96,
     "metadata": {},
     "output_type": "execute_result"
    }
   ],
   "execution_count": 96
  },
  {
   "metadata": {},
   "cell_type": "markdown",
   "source": "**Note: torch.permute() accepts input tensor and a tuple of order of the dimensions as arguments. For instance in the above example the original tensor has the shape (3, 224, 224) and img_tensor is given (1, 2, 0) as arguments which means dim in index-1 first, then the one in index-2 and finally dim in index-0 which gives the shape (224, 224, 3) to img_tensor**",
   "id": "dc2637b73871a127"
  },
  {
   "metadata": {
    "ExecuteTime": {
     "end_time": "2024-08-06T18:19:05.314258Z",
     "start_time": "2024-08-06T18:19:05.311462Z"
    }
   },
   "cell_type": "code",
   "source": "tensor = torch.zeros(size = (3, 224, 224))",
   "id": "66bce1948ad307eb",
   "outputs": [],
   "execution_count": 97
  },
  {
   "metadata": {
    "ExecuteTime": {
     "end_time": "2024-08-06T18:19:05.344519Z",
     "start_time": "2024-08-06T18:19:05.330408Z"
    }
   },
   "cell_type": "code",
   "source": "img_tensor",
   "id": "1c5d6d9cebc185",
   "outputs": [
    {
     "data": {
      "text/plain": [
       "tensor([[[0.9872, 0.3264, 0.2939],\n",
       "         [0.0443, 0.0644, 0.8746],\n",
       "         [0.5216, 0.4582, 0.3738],\n",
       "         ...,\n",
       "         [0.2187, 0.0430, 0.9849],\n",
       "         [0.2504, 0.3240, 0.4673],\n",
       "         [0.6913, 0.6368, 0.6515]],\n",
       "\n",
       "        [[0.8641, 0.7273, 0.5167],\n",
       "         [0.7787, 0.9226, 0.1901],\n",
       "         [0.5685, 0.3806, 0.8118],\n",
       "         ...,\n",
       "         [0.5150, 0.4825, 0.9206],\n",
       "         [0.0635, 0.9784, 0.1768],\n",
       "         [0.8472, 0.2346, 0.8931]],\n",
       "\n",
       "        [[0.2094, 0.0493, 0.0720],\n",
       "         [0.9490, 0.6776, 0.7924],\n",
       "         [0.5044, 0.9886, 0.2815],\n",
       "         ...,\n",
       "         [0.5509, 0.7102, 0.1274],\n",
       "         [0.3310, 0.7885, 0.3881],\n",
       "         [0.8371, 0.0738, 0.4930]],\n",
       "\n",
       "        ...,\n",
       "\n",
       "        [[0.7278, 0.7387, 0.6451],\n",
       "         [0.5902, 0.3511, 0.3763],\n",
       "         [0.8061, 0.3879, 0.5643],\n",
       "         ...,\n",
       "         [0.4603, 0.8772, 0.4234],\n",
       "         [0.9923, 0.5130, 0.7794],\n",
       "         [0.0650, 0.9598, 0.4116]],\n",
       "\n",
       "        [[0.2570, 0.5815, 0.8537],\n",
       "         [0.1355, 0.4185, 0.6313],\n",
       "         [0.0529, 0.3589, 0.5916],\n",
       "         ...,\n",
       "         [0.9346, 0.7297, 0.7044],\n",
       "         [0.4690, 0.9675, 0.4287],\n",
       "         [0.2138, 0.7536, 0.7569]],\n",
       "\n",
       "        [[0.3022, 0.9115, 0.4399],\n",
       "         [0.4092, 0.8914, 0.0903],\n",
       "         [0.8200, 0.5774, 0.2566],\n",
       "         ...,\n",
       "         [0.7710, 0.5583, 0.2494],\n",
       "         [0.8146, 0.8626, 0.1647],\n",
       "         [0.1161, 0.1121, 0.4234]]])"
      ]
     },
     "execution_count": 98,
     "metadata": {},
     "output_type": "execute_result"
    }
   ],
   "execution_count": 98
  },
  {
   "metadata": {
    "ExecuteTime": {
     "end_time": "2024-08-06T18:19:05.368367Z",
     "start_time": "2024-08-06T18:19:05.363159Z"
    }
   },
   "cell_type": "code",
   "source": "tensor",
   "id": "b09b4ef88363f728",
   "outputs": [
    {
     "data": {
      "text/plain": [
       "tensor([[[0., 0., 0.,  ..., 0., 0., 0.],\n",
       "         [0., 0., 0.,  ..., 0., 0., 0.],\n",
       "         [0., 0., 0.,  ..., 0., 0., 0.],\n",
       "         ...,\n",
       "         [0., 0., 0.,  ..., 0., 0., 0.],\n",
       "         [0., 0., 0.,  ..., 0., 0., 0.],\n",
       "         [0., 0., 0.,  ..., 0., 0., 0.]],\n",
       "\n",
       "        [[0., 0., 0.,  ..., 0., 0., 0.],\n",
       "         [0., 0., 0.,  ..., 0., 0., 0.],\n",
       "         [0., 0., 0.,  ..., 0., 0., 0.],\n",
       "         ...,\n",
       "         [0., 0., 0.,  ..., 0., 0., 0.],\n",
       "         [0., 0., 0.,  ..., 0., 0., 0.],\n",
       "         [0., 0., 0.,  ..., 0., 0., 0.]],\n",
       "\n",
       "        [[0., 0., 0.,  ..., 0., 0., 0.],\n",
       "         [0., 0., 0.,  ..., 0., 0., 0.],\n",
       "         [0., 0., 0.,  ..., 0., 0., 0.],\n",
       "         ...,\n",
       "         [0., 0., 0.,  ..., 0., 0., 0.],\n",
       "         [0., 0., 0.,  ..., 0., 0., 0.],\n",
       "         [0., 0., 0.,  ..., 0., 0., 0.]]])"
      ]
     },
     "execution_count": 99,
     "metadata": {},
     "output_type": "execute_result"
    }
   ],
   "execution_count": 99
  },
  {
   "metadata": {},
   "cell_type": "markdown",
   "source": "**Indexing on Tensors**",
   "id": "6bb8766524c82e30"
  },
  {
   "metadata": {
    "ExecuteTime": {
     "end_time": "2024-08-06T18:19:05.427413Z",
     "start_time": "2024-08-06T18:19:05.423117Z"
    }
   },
   "cell_type": "code",
   "source": [
    "x = torch.arange(1, 10).reshape(1, 3, 3)\n",
    "x"
   ],
   "id": "dc864f22b7ea8247",
   "outputs": [
    {
     "data": {
      "text/plain": [
       "tensor([[[1, 2, 3],\n",
       "         [4, 5, 6],\n",
       "         [7, 8, 9]]])"
      ]
     },
     "execution_count": 100,
     "metadata": {},
     "output_type": "execute_result"
    }
   ],
   "execution_count": 100
  },
  {
   "metadata": {
    "ExecuteTime": {
     "end_time": "2024-08-06T18:19:05.455184Z",
     "start_time": "2024-08-06T18:19:05.451796Z"
    }
   },
   "cell_type": "code",
   "source": "x[0]",
   "id": "b5a47efa326c1e2c",
   "outputs": [
    {
     "data": {
      "text/plain": [
       "tensor([[1, 2, 3],\n",
       "        [4, 5, 6],\n",
       "        [7, 8, 9]])"
      ]
     },
     "execution_count": 101,
     "metadata": {},
     "output_type": "execute_result"
    }
   ],
   "execution_count": 101
  },
  {
   "metadata": {
    "ExecuteTime": {
     "end_time": "2024-08-06T18:19:05.523079Z",
     "start_time": "2024-08-06T18:19:05.519356Z"
    }
   },
   "cell_type": "code",
   "source": "x[0][1]",
   "id": "68eb8eb2099a0d21",
   "outputs": [
    {
     "data": {
      "text/plain": [
       "tensor([4, 5, 6])"
      ]
     },
     "execution_count": 102,
     "metadata": {},
     "output_type": "execute_result"
    }
   ],
   "execution_count": 102
  },
  {
   "metadata": {
    "ExecuteTime": {
     "end_time": "2024-08-06T18:19:05.554653Z",
     "start_time": "2024-08-06T18:19:05.550715Z"
    }
   },
   "cell_type": "code",
   "source": "x[0][2][2]",
   "id": "b3f30618ad32ae07",
   "outputs": [
    {
     "data": {
      "text/plain": [
       "tensor(9)"
      ]
     },
     "execution_count": 103,
     "metadata": {},
     "output_type": "execute_result"
    }
   ],
   "execution_count": 103
  },
  {
   "metadata": {
    "ExecuteTime": {
     "end_time": "2024-08-06T18:19:05.621850Z",
     "start_time": "2024-08-06T18:19:05.617057Z"
    }
   },
   "cell_type": "code",
   "source": "x[: , 0]",
   "id": "379ed5a7d1d20bde",
   "outputs": [
    {
     "data": {
      "text/plain": [
       "tensor([[1, 2, 3]])"
      ]
     },
     "execution_count": 104,
     "metadata": {},
     "output_type": "execute_result"
    }
   ],
   "execution_count": 104
  },
  {
   "metadata": {
    "ExecuteTime": {
     "end_time": "2024-08-06T18:19:05.665354Z",
     "start_time": "2024-08-06T18:19:05.661404Z"
    }
   },
   "cell_type": "code",
   "source": "x[: , :, 1]",
   "id": "e9dac255ee3245a3",
   "outputs": [
    {
     "data": {
      "text/plain": [
       "tensor([[2, 5, 8]])"
      ]
     },
     "execution_count": 105,
     "metadata": {},
     "output_type": "execute_result"
    }
   ],
   "execution_count": 105
  },
  {
   "metadata": {
    "ExecuteTime": {
     "end_time": "2024-08-06T18:19:05.727360Z",
     "start_time": "2024-08-06T18:19:05.723347Z"
    }
   },
   "cell_type": "code",
   "source": "x[: , 1, 1]",
   "id": "d1e634385f898ce8",
   "outputs": [
    {
     "data": {
      "text/plain": [
       "tensor([5])"
      ]
     },
     "execution_count": 106,
     "metadata": {},
     "output_type": "execute_result"
    }
   ],
   "execution_count": 106
  },
  {
   "metadata": {
    "ExecuteTime": {
     "end_time": "2024-08-06T18:19:05.753960Z",
     "start_time": "2024-08-06T18:19:05.750428Z"
    }
   },
   "cell_type": "code",
   "source": "x[0, 0, : ]",
   "id": "d61d48b2df3d4c3e",
   "outputs": [
    {
     "data": {
      "text/plain": [
       "tensor([1, 2, 3])"
      ]
     },
     "execution_count": 107,
     "metadata": {},
     "output_type": "execute_result"
    }
   ],
   "execution_count": 107
  },
  {
   "metadata": {
    "ExecuteTime": {
     "end_time": "2024-08-06T18:19:05.812522Z",
     "start_time": "2024-08-06T18:19:05.809361Z"
    }
   },
   "cell_type": "code",
   "source": "x[:, :, 2]",
   "id": "61c458e4098e57dd",
   "outputs": [
    {
     "data": {
      "text/plain": [
       "tensor([[3, 6, 9]])"
      ]
     },
     "execution_count": 108,
     "metadata": {},
     "output_type": "execute_result"
    }
   ],
   "execution_count": 108
  },
  {
   "metadata": {},
   "cell_type": "markdown",
   "source": "**PyTorch Tensors & NumPy**",
   "id": "d0ce0711e1a2bab3"
  },
  {
   "metadata": {
    "ExecuteTime": {
     "end_time": "2024-08-06T18:19:05.843967Z",
     "start_time": "2024-08-06T18:19:05.839989Z"
    }
   },
   "cell_type": "code",
   "source": [
    "#NumPy array to a tensor\n",
    "arr = np.arange(1.0, 8.0)\n",
    "arr"
   ],
   "id": "90b17bbb0fc173a9",
   "outputs": [
    {
     "data": {
      "text/plain": [
       "array([1., 2., 3., 4., 5., 6., 7.])"
      ]
     },
     "execution_count": 109,
     "metadata": {},
     "output_type": "execute_result"
    }
   ],
   "execution_count": 109
  },
  {
   "metadata": {
    "ExecuteTime": {
     "end_time": "2024-08-06T18:19:05.910691Z",
     "start_time": "2024-08-06T18:19:05.907175Z"
    }
   },
   "cell_type": "code",
   "source": "type(arr)",
   "id": "f2386396cd98ce70",
   "outputs": [
    {
     "data": {
      "text/plain": [
       "numpy.ndarray"
      ]
     },
     "execution_count": 110,
     "metadata": {},
     "output_type": "execute_result"
    }
   ],
   "execution_count": 110
  },
  {
   "metadata": {
    "ExecuteTime": {
     "end_time": "2024-08-06T18:19:05.940487Z",
     "start_time": "2024-08-06T18:19:05.936732Z"
    }
   },
   "cell_type": "code",
   "source": [
    "tensor = torch.tensor(arr)\n",
    "tensor"
   ],
   "id": "6080512ce923e227",
   "outputs": [
    {
     "data": {
      "text/plain": [
       "tensor([1., 2., 3., 4., 5., 6., 7.], dtype=torch.float64)"
      ]
     },
     "execution_count": 111,
     "metadata": {},
     "output_type": "execute_result"
    }
   ],
   "execution_count": 111
  },
  {
   "metadata": {
    "ExecuteTime": {
     "end_time": "2024-08-06T18:19:06.002265Z",
     "start_time": "2024-08-06T18:19:05.998472Z"
    }
   },
   "cell_type": "code",
   "source": [
    "tensor = tensor.type(dtype = torch.float32)\n",
    "tensor"
   ],
   "id": "570f66648716ff37",
   "outputs": [
    {
     "data": {
      "text/plain": [
       "tensor([1., 2., 3., 4., 5., 6., 7.])"
      ]
     },
     "execution_count": 112,
     "metadata": {},
     "output_type": "execute_result"
    }
   ],
   "execution_count": 112
  },
  {
   "metadata": {
    "ExecuteTime": {
     "end_time": "2024-08-06T18:19:06.032325Z",
     "start_time": "2024-08-06T18:19:06.029381Z"
    }
   },
   "cell_type": "code",
   "source": "tensor.dtype",
   "id": "63cd5ec48663bb83",
   "outputs": [
    {
     "data": {
      "text/plain": [
       "torch.float32"
      ]
     },
     "execution_count": 113,
     "metadata": {},
     "output_type": "execute_result"
    }
   ],
   "execution_count": 113
  },
  {
   "metadata": {},
   "cell_type": "markdown",
   "source": "**Note: By default when we convert a numpy array to a tensor, the dtype will be float64 so we have to explicitly specify we need float32 dtype**",
   "id": "4933fc86cba562cd"
  },
  {
   "metadata": {
    "ExecuteTime": {
     "end_time": "2024-08-06T18:19:06.093670Z",
     "start_time": "2024-08-06T18:19:06.090341Z"
    }
   },
   "cell_type": "code",
   "source": [
    "#Tensor to numpy array\n",
    "t1 = torch.ones(size = (7, 1))\n",
    "t1"
   ],
   "id": "865510d3ccc4d96d",
   "outputs": [
    {
     "data": {
      "text/plain": [
       "tensor([[1.],\n",
       "        [1.],\n",
       "        [1.],\n",
       "        [1.],\n",
       "        [1.],\n",
       "        [1.],\n",
       "        [1.]])"
      ]
     },
     "execution_count": 114,
     "metadata": {},
     "output_type": "execute_result"
    }
   ],
   "execution_count": 114
  },
  {
   "metadata": {
    "ExecuteTime": {
     "end_time": "2024-08-06T18:19:06.124527Z",
     "start_time": "2024-08-06T18:19:06.121984Z"
    }
   },
   "cell_type": "code",
   "source": "array = t1.numpy()",
   "id": "6c630d2a7ead705c",
   "outputs": [],
   "execution_count": 115
  },
  {
   "metadata": {
    "ExecuteTime": {
     "end_time": "2024-08-06T18:19:06.193095Z",
     "start_time": "2024-08-06T18:19:06.190009Z"
    }
   },
   "cell_type": "code",
   "source": "array",
   "id": "b64e587549a79671",
   "outputs": [
    {
     "data": {
      "text/plain": [
       "array([[1.],\n",
       "       [1.],\n",
       "       [1.],\n",
       "       [1.],\n",
       "       [1.],\n",
       "       [1.],\n",
       "       [1.]], dtype=float32)"
      ]
     },
     "execution_count": 116,
     "metadata": {},
     "output_type": "execute_result"
    }
   ],
   "execution_count": 116
  },
  {
   "metadata": {
    "ExecuteTime": {
     "end_time": "2024-08-06T18:19:06.223218Z",
     "start_time": "2024-08-06T18:19:06.220189Z"
    }
   },
   "cell_type": "code",
   "source": "array.dtype",
   "id": "5e8b0d6c73bb1b5",
   "outputs": [
    {
     "data": {
      "text/plain": [
       "dtype('float32')"
      ]
     },
     "execution_count": 117,
     "metadata": {},
     "output_type": "execute_result"
    }
   ],
   "execution_count": 117
  },
  {
   "metadata": {
    "ExecuteTime": {
     "end_time": "2024-08-06T18:19:06.276427Z",
     "start_time": "2024-08-06T18:19:06.273319Z"
    }
   },
   "cell_type": "code",
   "source": "type(array)",
   "id": "c88e281075e62950",
   "outputs": [
    {
     "data": {
      "text/plain": [
       "numpy.ndarray"
      ]
     },
     "execution_count": 118,
     "metadata": {},
     "output_type": "execute_result"
    }
   ],
   "execution_count": 118
  },
  {
   "metadata": {},
   "cell_type": "markdown",
   "source": "**tensor.numpy() returns a numpy array of the tensor however the dtype of the numpy array will be the same as that of the original tensor**",
   "id": "3839d59d6ccd040b"
  },
  {
   "metadata": {},
   "cell_type": "markdown",
   "source": [
    "**PyTorch Reproducibility**\n",
    "\n",
    "seed can be used for reproducing the same randomness"
   ],
   "id": "8454fd41004514fc"
  },
  {
   "metadata": {
    "ExecuteTime": {
     "end_time": "2024-08-06T18:22:19.234566Z",
     "start_time": "2024-08-06T18:22:19.231562Z"
    }
   },
   "cell_type": "code",
   "source": [
    "# 2 Random Tensors\n",
    "random_tensor_a = torch.rand(3, 4)\n",
    "random_tensor_b = torch.rand(3, 4)"
   ],
   "id": "14d261db60316cd4",
   "outputs": [],
   "execution_count": 119
  },
  {
   "metadata": {
    "ExecuteTime": {
     "end_time": "2024-08-06T18:22:24.907388Z",
     "start_time": "2024-08-06T18:22:24.903845Z"
    }
   },
   "cell_type": "code",
   "source": "random_tensor_a == random_tensor_b",
   "id": "959b31daa47e1602",
   "outputs": [
    {
     "data": {
      "text/plain": [
       "tensor([[False, False, False, False],\n",
       "        [False, False, False, False],\n",
       "        [False, False, False, False]])"
      ]
     },
     "execution_count": 120,
     "metadata": {},
     "output_type": "execute_result"
    }
   ],
   "execution_count": 120
  },
  {
   "metadata": {
    "ExecuteTime": {
     "end_time": "2024-08-06T18:22:29.758232Z",
     "start_time": "2024-08-06T18:22:29.754649Z"
    }
   },
   "cell_type": "code",
   "source": "random_tensor_a",
   "id": "caf02b09b03b6f81",
   "outputs": [
    {
     "data": {
      "text/plain": [
       "tensor([[0.4296, 0.0988, 0.2124, 0.5478],\n",
       "        [0.9780, 0.9311, 0.3424, 0.3712],\n",
       "        [0.1439, 0.2887, 0.5100, 0.5369]])"
      ]
     },
     "execution_count": 121,
     "metadata": {},
     "output_type": "execute_result"
    }
   ],
   "execution_count": 121
  },
  {
   "metadata": {
    "ExecuteTime": {
     "end_time": "2024-08-06T18:22:33.662958Z",
     "start_time": "2024-08-06T18:22:33.659079Z"
    }
   },
   "cell_type": "code",
   "source": "random_tensor_b",
   "id": "1ae8e90c305507ac",
   "outputs": [
    {
     "data": {
      "text/plain": [
       "tensor([[0.8134, 0.8308, 0.1883, 0.7106],\n",
       "        [0.1701, 0.6126, 0.1710, 0.2162],\n",
       "        [0.2400, 0.3017, 0.2075, 0.8195]])"
      ]
     },
     "execution_count": 122,
     "metadata": {},
     "output_type": "execute_result"
    }
   ],
   "execution_count": 122
  },
  {
   "metadata": {},
   "cell_type": "markdown",
   "source": "**Note: You can clearly see that none of the elements are the same in both the tensors**",
   "id": "a7b183435d90755c"
  },
  {
   "metadata": {
    "ExecuteTime": {
     "end_time": "2024-08-06T18:26:51.801681Z",
     "start_time": "2024-08-06T18:26:51.797131Z"
    }
   },
   "cell_type": "code",
   "source": [
    "#Making reproducible random tensors\n",
    "RANDOM_SEED = 42\n",
    "torch.manual_seed(RANDOM_SEED)\n",
    "random_tensor_c = torch.rand(3, 4)\n",
    "random_tensor_d = torch.rand(3, 4)\n",
    "\n",
    "print(random_tensor_c == random_tensor_d)\n",
    "print(f'{random_tensor_c}\\n{random_tensor_d}')\n"
   ],
   "id": "83ef2bfe514aa740",
   "outputs": [
    {
     "name": "stdout",
     "output_type": "stream",
     "text": [
      "tensor([[False, False, False, False],\n",
      "        [False, False, False, False],\n",
      "        [False, False, False, False]])\n",
      "tensor([[0.8823, 0.9150, 0.3829, 0.9593],\n",
      "        [0.3904, 0.6009, 0.2566, 0.7936],\n",
      "        [0.9408, 0.1332, 0.9346, 0.5936]])\n",
      "tensor([[0.8694, 0.5677, 0.7411, 0.4294],\n",
      "        [0.8854, 0.5739, 0.2666, 0.6274],\n",
      "        [0.2696, 0.4414, 0.2969, 0.8317]])\n"
     ]
    }
   ],
   "execution_count": 125
  },
  {
   "metadata": {},
   "cell_type": "markdown",
   "source": "**Note: torch.manual_seed(value) is used for setting pseudorandom values i.e. reproduce the same random values**",
   "id": "d5ac0ccece688881"
  },
  {
   "metadata": {},
   "cell_type": "markdown",
   "source": "**Running PyTorch objects and Tensors on Nvidia GPUs**",
   "id": "99e4c9d771ec766f"
  },
  {
   "metadata": {},
   "cell_type": "markdown",
   "source": "**Setting up Device Agnostic Code**",
   "id": "6eb9ee5ed324840"
  },
  {
   "metadata": {
    "ExecuteTime": {
     "end_time": "2024-08-06T19:04:13.192283Z",
     "start_time": "2024-08-06T19:04:13.189587Z"
    }
   },
   "cell_type": "code",
   "source": "device = 'cuda' if cuda.is_available() else 'cpu'",
   "id": "2f04677021d2c09",
   "outputs": [],
   "execution_count": 138
  },
  {
   "metadata": {
    "ExecuteTime": {
     "end_time": "2024-08-06T19:04:13.738464Z",
     "start_time": "2024-08-06T19:04:13.734918Z"
    }
   },
   "cell_type": "code",
   "source": "device",
   "id": "bfb3bafd6d912583",
   "outputs": [
    {
     "data": {
      "text/plain": [
       "'cuda'"
      ]
     },
     "execution_count": 139,
     "metadata": {},
     "output_type": "execute_result"
    }
   ],
   "execution_count": 139
  },
  {
   "metadata": {},
   "cell_type": "markdown",
   "source": "**Note: If the GPU is available we're setting device as CUDA else we're using CPU**",
   "id": "a2772d28cff56532"
  },
  {
   "metadata": {
    "ExecuteTime": {
     "end_time": "2024-08-06T19:04:15.499690Z",
     "start_time": "2024-08-06T19:04:15.496150Z"
    }
   },
   "cell_type": "code",
   "source": [
    "#Checking the number of GPUs\n",
    "cuda.device_count()"
   ],
   "id": "697fa17388e0ea9f",
   "outputs": [
    {
     "data": {
      "text/plain": [
       "1"
      ]
     },
     "execution_count": 140,
     "metadata": {},
     "output_type": "execute_result"
    }
   ],
   "execution_count": 140
  },
  {
   "metadata": {},
   "cell_type": "markdown",
   "source": "**Setting up Device Agnostic Code and loading the Tensors on and off the GPU**",
   "id": "ebe2e4ec96254416"
  },
  {
   "metadata": {
    "ExecuteTime": {
     "end_time": "2024-08-06T19:04:19.831058Z",
     "start_time": "2024-08-06T19:04:19.825677Z"
    }
   },
   "cell_type": "code",
   "source": [
    "tensor = torch.tensor([1, 2, 3, 4, 5])\n",
    "print(f'Tensor: {tensor}\\nDevice: {tensor.device}')"
   ],
   "id": "c736f1df33b31280",
   "outputs": [
    {
     "name": "stdout",
     "output_type": "stream",
     "text": [
      "Tensor: tensor([1, 2, 3, 4, 5])\n",
      "Device: cpu\n"
     ]
    }
   ],
   "execution_count": 141
  },
  {
   "metadata": {},
   "cell_type": "markdown",
   "source": "**Note: tensor.device gives the device on which the tensor is stored. By default it is stored on CPU. tensor. tensor.to('cuda') is used for loading it on the GPU**",
   "id": "ba7aab45181ad696"
  },
  {
   "metadata": {
    "ExecuteTime": {
     "end_time": "2024-08-06T19:04:23.836070Z",
     "start_time": "2024-08-06T19:04:23.832706Z"
    }
   },
   "cell_type": "code",
   "source": [
    "tensor.to(device)\n",
    "print(f'Tensor: {tensor}\\nDevice: {tensor.device}')"
   ],
   "id": "3cb91308b762ca97",
   "outputs": [
    {
     "name": "stdout",
     "output_type": "stream",
     "text": [
      "Tensor: tensor([1, 2, 3, 4, 5])\n",
      "Device: cpu\n"
     ]
    }
   ],
   "execution_count": 142
  },
  {
   "metadata": {
    "ExecuteTime": {
     "end_time": "2024-08-06T19:04:36.235211Z",
     "start_time": "2024-08-06T19:04:36.231425Z"
    }
   },
   "cell_type": "code",
   "source": [
    "tensor_on_gpu = tensor.to(device)\n",
    "print(f'Tensor: {tensor}\\nDevice: {tensor_on_gpu.device}')"
   ],
   "id": "7650f7e62da6952c",
   "outputs": [
    {
     "name": "stdout",
     "output_type": "stream",
     "text": [
      "Tensor: tensor([1, 2, 3, 4, 5])\n",
      "Device: cuda:0\n"
     ]
    }
   ],
   "execution_count": 143
  },
  {
   "metadata": {},
   "cell_type": "markdown",
   "source": "**Note: Just tensor.to(device) doesn't place it on the GPU. It has to be assigned to a tensor (more like creating a copy of hte same tensor and saving it on GPU).**",
   "id": "9a72f8366fd8ab45"
  },
  {
   "metadata": {
    "ExecuteTime": {
     "end_time": "2024-08-06T19:05:37.132867Z",
     "start_time": "2024-08-06T19:05:37.129312Z"
    }
   },
   "cell_type": "code",
   "source": "tensor_on_gpu.device",
   "id": "460b08ec4460086b",
   "outputs": [
    {
     "data": {
      "text/plain": [
       "device(type='cuda', index=0)"
      ]
     },
     "execution_count": 144,
     "metadata": {},
     "output_type": "execute_result"
    }
   ],
   "execution_count": 144
  },
  {
   "metadata": {
    "ExecuteTime": {
     "end_time": "2024-08-06T19:06:12.282529Z",
     "start_time": "2024-08-06T19:06:12.271927Z"
    }
   },
   "cell_type": "code",
   "source": [
    "#Converting the tensor to a numpy array\n",
    "tensor_on_gpu.numpy()"
   ],
   "id": "11339035a9bbe955",
   "outputs": [
    {
     "ename": "TypeError",
     "evalue": "can't convert cuda:0 device type tensor to numpy. Use Tensor.cpu() to copy the tensor to host memory first.",
     "output_type": "error",
     "traceback": [
      "\u001B[0;31m---------------------------------------------------------------------------\u001B[0m",
      "\u001B[0;31mTypeError\u001B[0m                                 Traceback (most recent call last)",
      "Cell \u001B[0;32mIn[145], line 2\u001B[0m\n\u001B[1;32m      1\u001B[0m \u001B[38;5;66;03m#Converting the tensor to a numpy array\u001B[39;00m\n\u001B[0;32m----> 2\u001B[0m \u001B[43mtensor_on_gpu\u001B[49m\u001B[38;5;241;43m.\u001B[39;49m\u001B[43mnumpy\u001B[49m\u001B[43m(\u001B[49m\u001B[43m)\u001B[49m\n",
      "\u001B[0;31mTypeError\u001B[0m: can't convert cuda:0 device type tensor to numpy. Use Tensor.cpu() to copy the tensor to host memory first."
     ]
    }
   ],
   "execution_count": 145
  },
  {
   "metadata": {},
   "cell_type": "markdown",
   "source": "**Note: Once a Tensor has been moved to a GPU, it can't be converted back to a numpy array. It has to be moved to the CPU before doing that.**",
   "id": "5288879f6dd7de66"
  },
  {
   "metadata": {
    "ExecuteTime": {
     "end_time": "2024-08-06T19:07:14.974252Z",
     "start_time": "2024-08-06T19:07:14.964841Z"
    }
   },
   "cell_type": "code",
   "source": "tensor_on_gpu = tensor_on_gpu.to('cpu')",
   "id": "60bd2cafa5cc59cb",
   "outputs": [],
   "execution_count": 146
  },
  {
   "metadata": {
    "ExecuteTime": {
     "end_time": "2024-08-06T19:07:20.827609Z",
     "start_time": "2024-08-06T19:07:20.823740Z"
    }
   },
   "cell_type": "code",
   "source": "tensor_on_gpu.device",
   "id": "ceeff9215b6f94e8",
   "outputs": [
    {
     "data": {
      "text/plain": [
       "device(type='cpu')"
      ]
     },
     "execution_count": 147,
     "metadata": {},
     "output_type": "execute_result"
    }
   ],
   "execution_count": 147
  },
  {
   "metadata": {
    "ExecuteTime": {
     "end_time": "2024-08-06T19:07:25.971892Z",
     "start_time": "2024-08-06T19:07:25.967954Z"
    }
   },
   "cell_type": "code",
   "source": "tensor_on_gpu.numpy()",
   "id": "e082a350b71cb916",
   "outputs": [
    {
     "data": {
      "text/plain": [
       "array([1, 2, 3, 4, 5])"
      ]
     },
     "execution_count": 148,
     "metadata": {},
     "output_type": "execute_result"
    }
   ],
   "execution_count": 148
  },
  {
   "metadata": {},
   "cell_type": "markdown",
   "source": "**tensor.cpu() also places the tensor on the CPU**",
   "id": "6226ef167cad7a71"
  },
  {
   "metadata": {},
   "cell_type": "code",
   "outputs": [],
   "execution_count": null,
   "source": "",
   "id": "590207ef1d66c3a5"
  }
 ],
 "metadata": {
  "kernelspec": {
   "display_name": "Python 3",
   "language": "python",
   "name": "python3"
  },
  "language_info": {
   "codemirror_mode": {
    "name": "ipython",
    "version": 2
   },
   "file_extension": ".py",
   "mimetype": "text/x-python",
   "name": "python",
   "nbconvert_exporter": "python",
   "pygments_lexer": "ipython2",
   "version": "2.7.6"
  }
 },
 "nbformat": 4,
 "nbformat_minor": 5
}
