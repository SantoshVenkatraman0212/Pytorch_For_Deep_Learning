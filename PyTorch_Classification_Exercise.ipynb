{
 "cells": [
  {
   "metadata": {},
   "cell_type": "markdown",
   "source": [
    "**Make a binary classification dataset with Scikit-Learn's make_moons() function.\n",
    "For consistency, the dataset should have 1000 samples and a random_state=42.\n",
    "Turn the data into PyTorch tensors. Split the data into training and test sets using train_test_split with 80% training and 20% testing.**"
   ],
   "id": "61391acb1376d05a"
  },
  {
   "metadata": {
    "ExecuteTime": {
     "end_time": "2024-08-12T21:53:08.940384Z",
     "start_time": "2024-08-12T21:53:08.339559Z"
    }
   },
   "cell_type": "code",
   "source": [
    "import numpy as np\n",
    "import pandas as pd\n",
    "import matplotlib.pyplot as plt\n",
    "import torch\n",
    "import torch.nn as nn\n",
    "import torch.cuda as cuda"
   ],
   "id": "initial_id",
   "outputs": [],
   "execution_count": 1
  },
  {
   "metadata": {
    "ExecuteTime": {
     "end_time": "2024-08-12T21:53:08.986761Z",
     "start_time": "2024-08-12T21:53:08.941391Z"
    }
   },
   "cell_type": "code",
   "source": [
    "from sklearn.datasets import make_moons\n",
    "X, y = make_moons(n_samples = 1000, random_state = 42)\n",
    "from sklearn.model_selection import train_test_split"
   ],
   "id": "db3fe077a6281785",
   "outputs": [],
   "execution_count": 2
  },
  {
   "metadata": {
    "ExecuteTime": {
     "end_time": "2024-08-12T21:53:09.013691Z",
     "start_time": "2024-08-12T21:53:08.987539Z"
    }
   },
   "cell_type": "code",
   "source": "device = 'cuda' if cuda.is_available() else 'cpu'",
   "id": "6b1ebc1fe473028d",
   "outputs": [],
   "execution_count": 3
  },
  {
   "metadata": {
    "ExecuteTime": {
     "end_time": "2024-08-12T21:53:09.103930Z",
     "start_time": "2024-08-12T21:53:09.014771Z"
    }
   },
   "cell_type": "code",
   "source": [
    "X_train, X_test, y_train, y_test = train_test_split(X, y, test_size = 0.2, random_state = 42)\n",
    "X_train = torch.from_numpy(X_train).type(torch.float32).to(device)\n",
    "X_test = torch.from_numpy(X_test).type(torch.float32).to(device)\n",
    "y_train = torch.from_numpy(y_train).type(torch.float32).to(device)\n",
    "y_test = torch.from_numpy(y_test).type(torch.float32).to(device)"
   ],
   "id": "c86c0060e18efc66",
   "outputs": [],
   "execution_count": 4
  },
  {
   "metadata": {},
   "cell_type": "markdown",
   "source": [
    "**Build a model by subclassing nn.Module that incorporates non-linear activation functions and is capable of fitting the data you created in 1.\n",
    "Feel free to use any combination of PyTorch layers (linear and non-linear) you want.**"
   ],
   "id": "8f8f4a1876bd21dd"
  },
  {
   "metadata": {
    "ExecuteTime": {
     "end_time": "2024-08-12T21:53:09.107733Z",
     "start_time": "2024-08-12T21:53:09.104798Z"
    }
   },
   "cell_type": "code",
   "source": [
    "class BinaryClassifier(nn.Module):\n",
    "    def __init__(self, input_features, output_features, hidden_units = 8):\n",
    "        super().__init__()\n",
    "        self.layers = nn.Sequential(nn.Linear(in_features = input_features, out_features = hidden_units),\n",
    "                                    nn.ReLU(),\n",
    "                                    nn.Dropout(0.1),\n",
    "                                    nn.Linear(in_features = hidden_units, out_features = hidden_units),\n",
    "                                    nn.ReLU(),\n",
    "                                    #nn.Dropout(0.5),\n",
    "                                    nn.Linear(in_features = hidden_units, out_features = 32),\n",
    "                                    nn.ReLU(),\n",
    "                                    #nn.Dropout(0.1),\n",
    "                                    nn.Linear(in_features = 32, out_features = output_features))\n",
    "    def forward(self, x):\n",
    "        return self.layers(x)"
   ],
   "id": "8b3a58ffc3bea5e2",
   "outputs": [],
   "execution_count": 5
  },
  {
   "metadata": {
    "ExecuteTime": {
     "end_time": "2024-08-12T21:53:09.124031Z",
     "start_time": "2024-08-12T21:53:09.108714Z"
    }
   },
   "cell_type": "code",
   "source": "bclassifier = BinaryClassifier(input_features = 2, output_features = 1, hidden_units = 64).to(device)",
   "id": "d423e48f8bd2d15b",
   "outputs": [],
   "execution_count": 6
  },
  {
   "metadata": {
    "ExecuteTime": {
     "end_time": "2024-08-12T21:53:09.140908Z",
     "start_time": "2024-08-12T21:53:09.124692Z"
    }
   },
   "cell_type": "code",
   "source": "bclassifier",
   "id": "743810b078d45fae",
   "outputs": [
    {
     "data": {
      "text/plain": [
       "BinaryClassifier(\n",
       "  (layers): Sequential(\n",
       "    (0): Linear(in_features=2, out_features=64, bias=True)\n",
       "    (1): ReLU()\n",
       "    (2): Dropout(p=0.1, inplace=False)\n",
       "    (3): Linear(in_features=64, out_features=64, bias=True)\n",
       "    (4): ReLU()\n",
       "    (5): Linear(in_features=64, out_features=32, bias=True)\n",
       "    (6): ReLU()\n",
       "    (7): Linear(in_features=32, out_features=1, bias=True)\n",
       "  )\n",
       ")"
      ]
     },
     "execution_count": 7,
     "metadata": {},
     "output_type": "execute_result"
    }
   ],
   "execution_count": 7
  },
  {
   "metadata": {
    "ExecuteTime": {
     "end_time": "2024-08-12T21:53:09.210952Z",
     "start_time": "2024-08-12T21:53:09.141819Z"
    }
   },
   "cell_type": "code",
   "source": "bclassifier.state_dict()",
   "id": "e9401942725a8ec7",
   "outputs": [
    {
     "data": {
      "text/plain": [
       "OrderedDict([('layers.0.weight',\n",
       "              tensor([[-0.0341,  0.6413],\n",
       "                      [ 0.4602,  0.3103],\n",
       "                      [ 0.0357,  0.5656],\n",
       "                      [-0.1298, -0.0944],\n",
       "                      [-0.3379, -0.0369],\n",
       "                      [ 0.2209, -0.6179],\n",
       "                      [-0.3513, -0.3258],\n",
       "                      [-0.5374,  0.6220],\n",
       "                      [-0.6904, -0.0025],\n",
       "                      [-0.3635,  0.0269],\n",
       "                      [-0.1868,  0.6587],\n",
       "                      [ 0.5504,  0.6868],\n",
       "                      [-0.5583, -0.6783],\n",
       "                      [-0.2933, -0.1656],\n",
       "                      [-0.1144, -0.5027],\n",
       "                      [ 0.1923,  0.3275],\n",
       "                      [ 0.4766, -0.4794],\n",
       "                      [-0.4361,  0.0587],\n",
       "                      [ 0.3388,  0.6744],\n",
       "                      [-0.0917, -0.5982],\n",
       "                      [ 0.5956,  0.1813],\n",
       "                      [-0.1254,  0.1186],\n",
       "                      [-0.4833, -0.3538],\n",
       "                      [-0.1377,  0.2569],\n",
       "                      [ 0.1371,  0.4280],\n",
       "                      [-0.0076,  0.6559],\n",
       "                      [ 0.0486,  0.6749],\n",
       "                      [ 0.4499, -0.0555],\n",
       "                      [ 0.0585,  0.0730],\n",
       "                      [ 0.3976, -0.0921],\n",
       "                      [-0.1482, -0.4649],\n",
       "                      [ 0.5950, -0.1827],\n",
       "                      [-0.1541, -0.1185],\n",
       "                      [-0.4170, -0.6888],\n",
       "                      [-0.2811, -0.0082],\n",
       "                      [-0.6593, -0.0397],\n",
       "                      [-0.3158, -0.0300],\n",
       "                      [ 0.6354,  0.0376],\n",
       "                      [-0.3833,  0.3255],\n",
       "                      [-0.6992, -0.5023],\n",
       "                      [ 0.1765,  0.1924],\n",
       "                      [ 0.6214, -0.1485],\n",
       "                      [-0.0773,  0.4867],\n",
       "                      [-0.4048, -0.2498],\n",
       "                      [-0.6231, -0.3030],\n",
       "                      [ 0.6758,  0.4108],\n",
       "                      [-0.3534,  0.1221],\n",
       "                      [-0.6569, -0.0036],\n",
       "                      [ 0.0964,  0.1329],\n",
       "                      [ 0.0983,  0.1006],\n",
       "                      [-0.0124, -0.5922],\n",
       "                      [-0.4273,  0.0188],\n",
       "                      [-0.4409,  0.6763],\n",
       "                      [ 0.6220, -0.1020],\n",
       "                      [ 0.2996,  0.0272],\n",
       "                      [ 0.1596,  0.1801],\n",
       "                      [-0.1553, -0.4229],\n",
       "                      [ 0.3204,  0.2779],\n",
       "                      [ 0.0784,  0.6163],\n",
       "                      [ 0.2410, -0.2280],\n",
       "                      [ 0.0358, -0.3212],\n",
       "                      [-0.4186, -0.5846],\n",
       "                      [ 0.4579,  0.5058],\n",
       "                      [-0.6873, -0.0601]], device='cuda:0')),\n",
       "             ('layers.0.bias',\n",
       "              tensor([-0.3334,  0.2239, -0.1359, -0.6437,  0.2070, -0.6596, -0.6986, -0.3999,\n",
       "                      -0.5618,  0.3841,  0.0192, -0.0951, -0.6112, -0.5565, -0.2920, -0.4411,\n",
       "                       0.6083,  0.1258,  0.4525, -0.3940, -0.6397, -0.2078,  0.5128,  0.4305,\n",
       "                       0.4929,  0.6398,  0.1455, -0.5064,  0.3758,  0.2142,  0.1494,  0.5470,\n",
       "                      -0.3468, -0.3057,  0.3313, -0.4360, -0.0281, -0.2895,  0.2078, -0.0058,\n",
       "                      -0.5329,  0.5966, -0.4584, -0.3823,  0.0177, -0.3801,  0.6644,  0.4706,\n",
       "                      -0.4336, -0.2389,  0.6210,  0.5982, -0.2616,  0.1069,  0.2687, -0.6276,\n",
       "                      -0.5690, -0.1404,  0.2802, -0.1780, -0.5905, -0.6045,  0.2858,  0.5569],\n",
       "                     device='cuda:0')),\n",
       "             ('layers.3.weight',\n",
       "              tensor([[ 0.0842,  0.0477, -0.0229,  ..., -0.1192,  0.0195,  0.0711],\n",
       "                      [-0.0661,  0.1116, -0.0465,  ..., -0.0151,  0.0207, -0.1180],\n",
       "                      [ 0.0959, -0.1017,  0.1224,  ...,  0.0512,  0.0482, -0.1027],\n",
       "                      ...,\n",
       "                      [ 0.0797, -0.0015, -0.0554,  ..., -0.0921, -0.0300, -0.0123],\n",
       "                      [-0.0066,  0.0822,  0.0881,  ...,  0.0819,  0.0799,  0.0577],\n",
       "                      [-0.0697,  0.1177,  0.1062,  ..., -0.0085, -0.0949,  0.1236]],\n",
       "                     device='cuda:0')),\n",
       "             ('layers.3.bias',\n",
       "              tensor([ 0.0646, -0.0804, -0.0767,  0.1209, -0.0971,  0.0069,  0.0945,  0.0183,\n",
       "                      -0.1216, -0.0532,  0.0347, -0.0618, -0.0542,  0.0678, -0.0098,  0.0799,\n",
       "                      -0.0349,  0.1210, -0.0344,  0.0617, -0.0989,  0.0941,  0.0403, -0.0558,\n",
       "                      -0.0873,  0.0231, -0.0571,  0.0731,  0.0276,  0.1174,  0.1249,  0.0338,\n",
       "                       0.0337, -0.0727,  0.0068,  0.1140,  0.0521,  0.1089, -0.0994, -0.1181,\n",
       "                       0.0085, -0.0533,  0.1128, -0.0438,  0.0610, -0.0129,  0.0219, -0.0717,\n",
       "                       0.0676, -0.0694, -0.0956, -0.0939, -0.0614,  0.0564, -0.0968,  0.1229,\n",
       "                       0.0336, -0.0786,  0.0665,  0.0752, -0.1143,  0.0406,  0.0685, -0.0932],\n",
       "                     device='cuda:0')),\n",
       "             ('layers.5.weight',\n",
       "              tensor([[ 0.0352,  0.0960,  0.1172,  ...,  0.0066, -0.0179, -0.0742],\n",
       "                      [ 0.0623, -0.0542, -0.1155,  ...,  0.0876, -0.0860, -0.0110],\n",
       "                      [-0.0448, -0.1186, -0.0549,  ...,  0.0862,  0.0875, -0.0403],\n",
       "                      ...,\n",
       "                      [ 0.0015,  0.0005, -0.0759,  ...,  0.0162, -0.0257,  0.0093],\n",
       "                      [ 0.0951,  0.0329,  0.0475,  ...,  0.0079, -0.0040,  0.0883],\n",
       "                      [-0.0838, -0.0345,  0.0643,  ...,  0.1062,  0.0165, -0.0368]],\n",
       "                     device='cuda:0')),\n",
       "             ('layers.5.bias',\n",
       "              tensor([ 0.0443,  0.0159,  0.0687, -0.0809,  0.1017, -0.0869,  0.0134,  0.0946,\n",
       "                      -0.0191,  0.1250,  0.1159,  0.0395, -0.1114,  0.0837, -0.0124, -0.1145,\n",
       "                       0.0477,  0.0493, -0.1012,  0.0056,  0.0800,  0.0213,  0.0739,  0.0484,\n",
       "                      -0.1121,  0.0698,  0.0816, -0.0700,  0.0929, -0.0122,  0.0186, -0.0965],\n",
       "                     device='cuda:0')),\n",
       "             ('layers.7.weight',\n",
       "              tensor([[-0.1460, -0.0464, -0.1358, -0.1656, -0.1225,  0.1748,  0.1674, -0.1330,\n",
       "                       -0.0933,  0.0623,  0.0827,  0.0915, -0.0253,  0.1535, -0.0258,  0.0847,\n",
       "                       -0.0233,  0.0375,  0.1482,  0.0305, -0.1321,  0.1752,  0.0198,  0.1734,\n",
       "                        0.1102,  0.0257,  0.1578, -0.1032, -0.1621,  0.1056,  0.1484,  0.1163]],\n",
       "                     device='cuda:0')),\n",
       "             ('layers.7.bias', tensor([0.0050], device='cuda:0'))])"
      ]
     },
     "execution_count": 8,
     "metadata": {},
     "output_type": "execute_result"
    }
   ],
   "execution_count": 8
  },
  {
   "metadata": {},
   "cell_type": "markdown",
   "source": "**Setup a binary classification compatible loss function and optimizer to use when training the model.**",
   "id": "3177dff59c757a41"
  },
  {
   "metadata": {
    "ExecuteTime": {
     "end_time": "2024-08-12T21:53:09.525180Z",
     "start_time": "2024-08-12T21:53:09.211795Z"
    }
   },
   "cell_type": "code",
   "source": [
    "bloss_fn = nn.BCEWithLogitsLoss()\n",
    "bopt_fn = torch.optim.Adam(params = bclassifier.parameters(), lr = 0.001)"
   ],
   "id": "91f0fa083a5a2ceb",
   "outputs": [],
   "execution_count": 9
  },
  {
   "metadata": {},
   "cell_type": "markdown",
   "source": [
    "**Create a training and testing loop to fit the model you created in 2 to the data you created in 1.\n",
    "To measure model accuray, you can create your own accuracy function or use the accuracy function in TorchMetrics.\n",
    "Train the model for long enough for it to reach over 96% accuracy.\n",
    "The training loop should output progress every 10 epochs of the model's training and test set loss and accuracy.**"
   ],
   "id": "93c47956dd8c8baa"
  },
  {
   "metadata": {
    "ExecuteTime": {
     "end_time": "2024-08-12T21:53:09.572017Z",
     "start_time": "2024-08-12T21:53:09.527256Z"
    }
   },
   "cell_type": "code",
   "source": [
    "import torchmetrics\n",
    "acc = torchmetrics.Accuracy(task = 'binary', num_classes = 2).to(device)\n",
    "prec = torchmetrics.Precision(task = 'binary', num_classes = 2).to(device)\n",
    "rec = torchmetrics.Recall(task = 'binary', num_classes = 2).to(device)"
   ],
   "id": "9cc3df71095b9fd8",
   "outputs": [],
   "execution_count": 10
  },
  {
   "metadata": {
    "ExecuteTime": {
     "end_time": "2024-08-12T21:53:09.818194Z",
     "start_time": "2024-08-12T21:53:09.572858Z"
    }
   },
   "cell_type": "code",
   "source": [
    "epochs = 100\n",
    "torch.manual_seed(42)\n",
    "for i in range(epochs):\n",
    "    #Train mode\n",
    "    bclassifier.train()\n",
    "    #Forward pass\n",
    "    #Train Logits\n",
    "    train_logits = bclassifier(X_train).squeeze()\n",
    "    #Train Labels\n",
    "    train_pred_labels = torch.round(torch.sigmoid(train_logits))\n",
    "    #Train Loss\n",
    "    train_loss = bloss_fn(train_logits, y_train)\n",
    "    #Train Acc\n",
    "    train_acc = acc(y_train.type(torch.long), train_pred_labels)\n",
    "    #Resetting optimizer \n",
    "    bopt_fn.zero_grad()\n",
    "    #Backpropagation\n",
    "    train_loss.backward()\n",
    "    #Stepping the optimizer\n",
    "    bopt_fn.step()\n",
    "    #Evaluation mode\n",
    "    bclassifier.eval()\n",
    "    #Inference mode\n",
    "    with torch.inference_mode():\n",
    "        #Forward pass\n",
    "        #Test Logits\n",
    "        test_logits = bclassifier(X_test).squeeze()\n",
    "        #Test labels\n",
    "        test_pred_labels = torch.round(torch.sigmoid(test_logits))\n",
    "        #Test Loss\n",
    "        test_loss = bloss_fn(test_logits, y_test)\n",
    "        #Test Accuracy\n",
    "        test_acc = acc(y_test.type(torch.long), test_pred_labels)\n",
    "    if ((i + 1)% 10 == 0):\n",
    "        print(f'Epoch: {i + 1} | Train Loss: {train_loss} | Train Accuracy: {train_acc} % | Test Loss: {test_loss} | Test Accuracy: {test_acc} %')"
   ],
   "id": "4752d9a9b1ea3fba",
   "outputs": [
    {
     "name": "stdout",
     "output_type": "stream",
     "text": [
      "Epoch: 10 | Train Loss: 0.6559141278266907 | Train Accuracy: 0.8450000286102295 % | Test Loss: 0.6519527435302734 | Test Accuracy: 0.8500000238418579 %\n",
      "Epoch: 20 | Train Loss: 0.5940691232681274 | Train Accuracy: 0.8324999809265137 % | Test Loss: 0.5911771059036255 | Test Accuracy: 0.8399999737739563 %\n",
      "Epoch: 30 | Train Loss: 0.5015884637832642 | Train Accuracy: 0.8324999809265137 % | Test Loss: 0.49954500794410706 | Test Accuracy: 0.8450000286102295 %\n",
      "Epoch: 40 | Train Loss: 0.3863535225391388 | Train Accuracy: 0.8500000238418579 % | Test Loss: 0.39193063974380493 | Test Accuracy: 0.8500000238418579 %\n",
      "Epoch: 50 | Train Loss: 0.2934815585613251 | Train Accuracy: 0.8662499785423279 % | Test Loss: 0.29539400339126587 | Test Accuracy: 0.8799999952316284 %\n",
      "Epoch: 60 | Train Loss: 0.2285880446434021 | Train Accuracy: 0.8999999761581421 % | Test Loss: 0.22413542866706848 | Test Accuracy: 0.9049999713897705 %\n",
      "Epoch: 70 | Train Loss: 0.17970186471939087 | Train Accuracy: 0.9287499785423279 % | Test Loss: 0.172980397939682 | Test Accuracy: 0.925000011920929 %\n",
      "Epoch: 80 | Train Loss: 0.1539383828639984 | Train Accuracy: 0.9262499809265137 % | Test Loss: 0.1334524005651474 | Test Accuracy: 0.9399999976158142 %\n",
      "Epoch: 90 | Train Loss: 0.1214757189154625 | Train Accuracy: 0.9524999856948853 % | Test Loss: 0.10126202553510666 | Test Accuracy: 0.9649999737739563 %\n",
      "Epoch: 100 | Train Loss: 0.0911935567855835 | Train Accuracy: 0.9649999737739563 % | Test Loss: 0.07374458760023117 | Test Accuracy: 0.9750000238418579 %\n"
     ]
    }
   ],
   "execution_count": 11
  },
  {
   "metadata": {},
   "cell_type": "markdown",
   "source": "**Make predictions with your trained model and plot them using the plot_decision_boundary() function created in this notebook.**",
   "id": "786388b75113b7ee"
  },
  {
   "metadata": {
    "ExecuteTime": {
     "end_time": "2024-08-12T21:53:09.821852Z",
     "start_time": "2024-08-12T21:53:09.819214Z"
    }
   },
   "cell_type": "code",
   "source": [
    "bclassifier.eval()\n",
    "with torch.inference_mode():\n",
    "    y_logits = bclassifier(X_test)\n",
    "    y_pred_labels = torch.round(torch.sigmoid(bclassifier(X_test).squeeze()))"
   ],
   "id": "962ff4cbd752b9d4",
   "outputs": [],
   "execution_count": 12
  },
  {
   "metadata": {
    "ExecuteTime": {
     "end_time": "2024-08-12T21:53:09.850740Z",
     "start_time": "2024-08-12T21:53:09.822516Z"
    }
   },
   "cell_type": "code",
   "source": "y_pred_labels",
   "id": "13015f7ab3eafb67",
   "outputs": [
    {
     "data": {
      "text/plain": [
       "tensor([1., 0., 1., 0., 1., 1., 0., 1., 1., 0., 0., 1., 0., 1., 0., 1., 1., 0.,\n",
       "        1., 0., 0., 0., 1., 0., 0., 0., 0., 0., 0., 1., 1., 0., 0., 1., 0., 1.,\n",
       "        1., 1., 1., 1., 1., 1., 1., 0., 0., 1., 0., 0., 1., 1., 0., 0., 0., 0.,\n",
       "        1., 0., 1., 1., 1., 0., 1., 0., 0., 1., 1., 1., 1., 0., 0., 0., 1., 0.,\n",
       "        0., 1., 0., 1., 1., 0., 0., 1., 0., 1., 1., 1., 1., 1., 0., 0., 0., 0.,\n",
       "        1., 1., 1., 1., 1., 0., 1., 1., 0., 1., 0., 0., 1., 1., 0., 0., 1., 0.,\n",
       "        0., 1., 1., 1., 0., 1., 1., 0., 1., 0., 1., 0., 1., 0., 0., 1., 1., 0.,\n",
       "        1., 1., 0., 1., 1., 0., 1., 0., 0., 0., 1., 0., 0., 1., 0., 0., 0., 1.,\n",
       "        0., 0., 1., 0., 1., 0., 1., 0., 1., 0., 1., 1., 1., 0., 0., 1., 0., 1.,\n",
       "        1., 0., 1., 0., 1., 0., 0., 1., 1., 1., 1., 0., 0., 0., 0., 1., 1., 0.,\n",
       "        0., 1., 0., 1., 1., 0., 0., 0., 1., 1., 0., 1., 1., 0., 1., 0., 1., 0.,\n",
       "        1., 1.], device='cuda:0')"
      ]
     },
     "execution_count": 13,
     "metadata": {},
     "output_type": "execute_result"
    }
   ],
   "execution_count": 13
  },
  {
   "metadata": {
    "ExecuteTime": {
     "end_time": "2024-08-12T21:53:09.865645Z",
     "start_time": "2024-08-12T21:53:09.851429Z"
    }
   },
   "cell_type": "code",
   "source": "y_pred_labels == y_test",
   "id": "e9f3b26a6791db44",
   "outputs": [
    {
     "data": {
      "text/plain": [
       "tensor([ True,  True,  True,  True,  True,  True,  True, False,  True,  True,\n",
       "         True,  True,  True,  True,  True,  True,  True,  True,  True,  True,\n",
       "         True,  True,  True,  True,  True,  True,  True,  True,  True,  True,\n",
       "         True,  True,  True,  True,  True,  True,  True,  True,  True,  True,\n",
       "         True,  True,  True,  True,  True,  True,  True,  True,  True,  True,\n",
       "         True,  True,  True,  True,  True,  True,  True,  True,  True,  True,\n",
       "         True,  True,  True,  True,  True,  True,  True,  True,  True,  True,\n",
       "         True,  True,  True,  True, False,  True,  True,  True,  True,  True,\n",
       "         True,  True, False,  True,  True,  True,  True,  True,  True,  True,\n",
       "         True,  True,  True,  True,  True,  True,  True,  True,  True,  True,\n",
       "         True,  True,  True,  True,  True,  True,  True,  True,  True,  True,\n",
       "         True,  True,  True,  True,  True,  True,  True,  True,  True,  True,\n",
       "         True,  True,  True,  True,  True,  True,  True,  True,  True,  True,\n",
       "         True,  True,  True,  True,  True,  True,  True,  True,  True,  True,\n",
       "         True,  True,  True,  True,  True,  True,  True,  True,  True,  True,\n",
       "         True,  True,  True,  True,  True,  True,  True,  True,  True,  True,\n",
       "         True,  True,  True,  True,  True,  True, False,  True,  True,  True,\n",
       "         True,  True,  True,  True,  True,  True,  True, False,  True,  True,\n",
       "         True,  True,  True,  True,  True,  True,  True,  True,  True,  True,\n",
       "         True,  True,  True,  True,  True,  True,  True,  True,  True,  True],\n",
       "       device='cuda:0')"
      ]
     },
     "execution_count": 14,
     "metadata": {},
     "output_type": "execute_result"
    }
   ],
   "execution_count": 14
  },
  {
   "metadata": {},
   "cell_type": "markdown",
   "source": "**Replicate the Tanh (hyperbolic tangent) activation function in pure PyTorch**",
   "id": "1e713958b91bc22a"
  },
  {
   "metadata": {
    "ExecuteTime": {
     "end_time": "2024-08-12T21:53:09.879061Z",
     "start_time": "2024-08-12T21:53:09.866495Z"
    }
   },
   "cell_type": "code",
   "source": [
    "def tanh(X: torch.Tensor) -> torch.Tensor:\n",
    "    return (torch.exp(X) - torch.exp(-X)) / (torch.exp(X) + torch.exp(-X))"
   ],
   "id": "1a8ac6c83d10b87a",
   "outputs": [],
   "execution_count": 15
  },
  {
   "metadata": {
    "ExecuteTime": {
     "end_time": "2024-08-12T21:53:09.910160Z",
     "start_time": "2024-08-12T21:53:09.879800Z"
    }
   },
   "cell_type": "code",
   "source": "tanh(y_logits)",
   "id": "37f4190bba73f932",
   "outputs": [
    {
     "data": {
      "text/plain": [
       "tensor([[ 0.9996],\n",
       "        [-0.9993],\n",
       "        [ 0.9998],\n",
       "        [-0.9996],\n",
       "        [ 0.9992],\n",
       "        [ 0.9973],\n",
       "        [-0.8788],\n",
       "        [ 0.2377],\n",
       "        [ 0.9998],\n",
       "        [-0.9989],\n",
       "        [-0.9998],\n",
       "        [ 0.9996],\n",
       "        [-0.3167],\n",
       "        [ 0.9999],\n",
       "        [-0.9999],\n",
       "        [ 0.8575],\n",
       "        [ 0.9977],\n",
       "        [-0.9999],\n",
       "        [ 0.9996],\n",
       "        [-0.9999],\n",
       "        [-0.9992],\n",
       "        [-0.9968],\n",
       "        [ 0.9997],\n",
       "        [-0.9999],\n",
       "        [-0.9656],\n",
       "        [-0.5213],\n",
       "        [-0.9999],\n",
       "        [-0.9992],\n",
       "        [-0.9999],\n",
       "        [ 0.9999],\n",
       "        [ 0.9804],\n",
       "        [-0.9798],\n",
       "        [-0.9997],\n",
       "        [ 0.9998],\n",
       "        [-0.9998],\n",
       "        [ 0.9992],\n",
       "        [ 0.9996],\n",
       "        [ 0.9999],\n",
       "        [ 0.9999],\n",
       "        [ 0.9999],\n",
       "        [ 0.9997],\n",
       "        [ 0.9997],\n",
       "        [ 0.9969],\n",
       "        [-0.9998],\n",
       "        [-0.9997],\n",
       "        [ 0.9989],\n",
       "        [-0.9997],\n",
       "        [-0.9992],\n",
       "        [ 0.9992],\n",
       "        [ 0.9988],\n",
       "        [-0.9996],\n",
       "        [-0.9997],\n",
       "        [-0.9989],\n",
       "        [-0.9999],\n",
       "        [ 0.8662],\n",
       "        [-0.9999],\n",
       "        [ 0.6929],\n",
       "        [ 0.9999],\n",
       "        [ 0.9997],\n",
       "        [-0.9999],\n",
       "        [ 0.9984],\n",
       "        [-0.1699],\n",
       "        [-0.9999],\n",
       "        [ 0.9999],\n",
       "        [ 0.9996],\n",
       "        [ 0.9993],\n",
       "        [ 0.8911],\n",
       "        [-0.9932],\n",
       "        [-0.9980],\n",
       "        [-0.9966],\n",
       "        [ 0.9928],\n",
       "        [-0.9971],\n",
       "        [-0.9999],\n",
       "        [ 0.9998],\n",
       "        [-0.0667],\n",
       "        [ 0.9962],\n",
       "        [ 0.9999],\n",
       "        [-0.9470],\n",
       "        [-0.9998],\n",
       "        [ 0.9959],\n",
       "        [-0.9999],\n",
       "        [ 0.9996],\n",
       "        [ 0.5091],\n",
       "        [ 0.9999],\n",
       "        [ 0.9997],\n",
       "        [ 0.9981],\n",
       "        [-0.9997],\n",
       "        [-0.9999],\n",
       "        [-0.9999],\n",
       "        [-0.9970],\n",
       "        [ 0.9998],\n",
       "        [ 0.9999],\n",
       "        [ 0.9999],\n",
       "        [ 0.9996],\n",
       "        [ 0.9999],\n",
       "        [-0.9998],\n",
       "        [ 0.9990],\n",
       "        [ 0.9997],\n",
       "        [-0.9999],\n",
       "        [ 0.9998],\n",
       "        [-0.9991],\n",
       "        [-0.9999],\n",
       "        [ 0.9987],\n",
       "        [ 0.7411],\n",
       "        [-0.9999],\n",
       "        [-0.9999],\n",
       "        [ 0.9999],\n",
       "        [-0.9430],\n",
       "        [-0.9999],\n",
       "        [ 0.9591],\n",
       "        [ 0.9994],\n",
       "        [ 0.9996],\n",
       "        [-0.9932],\n",
       "        [ 0.9974],\n",
       "        [ 0.8298],\n",
       "        [-0.9999],\n",
       "        [ 0.9999],\n",
       "        [-0.9999],\n",
       "        [ 0.9999],\n",
       "        [-0.9999],\n",
       "        [ 0.9997],\n",
       "        [-0.9999],\n",
       "        [-0.9990],\n",
       "        [ 0.9997],\n",
       "        [ 0.9904],\n",
       "        [-0.9999],\n",
       "        [ 0.9998],\n",
       "        [ 0.9970],\n",
       "        [-0.9995],\n",
       "        [ 0.9853],\n",
       "        [ 0.9997],\n",
       "        [-0.8690],\n",
       "        [ 0.9999],\n",
       "        [-0.9979],\n",
       "        [-0.9954],\n",
       "        [-0.4842],\n",
       "        [ 0.9998],\n",
       "        [-0.9999],\n",
       "        [-0.9999],\n",
       "        [ 0.9980],\n",
       "        [-0.9999],\n",
       "        [-0.9861],\n",
       "        [-0.9999],\n",
       "        [ 0.9998],\n",
       "        [-0.9999],\n",
       "        [-0.9999],\n",
       "        [ 0.9522],\n",
       "        [-0.9999],\n",
       "        [ 0.9954],\n",
       "        [-0.9996],\n",
       "        [ 0.9889],\n",
       "        [-0.9507],\n",
       "        [ 0.9998],\n",
       "        [-0.9999],\n",
       "        [ 0.9005],\n",
       "        [ 0.9986],\n",
       "        [ 0.9931],\n",
       "        [-0.9999],\n",
       "        [-0.9999],\n",
       "        [ 0.9997],\n",
       "        [-0.9997],\n",
       "        [ 0.9622],\n",
       "        [ 0.9999],\n",
       "        [-0.9999],\n",
       "        [ 0.9982],\n",
       "        [-0.9998],\n",
       "        [ 0.5836],\n",
       "        [-0.9999],\n",
       "        [-0.9995],\n",
       "        [ 0.9983],\n",
       "        [ 0.9967],\n",
       "        [ 0.9983],\n",
       "        [ 0.8765],\n",
       "        [-0.9989],\n",
       "        [-0.8069],\n",
       "        [-0.9994],\n",
       "        [-0.9999],\n",
       "        [ 0.6492],\n",
       "        [ 0.9961],\n",
       "        [-0.9999],\n",
       "        [-0.9997],\n",
       "        [ 0.9997],\n",
       "        [-0.9812],\n",
       "        [ 0.9999],\n",
       "        [ 0.9997],\n",
       "        [-0.9999],\n",
       "        [-0.9993],\n",
       "        [-0.4049],\n",
       "        [ 0.9996],\n",
       "        [ 0.9993],\n",
       "        [-0.9999],\n",
       "        [ 0.9998],\n",
       "        [ 0.9965],\n",
       "        [-0.9871],\n",
       "        [ 0.9999],\n",
       "        [-0.9042],\n",
       "        [ 0.9997],\n",
       "        [-0.9945],\n",
       "        [ 0.9997],\n",
       "        [ 0.9979]], device='cuda:0')"
      ]
     },
     "execution_count": 16,
     "metadata": {},
     "output_type": "execute_result"
    }
   ],
   "execution_count": 16
  },
  {
   "metadata": {},
   "cell_type": "markdown",
   "source": [
    "**Create a multi-class dataset using the spirals data creation function from CS231n (see below for the code).\n",
    "Construct a model capable of fitting the data (you may need a combination of linear and non-linear layers).\n",
    "Build a loss function and optimizer capable of handling multi-class data (optional extension: use the Adam optimizer instead of SGD, you may have to experiment with different values of the learning rate to get it working).\n",
    "Make a training and testing loop for the multi-class data and train a model on it to reach over 95% testing accuracy (you can use any accuracy measuring function here that you like).\n",
    "Plot the decision boundaries on the spirals dataset from your model predictions, the plot_decision_boundary() function should work for this dataset too.**"
   ],
   "id": "31f08e08c5e189a0"
  },
  {
   "metadata": {
    "ExecuteTime": {
     "end_time": "2024-08-12T21:53:09.988252Z",
     "start_time": "2024-08-12T21:53:09.911146Z"
    }
   },
   "cell_type": "code",
   "source": [
    "# Code for creating a spiral dataset from CS231n\n",
    "import numpy as np\n",
    "N = 100 # number of points per class\n",
    "D = 2 # dimensionality\n",
    "K = 3 # number of classes\n",
    "X = np.zeros((N*K,D)) # data matrix (each row = single example)\n",
    "y = np.zeros(N*K, dtype='uint8') # class labels\n",
    "for j in range(K):\n",
    "  ix = range(N*j,N*(j+1))\n",
    "  r = np.linspace(0.0,1,N) # radius\n",
    "  t = np.linspace(j*4,(j+1)*4,N) + np.random.randn(N)*0.2 # theta\n",
    "  X[ix] = np.c_[r*np.sin(t), r*np.cos(t)]\n",
    "  y[ix] = j\n",
    "# lets visualize the data\n",
    "plt.scatter(X[:, 0], X[:, 1], c=y, s=40, cmap=plt.cm.Spectral)\n",
    "plt.show()"
   ],
   "id": "cf30c6e147e2c808",
   "outputs": [
    {
     "data": {
      "text/plain": [
       "<Figure size 640x480 with 1 Axes>"
      ],
      "image/png": "[encoded data removed]"
     },
     "metadata": {},
     "output_type": "display_data"
    }
   ],
   "execution_count": 17
  },
  {
   "metadata": {
    "ExecuteTime": {
     "end_time": "2024-08-12T21:53:09.991558Z",
     "start_time": "2024-08-12T21:53:09.988850Z"
    }
   },
   "cell_type": "code",
   "source": "X.shape",
   "id": "1c48d3134a045846",
   "outputs": [
    {
     "data": {
      "text/plain": [
       "(300, 2)"
      ]
     },
     "execution_count": 18,
     "metadata": {},
     "output_type": "execute_result"
    }
   ],
   "execution_count": 18
  },
  {
   "metadata": {
    "ExecuteTime": {
     "end_time": "2024-08-12T21:53:10.007876Z",
     "start_time": "2024-08-12T21:53:09.992400Z"
    }
   },
   "cell_type": "code",
   "source": [
    "X_train, X_test, y_train, y_test = train_test_split(X, y, test_size = 0.2, random_state = 42)\n",
    "X_train = torch.from_numpy(X_train).type(torch.float32).to(device)\n",
    "X_test = torch.from_numpy(X_test).type(torch.float32).to(device)\n",
    "y_train = torch.from_numpy(y_train).type(torch.float32).to(device)\n",
    "y_test = torch.from_numpy(y_test).type(torch.float32).to(device)"
   ],
   "id": "72be83cff7a43786",
   "outputs": [],
   "execution_count": 19
  },
  {
   "metadata": {
    "ExecuteTime": {
     "end_time": "2024-08-12T21:53:10.033375Z",
     "start_time": "2024-08-12T21:53:10.008586Z"
    }
   },
   "cell_type": "code",
   "source": [
    "class MultiClassClassifier(nn.Module):\n",
    "    def __init__(self, input_features, output_features, hidden_units = 8):\n",
    "        super().__init__()\n",
    "        self.fc_layers = nn.Sequential(nn.Linear(in_features = input_features, out_features = 128),\n",
    "                                       nn.ReLU(),\n",
    "                                       nn.Dropout(0.5),\n",
    "                                       nn.Linear(in_features = 128, out_features = 64),\n",
    "                                       nn.ReLU(),\n",
    "                                       nn.Dropout(0.5),\n",
    "                                       nn.Linear(in_features = 64, out_features = 64),\n",
    "                                       nn.ReLU(),\n",
    "                                       nn.Linear(in_features = 64, out_features = output_features))\n",
    "                                       \n",
    "    def forward(self, x):\n",
    "        return self.fc_layers(x)"
   ],
   "id": "f5969248d05da72e",
   "outputs": [],
   "execution_count": 20
  },
  {
   "metadata": {
    "ExecuteTime": {
     "end_time": "2024-08-12T21:53:10.059664Z",
     "start_time": "2024-08-12T21:53:10.034158Z"
    }
   },
   "cell_type": "code",
   "source": "mclassifier = MultiClassClassifier(input_features = 2, output_features = 3).to(device)",
   "id": "10678a10fef59298",
   "outputs": [],
   "execution_count": 21
  },
  {
   "metadata": {
    "ExecuteTime": {
     "end_time": "2024-08-12T21:53:10.075253Z",
     "start_time": "2024-08-12T21:53:10.060546Z"
    }
   },
   "cell_type": "code",
   "source": [
    "mclassloss_fn = nn.CrossEntropyLoss()\n",
    "mclassopt_fn = torch.optim.Adam(params = mclassifier.parameters(), lr = 0.0025)"
   ],
   "id": "4ab749c54039ad03",
   "outputs": [],
   "execution_count": 22
  },
  {
   "metadata": {
    "ExecuteTime": {
     "end_time": "2024-08-12T21:53:10.098983Z",
     "start_time": "2024-08-12T21:53:10.076316Z"
    }
   },
   "cell_type": "code",
   "source": [
    "#Perf metrics\n",
    "mclass_acc = torchmetrics.Accuracy(task = 'multiclass', num_classes = 3).to(device)\n",
    "mclass_prec = torchmetrics.Precision(task = 'multiclass', num_classes = 3).to(device)\n",
    "mclass_rec = torchmetrics.Recall(task = 'multiclass', num_classes = 3).to(device)"
   ],
   "id": "16e1ee4a7b42db5d",
   "outputs": [],
   "execution_count": 23
  },
  {
   "metadata": {
    "ExecuteTime": {
     "end_time": "2024-08-12T21:53:10.331853Z",
     "start_time": "2024-08-12T21:53:10.099915Z"
    }
   },
   "cell_type": "code",
   "source": [
    "#Train and test loops\n",
    "epochs = 100\n",
    "for i in range(epochs):\n",
    "    #Train mode\n",
    "    mclassifier.train()\n",
    "    #Forward Pass\n",
    "    train_logits = mclassifier(X_train).squeeze()\n",
    "    train_pred_labels = torch.softmax(train_logits, dim = 1).argmax(dim = 1)\n",
    "    #Loss\n",
    "    train_loss = mclassloss_fn(train_logits, y_train.type(torch.long))\n",
    "    #Accuracy\n",
    "    train_acc = mclass_acc(y_train, train_pred_labels)\n",
    "    #Reset optimizer\n",
    "    mclassopt_fn.zero_grad()\n",
    "    #Backpropagation\n",
    "    train_loss.backward()\n",
    "    #Stepping the optimizer\n",
    "    mclassopt_fn.step()\n",
    "    #Eval mode\n",
    "    mclassifier.eval()\n",
    "    #Inference mode\n",
    "    with torch.inference_mode():\n",
    "        #Forward Pass\n",
    "        test_logits = mclassifier(X_test).squeeze()\n",
    "        test_pred_labels = torch.softmax(test_logits, dim = 1).argmax(dim = 1)\n",
    "        #Loss\n",
    "        test_loss = mclassloss_fn(test_logits, y_test.type(torch.long))\n",
    "        #Accuracy\n",
    "        test_acc = mclass_acc(y_test.type(torch.long), test_pred_labels)\n",
    "    print(f'Epoch {i +1} | Train Loss: {train_loss} | Train Accuracy: {train_acc} % | Test Loss: {test_loss} | Test Accuracy: {test_acc} % ')"
   ],
   "id": "b0a57f1255ccf62b",
   "outputs": [
    {
     "name": "stdout",
     "output_type": "stream",
     "text": [
      "Epoch 1 | Train Loss: 1.101372480392456 | Train Accuracy: 0.32499998807907104 % | Test Loss: 1.0927001237869263 | Test Accuracy: 0.4333333373069763 % \n",
      "Epoch 2 | Train Loss: 1.0955851078033447 | Train Accuracy: 0.375 % | Test Loss: 1.0831907987594604 | Test Accuracy: 0.44999998807907104 % \n",
      "Epoch 3 | Train Loss: 1.0878599882125854 | Train Accuracy: 0.4166666567325592 % | Test Loss: 1.0744426250457764 | Test Accuracy: 0.5666666626930237 % \n",
      "Epoch 4 | Train Loss: 1.0679728984832764 | Train Accuracy: 0.46666666865348816 % | Test Loss: 1.0652157068252563 | Test Accuracy: 0.6000000238418579 % \n",
      "Epoch 5 | Train Loss: 1.0664631128311157 | Train Accuracy: 0.4958333373069763 % | Test Loss: 1.0539097785949707 | Test Accuracy: 0.5333333611488342 % \n",
      "Epoch 6 | Train Loss: 1.0537196397781372 | Train Accuracy: 0.4833333194255829 % | Test Loss: 1.0406862497329712 | Test Accuracy: 0.46666666865348816 % \n",
      "Epoch 7 | Train Loss: 1.0492044687271118 | Train Accuracy: 0.5166666507720947 % | Test Loss: 1.0264813899993896 | Test Accuracy: 0.46666666865348816 % \n",
      "Epoch 8 | Train Loss: 1.0280095338821411 | Train Accuracy: 0.5249999761581421 % | Test Loss: 1.0103873014450073 | Test Accuracy: 0.46666666865348816 % \n",
      "Epoch 9 | Train Loss: 1.0114092826843262 | Train Accuracy: 0.5541666746139526 % | Test Loss: 0.9922647476196289 | Test Accuracy: 0.46666666865348816 % \n",
      "Epoch 10 | Train Loss: 1.0119918584823608 | Train Accuracy: 0.5208333134651184 % | Test Loss: 0.9724342823028564 | Test Accuracy: 0.4833333194255829 % \n",
      "Epoch 11 | Train Loss: 0.9748058319091797 | Train Accuracy: 0.5874999761581421 % | Test Loss: 0.9511540532112122 | Test Accuracy: 0.5 % \n",
      "Epoch 12 | Train Loss: 0.9674495458602905 | Train Accuracy: 0.5458333492279053 % | Test Loss: 0.9281871318817139 | Test Accuracy: 0.5 % \n",
      "Epoch 13 | Train Loss: 0.9318056702613831 | Train Accuracy: 0.5833333134651184 % | Test Loss: 0.9043518900871277 | Test Accuracy: 0.5333333611488342 % \n",
      "Epoch 14 | Train Loss: 0.898208737373352 | Train Accuracy: 0.574999988079071 % | Test Loss: 0.8801355361938477 | Test Accuracy: 0.5333333611488342 % \n",
      "Epoch 15 | Train Loss: 0.8805930614471436 | Train Accuracy: 0.5916666388511658 % | Test Loss: 0.8572478890419006 | Test Accuracy: 0.5166666507720947 % \n",
      "Epoch 16 | Train Loss: 0.861605703830719 | Train Accuracy: 0.5874999761581421 % | Test Loss: 0.8367016911506653 | Test Accuracy: 0.5166666507720947 % \n",
      "Epoch 17 | Train Loss: 0.8272117972373962 | Train Accuracy: 0.6000000238418579 % | Test Loss: 0.8178630471229553 | Test Accuracy: 0.5 % \n",
      "Epoch 18 | Train Loss: 0.8380687236785889 | Train Accuracy: 0.5541666746139526 % | Test Loss: 0.8001459836959839 | Test Accuracy: 0.5 % \n",
      "Epoch 19 | Train Loss: 0.8232561945915222 | Train Accuracy: 0.5666666626930237 % | Test Loss: 0.7856533527374268 | Test Accuracy: 0.5166666507720947 % \n",
      "Epoch 20 | Train Loss: 0.8096523880958557 | Train Accuracy: 0.5833333134651184 % | Test Loss: 0.775921642780304 | Test Accuracy: 0.5333333611488342 % \n",
      "Epoch 21 | Train Loss: 0.8055979609489441 | Train Accuracy: 0.5874999761581421 % | Test Loss: 0.7702026963233948 | Test Accuracy: 0.5666666626930237 % \n",
      "Epoch 22 | Train Loss: 0.7700527310371399 | Train Accuracy: 0.6291666626930237 % | Test Loss: 0.7694822549819946 | Test Accuracy: 0.5833333134651184 % \n",
      "Epoch 23 | Train Loss: 0.7385692000389099 | Train Accuracy: 0.6291666626930237 % | Test Loss: 0.7680870294570923 | Test Accuracy: 0.5833333134651184 % \n",
      "Epoch 24 | Train Loss: 0.7950142621994019 | Train Accuracy: 0.637499988079071 % | Test Loss: 0.7680757641792297 | Test Accuracy: 0.5666666626930237 % \n",
      "Epoch 25 | Train Loss: 0.7420812249183655 | Train Accuracy: 0.6333333253860474 % | Test Loss: 0.7624601721763611 | Test Accuracy: 0.5333333611488342 % \n",
      "Epoch 26 | Train Loss: 0.7595195770263672 | Train Accuracy: 0.6333333253860474 % | Test Loss: 0.7565073370933533 | Test Accuracy: 0.5 % \n",
      "Epoch 27 | Train Loss: 0.736992597579956 | Train Accuracy: 0.625 % | Test Loss: 0.7477888464927673 | Test Accuracy: 0.5 % \n",
      "Epoch 28 | Train Loss: 0.6905772089958191 | Train Accuracy: 0.6791666746139526 % | Test Loss: 0.7335768342018127 | Test Accuracy: 0.5 % \n",
      "Epoch 29 | Train Loss: 0.7280200123786926 | Train Accuracy: 0.6583333611488342 % | Test Loss: 0.7193589806556702 | Test Accuracy: 0.5333333611488342 % \n",
      "Epoch 30 | Train Loss: 0.6875588893890381 | Train Accuracy: 0.6458333134651184 % | Test Loss: 0.7052106261253357 | Test Accuracy: 0.5333333611488342 % \n",
      "Epoch 31 | Train Loss: 0.748478889465332 | Train Accuracy: 0.6166666746139526 % | Test Loss: 0.6885154843330383 | Test Accuracy: 0.5333333611488342 % \n",
      "Epoch 32 | Train Loss: 0.6487022638320923 | Train Accuracy: 0.6833333373069763 % | Test Loss: 0.6774134039878845 | Test Accuracy: 0.550000011920929 % \n",
      "Epoch 33 | Train Loss: 0.6926515102386475 | Train Accuracy: 0.6708333492279053 % | Test Loss: 0.6695094704627991 | Test Accuracy: 0.550000011920929 % \n",
      "Epoch 34 | Train Loss: 0.6774236559867859 | Train Accuracy: 0.6625000238418579 % | Test Loss: 0.6624401211738586 | Test Accuracy: 0.5666666626930237 % \n",
      "Epoch 35 | Train Loss: 0.6152088046073914 | Train Accuracy: 0.699999988079071 % | Test Loss: 0.6534287333488464 | Test Accuracy: 0.6000000238418579 % \n",
      "Epoch 36 | Train Loss: 0.6655065417289734 | Train Accuracy: 0.699999988079071 % | Test Loss: 0.6428784728050232 | Test Accuracy: 0.5833333134651184 % \n",
      "Epoch 37 | Train Loss: 0.6297928094863892 | Train Accuracy: 0.6875 % | Test Loss: 0.6289840340614319 | Test Accuracy: 0.5833333134651184 % \n",
      "Epoch 38 | Train Loss: 0.6607792973518372 | Train Accuracy: 0.6666666865348816 % | Test Loss: 0.6140573024749756 | Test Accuracy: 0.5833333134651184 % \n",
      "Epoch 39 | Train Loss: 0.6121188998222351 | Train Accuracy: 0.6958333253860474 % | Test Loss: 0.6033557057380676 | Test Accuracy: 0.6333333253860474 % \n",
      "Epoch 40 | Train Loss: 0.5745821595191956 | Train Accuracy: 0.7333333492279053 % | Test Loss: 0.590403139591217 | Test Accuracy: 0.6333333253860474 % \n",
      "Epoch 41 | Train Loss: 0.6263056993484497 | Train Accuracy: 0.6875 % | Test Loss: 0.5761868357658386 | Test Accuracy: 0.6499999761581421 % \n",
      "Epoch 42 | Train Loss: 0.6753097176551819 | Train Accuracy: 0.6708333492279053 % | Test Loss: 0.5639424920082092 | Test Accuracy: 0.6499999761581421 % \n",
      "Epoch 43 | Train Loss: 0.6149211525917053 | Train Accuracy: 0.6666666865348816 % | Test Loss: 0.554160475730896 | Test Accuracy: 0.6499999761581421 % \n",
      "Epoch 44 | Train Loss: 0.5698645114898682 | Train Accuracy: 0.7291666865348816 % | Test Loss: 0.5464205145835876 | Test Accuracy: 0.6833333373069763 % \n",
      "Epoch 45 | Train Loss: 0.5745989084243774 | Train Accuracy: 0.7791666388511658 % | Test Loss: 0.5377706289291382 | Test Accuracy: 0.6833333373069763 % \n",
      "Epoch 46 | Train Loss: 0.5746776461601257 | Train Accuracy: 0.7458333373069763 % | Test Loss: 0.5263552069664001 | Test Accuracy: 0.699999988079071 % \n",
      "Epoch 47 | Train Loss: 0.5435894727706909 | Train Accuracy: 0.7875000238418579 % | Test Loss: 0.5138639807701111 | Test Accuracy: 0.7166666388511658 % \n",
      "Epoch 48 | Train Loss: 0.5783110857009888 | Train Accuracy: 0.75 % | Test Loss: 0.49647971987724304 | Test Accuracy: 0.75 % \n",
      "Epoch 49 | Train Loss: 0.5380622744560242 | Train Accuracy: 0.7541666626930237 % | Test Loss: 0.4773554801940918 | Test Accuracy: 0.7666666507720947 % \n",
      "Epoch 50 | Train Loss: 0.5047568678855896 | Train Accuracy: 0.7791666388511658 % | Test Loss: 0.4596163332462311 | Test Accuracy: 0.7833333611488342 % \n",
      "Epoch 51 | Train Loss: 0.565144419670105 | Train Accuracy: 0.7541666626930237 % | Test Loss: 0.44341543316841125 | Test Accuracy: 0.7666666507720947 % \n",
      "Epoch 52 | Train Loss: 0.5281208753585815 | Train Accuracy: 0.7708333134651184 % | Test Loss: 0.4295468330383301 | Test Accuracy: 0.800000011920929 % \n",
      "Epoch 53 | Train Loss: 0.5004212260246277 | Train Accuracy: 0.7791666388511658 % | Test Loss: 0.41868630051612854 | Test Accuracy: 0.800000011920929 % \n",
      "Epoch 54 | Train Loss: 0.5216456651687622 | Train Accuracy: 0.737500011920929 % | Test Loss: 0.40856820344924927 | Test Accuracy: 0.8166666626930237 % \n",
      "Epoch 55 | Train Loss: 0.4390519857406616 | Train Accuracy: 0.8374999761581421 % | Test Loss: 0.4000433087348938 | Test Accuracy: 0.8166666626930237 % \n",
      "Epoch 56 | Train Loss: 0.47816675901412964 | Train Accuracy: 0.7833333611488342 % | Test Loss: 0.39409229159355164 | Test Accuracy: 0.8166666626930237 % \n",
      "Epoch 57 | Train Loss: 0.42929938435554504 | Train Accuracy: 0.824999988079071 % | Test Loss: 0.3861181437969208 | Test Accuracy: 0.8166666626930237 % \n",
      "Epoch 58 | Train Loss: 0.44279906153678894 | Train Accuracy: 0.8166666626930237 % | Test Loss: 0.370514839887619 | Test Accuracy: 0.8166666626930237 % \n",
      "Epoch 59 | Train Loss: 0.4498771131038666 | Train Accuracy: 0.8083333373069763 % | Test Loss: 0.35435500741004944 | Test Accuracy: 0.8666666746139526 % \n",
      "Epoch 60 | Train Loss: 0.4186362326145172 | Train Accuracy: 0.8374999761581421 % | Test Loss: 0.3406978249549866 | Test Accuracy: 0.8999999761581421 % \n",
      "Epoch 61 | Train Loss: 0.4614937901496887 | Train Accuracy: 0.8458333611488342 % | Test Loss: 0.32428234815597534 | Test Accuracy: 0.8999999761581421 % \n",
      "Epoch 62 | Train Loss: 0.44440966844558716 | Train Accuracy: 0.8166666626930237 % | Test Loss: 0.31100156903266907 | Test Accuracy: 0.8666666746139526 % \n",
      "Epoch 63 | Train Loss: 0.388376384973526 | Train Accuracy: 0.8541666865348816 % | Test Loss: 0.2997744381427765 | Test Accuracy: 0.8833333253860474 % \n",
      "Epoch 64 | Train Loss: 0.41520342230796814 | Train Accuracy: 0.824999988079071 % | Test Loss: 0.28842952847480774 | Test Accuracy: 0.8999999761581421 % \n",
      "Epoch 65 | Train Loss: 0.406765878200531 | Train Accuracy: 0.8291666507720947 % | Test Loss: 0.27942657470703125 | Test Accuracy: 0.8833333253860474 % \n",
      "Epoch 66 | Train Loss: 0.3902043402194977 | Train Accuracy: 0.8541666865348816 % | Test Loss: 0.273730605840683 | Test Accuracy: 0.9166666865348816 % \n",
      "Epoch 67 | Train Loss: 0.4102981686592102 | Train Accuracy: 0.8583333492279053 % | Test Loss: 0.27013126015663147 | Test Accuracy: 0.9166666865348816 % \n",
      "Epoch 68 | Train Loss: 0.40874797105789185 | Train Accuracy: 0.8458333611488342 % | Test Loss: 0.2688750922679901 | Test Accuracy: 0.8999999761581421 % \n",
      "Epoch 69 | Train Loss: 0.3532034754753113 | Train Accuracy: 0.8500000238418579 % | Test Loss: 0.2628108859062195 | Test Accuracy: 0.8999999761581421 % \n",
      "Epoch 70 | Train Loss: 0.37552908062934875 | Train Accuracy: 0.8416666388511658 % | Test Loss: 0.25045502185821533 | Test Accuracy: 0.9166666865348816 % \n",
      "Epoch 71 | Train Loss: 0.3197961747646332 | Train Accuracy: 0.8833333253860474 % | Test Loss: 0.23650774359703064 | Test Accuracy: 0.9166666865348816 % \n",
      "Epoch 72 | Train Loss: 0.30106791853904724 | Train Accuracy: 0.8833333253860474 % | Test Loss: 0.2235792577266693 | Test Accuracy: 0.9166666865348816 % \n",
      "Epoch 73 | Train Loss: 0.3650294542312622 | Train Accuracy: 0.8541666865348816 % | Test Loss: 0.2142201066017151 | Test Accuracy: 0.8999999761581421 % \n",
      "Epoch 74 | Train Loss: 0.3289978802204132 | Train Accuracy: 0.8708333373069763 % | Test Loss: 0.20809176564216614 | Test Accuracy: 0.8999999761581421 % \n",
      "Epoch 75 | Train Loss: 0.36309993267059326 | Train Accuracy: 0.8541666865348816 % | Test Loss: 0.2031080424785614 | Test Accuracy: 0.8999999761581421 % \n",
      "Epoch 76 | Train Loss: 0.32304757833480835 | Train Accuracy: 0.862500011920929 % | Test Loss: 0.19862152636051178 | Test Accuracy: 0.8999999761581421 % \n",
      "Epoch 77 | Train Loss: 0.3424800634384155 | Train Accuracy: 0.8541666865348816 % | Test Loss: 0.1945028007030487 | Test Accuracy: 0.9166666865348816 % \n",
      "Epoch 78 | Train Loss: 0.352965772151947 | Train Accuracy: 0.8458333611488342 % | Test Loss: 0.19444140791893005 | Test Accuracy: 0.9333333373069763 % \n",
      "Epoch 79 | Train Loss: 0.32055890560150146 | Train Accuracy: 0.8999999761581421 % | Test Loss: 0.19736626744270325 | Test Accuracy: 0.9166666865348816 % \n",
      "Epoch 80 | Train Loss: 0.3310202956199646 | Train Accuracy: 0.862500011920929 % | Test Loss: 0.2002403885126114 | Test Accuracy: 0.9166666865348816 % \n",
      "Epoch 81 | Train Loss: 0.34607869386672974 | Train Accuracy: 0.862500011920929 % | Test Loss: 0.20368067920207977 | Test Accuracy: 0.9166666865348816 % \n",
      "Epoch 82 | Train Loss: 0.2877689003944397 | Train Accuracy: 0.8708333373069763 % | Test Loss: 0.20060200989246368 | Test Accuracy: 0.9333333373069763 % \n",
      "Epoch 83 | Train Loss: 0.33812814950942993 | Train Accuracy: 0.862500011920929 % | Test Loss: 0.190626323223114 | Test Accuracy: 0.949999988079071 % \n",
      "Epoch 84 | Train Loss: 0.3269473612308502 | Train Accuracy: 0.8708333373069763 % | Test Loss: 0.18253475427627563 | Test Accuracy: 0.9333333373069763 % \n",
      "Epoch 85 | Train Loss: 0.301186203956604 | Train Accuracy: 0.8833333253860474 % | Test Loss: 0.17689476907253265 | Test Accuracy: 0.9666666388511658 % \n",
      "Epoch 86 | Train Loss: 0.2981035113334656 | Train Accuracy: 0.9041666388511658 % | Test Loss: 0.17239119112491608 | Test Accuracy: 0.9666666388511658 % \n",
      "Epoch 87 | Train Loss: 0.28454914689064026 | Train Accuracy: 0.8833333253860474 % | Test Loss: 0.16841255128383636 | Test Accuracy: 0.949999988079071 % \n",
      "Epoch 88 | Train Loss: 0.293352335691452 | Train Accuracy: 0.8999999761581421 % | Test Loss: 0.16612689197063446 | Test Accuracy: 0.9666666388511658 % \n",
      "Epoch 89 | Train Loss: 0.3218683898448944 | Train Accuracy: 0.8833333253860474 % | Test Loss: 0.16557881236076355 | Test Accuracy: 0.9833333492279053 % \n",
      "Epoch 90 | Train Loss: 0.2654385566711426 | Train Accuracy: 0.887499988079071 % | Test Loss: 0.1645672619342804 | Test Accuracy: 0.9833333492279053 % \n",
      "Epoch 91 | Train Loss: 0.278749942779541 | Train Accuracy: 0.9125000238418579 % | Test Loss: 0.162923201918602 | Test Accuracy: 0.9666666388511658 % \n",
      "Epoch 92 | Train Loss: 0.2665858268737793 | Train Accuracy: 0.9125000238418579 % | Test Loss: 0.16135232150554657 | Test Accuracy: 0.9666666388511658 % \n",
      "Epoch 93 | Train Loss: 0.28590044379234314 | Train Accuracy: 0.8833333253860474 % | Test Loss: 0.16008912026882172 | Test Accuracy: 0.9666666388511658 % \n",
      "Epoch 94 | Train Loss: 0.2564283609390259 | Train Accuracy: 0.9083333611488342 % | Test Loss: 0.1578223556280136 | Test Accuracy: 0.949999988079071 % \n",
      "Epoch 95 | Train Loss: 0.28236356377601624 | Train Accuracy: 0.8958333134651184 % | Test Loss: 0.15731483697891235 | Test Accuracy: 0.949999988079071 % \n",
      "Epoch 96 | Train Loss: 0.35356417298316956 | Train Accuracy: 0.887499988079071 % | Test Loss: 0.15447841584682465 | Test Accuracy: 0.949999988079071 % \n",
      "Epoch 97 | Train Loss: 0.22634641826152802 | Train Accuracy: 0.925000011920929 % | Test Loss: 0.14877720177173615 | Test Accuracy: 0.9666666388511658 % \n",
      "Epoch 98 | Train Loss: 0.2331712394952774 | Train Accuracy: 0.925000011920929 % | Test Loss: 0.14365048706531525 | Test Accuracy: 0.9666666388511658 % \n",
      "Epoch 99 | Train Loss: 0.25001153349876404 | Train Accuracy: 0.9041666388511658 % | Test Loss: 0.14002275466918945 | Test Accuracy: 0.9666666388511658 % \n",
      "Epoch 100 | Train Loss: 0.24355986714363098 | Train Accuracy: 0.9208333492279053 % | Test Loss: 0.13684120774269104 | Test Accuracy: 0.9833333492279053 % \n"
     ]
    }
   ],
   "execution_count": 24
  },
  {
   "metadata": {
    "ExecuteTime": {
     "end_time": "2024-08-12T21:53:10.614194Z",
     "start_time": "2024-08-12T21:53:10.332756Z"
    }
   },
   "cell_type": "code",
   "source": [
    "#Plotting the decision boundaries for the multiclass classification model\n",
    "from helper_functions import plot_decision_boundary\n",
    "plt.figure(figsize = (10, 7))\n",
    "plt.subplot(1, 2, 1)\n",
    "plot_decision_boundary(mclassifier, X_train, y_train)\n",
    "plt.subplot(1, 2, 2)\n",
    "plot_decision_boundary(mclassifier, X_test, y_test)"
   ],
   "id": "9e152658ea066857",
   "outputs": [
    {
     "data": {
      "text/plain": [
       "<Figure size 1000x700 with 2 Axes>"
      ],
      "image/png": "[encoded data removed]"
     },
     "metadata": {},
     "output_type": "display_data"
    }
   ],
   "execution_count": 25
  },
  {
   "metadata": {
    "ExecuteTime": {
     "end_time": "2024-08-12T21:54:29.222163Z",
     "start_time": "2024-08-12T21:54:29.217066Z"
    }
   },
   "cell_type": "code",
   "source": [
    "mclassifier.eval()\n",
    "with torch.inference_mode():\n",
    "    y_pred_labels = torch.softmax(mclassifier(X_test.cpu()).squeeze(), dim = 1).argmax(dim = 1)"
   ],
   "id": "b6e06c84da4d5c83",
   "outputs": [],
   "execution_count": 31
  },
  {
   "metadata": {
    "ExecuteTime": {
     "end_time": "2024-08-12T21:54:30.113260Z",
     "start_time": "2024-08-12T21:54:30.107369Z"
    }
   },
   "cell_type": "code",
   "source": "y_pred_labels",
   "id": "73d341882215e5fe",
   "outputs": [
    {
     "data": {
      "text/plain": [
       "tensor([2, 2, 1, 0, 2, 2, 1, 1, 0, 1, 2, 0, 2, 0, 1, 2, 2, 2, 1, 1, 0, 1, 2, 2,\n",
       "        2, 0, 2, 2, 1, 2, 0, 1, 0, 0, 2, 1, 0, 0, 0, 0, 0, 0, 2, 0, 0, 0, 2, 2,\n",
       "        1, 2, 1, 1, 2, 0, 2, 2, 0, 0, 1, 0])"
      ]
     },
     "execution_count": 32,
     "metadata": {},
     "output_type": "execute_result"
    }
   ],
   "execution_count": 32
  },
  {
   "metadata": {
    "ExecuteTime": {
     "end_time": "2024-08-12T21:54:30.641476Z",
     "start_time": "2024-08-12T21:54:30.634132Z"
    }
   },
   "cell_type": "code",
   "source": "y_test",
   "id": "fde084d5d16eac8e",
   "outputs": [
    {
     "data": {
      "text/plain": [
       "tensor([2., 2., 1., 0., 2., 2., 1., 1., 0., 1., 2., 0., 2., 0., 1., 2., 2., 2.,\n",
       "        1., 1., 0., 1., 2., 2., 1., 0., 2., 2., 1., 2., 0., 1., 0., 0., 2., 1.,\n",
       "        0., 0., 0., 0., 0., 0., 2., 0., 0., 0., 2., 2., 1., 2., 1., 1., 2., 0.,\n",
       "        2., 2., 0., 0., 1., 0.], device='cuda:0')"
      ]
     },
     "execution_count": 33,
     "metadata": {},
     "output_type": "execute_result"
    }
   ],
   "execution_count": 33
  },
  {
   "metadata": {
    "ExecuteTime": {
     "end_time": "2024-08-12T21:54:46.714769Z",
     "start_time": "2024-08-12T21:54:46.711146Z"
    }
   },
   "cell_type": "code",
   "source": "y_pred_labels == y_test.cpu()",
   "id": "a2f9b9adc95c723f",
   "outputs": [
    {
     "data": {
      "text/plain": [
       "tensor([ True,  True,  True,  True,  True,  True,  True,  True,  True,  True,\n",
       "         True,  True,  True,  True,  True,  True,  True,  True,  True,  True,\n",
       "         True,  True,  True,  True, False,  True,  True,  True,  True,  True,\n",
       "         True,  True,  True,  True,  True,  True,  True,  True,  True,  True,\n",
       "         True,  True,  True,  True,  True,  True,  True,  True,  True,  True,\n",
       "         True,  True,  True,  True,  True,  True,  True,  True,  True,  True])"
      ]
     },
     "execution_count": 35,
     "metadata": {},
     "output_type": "execute_result"
    }
   ],
   "execution_count": 35
  },
  {
   "metadata": {},
   "cell_type": "code",
   "outputs": [],
   "execution_count": null,
   "source": "",
   "id": "73d1ec99a0b032f0"
  }
 ],
 "metadata": {
  "kernelspec": {
   "display_name": "Python 3",
   "language": "python",
   "name": "python3"
  },
  "language_info": {
   "codemirror_mode": {
    "name": "ipython",
    "version": 2
   },
   "file_extension": ".py",
   "mimetype": "text/x-python",
   "name": "python",
   "nbconvert_exporter": "python",
   "pygments_lexer": "ipython2",
   "version": "2.7.6"
  }
 },
 "nbformat": 4,
 "nbformat_minor": 5
}
