{
 "cells": [
  {
   "metadata": {},
   "cell_type": "markdown",
   "source": "**Create a random Tensor with shape (7, 7)**",
   "id": "a9d0901c994b9ee9"
  },
  {
   "metadata": {
    "ExecuteTime": {
     "end_time": "2024-08-06T19:24:49.307843Z",
     "start_time": "2024-08-06T19:24:48.792824Z"
    }
   },
   "cell_type": "code",
   "source": [
    "import torch\n",
    "random_tensor_1 = torch.rand(7, 7)\n",
    "random_tensor_1"
   ],
   "id": "42b0bfb8f90a6af5",
   "outputs": [
    {
     "data": {
      "text/plain": [
       "tensor([[0.9791, 0.9306, 0.5077, 0.1258, 0.9102, 0.4653, 0.0294],\n",
       "        [0.1577, 0.7313, 0.7830, 0.1197, 0.8687, 0.7045, 0.5221],\n",
       "        [0.7619, 0.2135, 0.4640, 0.1913, 0.2937, 0.0567, 0.0452],\n",
       "        [0.2134, 0.5441, 0.7900, 0.6070, 0.8849, 0.2870, 0.0917],\n",
       "        [0.2087, 0.7432, 0.6151, 0.1665, 0.8413, 0.7988, 0.1125],\n",
       "        [0.9127, 0.7868, 0.1689, 0.7724, 0.0044, 0.5555, 0.8216],\n",
       "        [0.8826, 0.2277, 0.1597, 0.6860, 0.4373, 0.7557, 0.0496]])"
      ]
     },
     "execution_count": 1,
     "metadata": {},
     "output_type": "execute_result"
    }
   ],
   "execution_count": 1
  },
  {
   "metadata": {},
   "cell_type": "markdown",
   "source": "**Perform a matrix multiplication on the tensor from 2 with another random tensor with shape (1, 7) (hint: you may have to transpose the second tensor).**",
   "id": "17f94022ffb7bdb1"
  },
  {
   "metadata": {
    "ExecuteTime": {
     "end_time": "2024-08-06T19:27:10.563331Z",
     "start_time": "2024-08-06T19:27:10.559225Z"
    }
   },
   "cell_type": "code",
   "source": [
    "random_tensor_2 = torch.rand(1, 7)\n",
    "print(f'Matrix multiplcation: {torch.matmul(random_tensor_1, random_tensor_2.mT)}')"
   ],
   "id": "e0511709874d2b",
   "outputs": [
    {
     "name": "stdout",
     "output_type": "stream",
     "text": [
      "Matrix multiplcation: tensor([[1.3830],\n",
      "        [1.5042],\n",
      "        [0.5665],\n",
      "        [0.9288],\n",
      "        [1.1754],\n",
      "        [1.8627],\n",
      "        [0.7930]])\n"
     ]
    }
   ],
   "execution_count": 3
  },
  {
   "metadata": {},
   "cell_type": "markdown",
   "source": "**Set the random seed to 0 and do 2 & 3 over again.**",
   "id": "51ea6b652565387b"
  },
  {
   "metadata": {
    "ExecuteTime": {
     "end_time": "2024-08-06T19:30:47.294909Z",
     "start_time": "2024-08-06T19:30:47.286674Z"
    }
   },
   "cell_type": "code",
   "source": [
    "torch.manual_seed(0)\n",
    "random_tensor_1 = torch.rand(7, 7)\n",
    "random_tensor_2  = torch.rand(1, 7)\n",
    "random_tensor_2_transpose = random_tensor_2.mT\n",
    "product_tensor = torch.matmul(random_tensor_1, random_tensor_2_transpose)\n",
    "print(f'Random Tensor 1: {random_tensor_1}\\nRandom Tensor 2: {random_tensor_2}\\nTranspose of Random Tensor 2: {random_tensor_2_transpose}\\nResult of matrix multiplcation: {[product_tensor]}')"
   ],
   "id": "69c4a996859fd719",
   "outputs": [
    {
     "name": "stdout",
     "output_type": "stream",
     "text": [
      "Random Tensor 1: tensor([[0.4963, 0.7682, 0.0885, 0.1320, 0.3074, 0.6341, 0.4901],\n",
      "        [0.8964, 0.4556, 0.6323, 0.3489, 0.4017, 0.0223, 0.1689],\n",
      "        [0.2939, 0.5185, 0.6977, 0.8000, 0.1610, 0.2823, 0.6816],\n",
      "        [0.9152, 0.3971, 0.8742, 0.4194, 0.5529, 0.9527, 0.0362],\n",
      "        [0.1852, 0.3734, 0.3051, 0.9320, 0.1759, 0.2698, 0.1507],\n",
      "        [0.0317, 0.2081, 0.9298, 0.7231, 0.7423, 0.5263, 0.2437],\n",
      "        [0.5846, 0.0332, 0.1387, 0.2422, 0.8155, 0.7932, 0.2783]])\n",
      "Random Tensor 2: tensor([[0.4820, 0.8198, 0.9971, 0.6984, 0.5675, 0.8352, 0.2056]])\n",
      "Transpose of Random Tensor 2: tensor([[0.4820],\n",
      "        [0.8198],\n",
      "        [0.9971],\n",
      "        [0.6984],\n",
      "        [0.5675],\n",
      "        [0.8352],\n",
      "        [0.2056]])\n",
      "Result of matrix multiplcation: [tensor([[1.8542],\n",
      "        [1.9611],\n",
      "        [2.2884],\n",
      "        [3.0481],\n",
      "        [1.7067],\n",
      "        [2.5290],\n",
      "        [1.7989]])]\n"
     ]
    }
   ],
   "execution_count": 4
  },
  {
   "metadata": {},
   "cell_type": "markdown",
   "source": [
    "**Speaking of random seeds, we saw how to set it with torch.manual_seed() but is there a GPU equivalent? (hint: you'll need to look into the documentation for torch.cuda for this one)\n",
    "If there is, set the GPU random seed to 1234.**"
   ],
   "id": "15fd4f759558cd6d"
  },
  {
   "metadata": {
    "ExecuteTime": {
     "end_time": "2024-08-06T19:33:06.158321Z",
     "start_time": "2024-08-06T19:33:06.153737Z"
    }
   },
   "cell_type": "code",
   "source": [
    "from torch import cuda\n",
    "cuda.manual_seed(1234)"
   ],
   "id": "e16a831bb92f8a6b",
   "outputs": [],
   "execution_count": 6
  },
  {
   "metadata": {},
   "cell_type": "markdown",
   "source": "**Create two random tensors of shape (2, 3) and send them both to the GPU (you'll need access to a GPU for this). Set torch.manual_seed(1234) when creating the tensors (this doesn't have to be the GPU random seed). The output should be something like:**",
   "id": "bc2353e153f113e5"
  },
  {
   "metadata": {
    "ExecuteTime": {
     "end_time": "2024-08-06T19:37:20.106297Z",
     "start_time": "2024-08-06T19:37:19.916506Z"
    }
   },
   "cell_type": "code",
   "source": [
    "random_tensor_3 = torch.rand(2, 3)\n",
    "random_tensor_4 = torch.rand(2, 3)\n",
    "\n",
    "#Getting the GPU\n",
    "device = 'cuda' if cuda.is_available() else 'cpu'\n",
    "random_tensor_3_on_gpu = random_tensor_3.to(device)\n",
    "random_tensor_4_on_gpu = random_tensor_4.to(device)\n",
    "#Setting torch manual seed\n",
    "torch.manual_seed(1234)\n",
    "print(f'Device: {device}\\nRandom Tensor 3: {random_tensor_3_on_gpu}\\nRandom Tensor 4: {random_tensor_4_on_gpu}')"
   ],
   "id": "9d92bc9d5086f957",
   "outputs": [
    {
     "name": "stdout",
     "output_type": "stream",
     "text": [
      "Device: cuda\n",
      "Random Tensor 3: tensor([[0.5932, 0.1123, 0.1535],\n",
      "        [0.2417, 0.7262, 0.7011]], device='cuda:0')\n",
      "Random Tensor 4: tensor([[0.2038, 0.6511, 0.7745],\n",
      "        [0.4369, 0.5191, 0.6159]], device='cuda:0')\n"
     ]
    }
   ],
   "execution_count": 7
  },
  {
   "metadata": {},
   "cell_type": "markdown",
   "source": "**Perform a matrix multiplication on the tensors you created in 6 (again, you may have to adjust the shapes of one of the tensors).**",
   "id": "40a4ff2d723add76"
  },
  {
   "metadata": {
    "ExecuteTime": {
     "end_time": "2024-08-06T19:41:21.716805Z",
     "start_time": "2024-08-06T19:41:21.710322Z"
    }
   },
   "cell_type": "code",
   "source": "random_tensor_3_on_gpu.shape",
   "id": "fd85e15fd84bf809",
   "outputs": [
    {
     "data": {
      "text/plain": [
       "torch.Size([2, 3])"
      ]
     },
     "execution_count": 9,
     "metadata": {},
     "output_type": "execute_result"
    }
   ],
   "execution_count": 9
  },
  {
   "metadata": {
    "ExecuteTime": {
     "end_time": "2024-08-06T19:41:44.876552Z",
     "start_time": "2024-08-06T19:41:44.870879Z"
    }
   },
   "cell_type": "code",
   "source": "random_tensor_4_on_gpu.mT.shape",
   "id": "732d33f65acb4c95",
   "outputs": [
    {
     "data": {
      "text/plain": [
       "torch.Size([3, 2])"
      ]
     },
     "execution_count": 11,
     "metadata": {},
     "output_type": "execute_result"
    }
   ],
   "execution_count": 11
  },
  {
   "metadata": {
    "ExecuteTime": {
     "end_time": "2024-08-06T19:42:20.083048Z",
     "start_time": "2024-08-06T19:42:20.018245Z"
    }
   },
   "cell_type": "code",
   "source": "print(f'Matrix product: {torch.matmul(random_tensor_3_on_gpu, random_tensor_4_on_gpu.mT)}')",
   "id": "64f183be081d6104",
   "outputs": [
    {
     "name": "stdout",
     "output_type": "stream",
     "text": [
      "Matrix product: tensor([[0.3129, 0.4120],\n",
      "        [1.0651, 0.9143]], device='cuda:0')\n"
     ]
    }
   ],
   "execution_count": 12
  },
  {
   "metadata": {},
   "cell_type": "markdown",
   "source": "**Find the maximum and minimum values of the output of 7.**",
   "id": "27483bb459d918c"
  },
  {
   "metadata": {
    "ExecuteTime": {
     "end_time": "2024-08-06T19:47:46.864276Z",
     "start_time": "2024-08-06T19:47:46.853429Z"
    }
   },
   "cell_type": "code",
   "source": "print(f'Max: {torch.max(torch.matmul(random_tensor_3_on_gpu, random_tensor_4_on_gpu.mT))}\\nMin: {torch.min(torch.matmul(random_tensor_3_on_gpu, random_tensor_4_on_gpu.mT))}')",
   "id": "289bea4544503898",
   "outputs": [
    {
     "name": "stdout",
     "output_type": "stream",
     "text": [
      "Max: 1.0650615692138672\n",
      "Min: 0.31289684772491455\n"
     ]
    }
   ],
   "execution_count": 13
  },
  {
   "metadata": {},
   "cell_type": "markdown",
   "source": "**Find the maximum and minimum index values of the output of 7.**",
   "id": "7dd0ea887067672d"
  },
  {
   "metadata": {
    "ExecuteTime": {
     "end_time": "2024-08-06T19:49:11.228216Z",
     "start_time": "2024-08-06T19:49:11.205063Z"
    }
   },
   "cell_type": "code",
   "source": "print(f'Max Index: {torch.argmax(torch.matmul(random_tensor_3_on_gpu, random_tensor_4_on_gpu.mT))}\\nMin Index: {torch.argmin(torch.matmul(random_tensor_3_on_gpu, random_tensor_4_on_gpu.mT))}')",
   "id": "ca7b4df4c74165b8",
   "outputs": [
    {
     "name": "stdout",
     "output_type": "stream",
     "text": [
      "Max Index: 2\n",
      "Min Index: 0\n"
     ]
    }
   ],
   "execution_count": 14
  },
  {
   "metadata": {},
   "cell_type": "markdown",
   "source": "**Make a random tensor with shape (1, 1, 1, 10) and then create a new tensor with all the 1 dimensions removed to be left with a tensor of shape (10). Set the seed to 7 when you create it and print out the first tensor and it's shape as well as the second tensor and it's shape.**",
   "id": "29663e8c7213f20c"
  },
  {
   "metadata": {
    "ExecuteTime": {
     "end_time": "2024-08-06T20:04:34.941086Z",
     "start_time": "2024-08-06T20:04:34.934161Z"
    }
   },
   "cell_type": "code",
   "source": [
    "#random tensor with shape (1, 1, 1, 10)\n",
    "random_tensor_5 = torch.rand(1, 1, 1, 10)\n",
    "#Removing all the 1 dimensions\n",
    "random_tensor_5_reduced = torch.squeeze(random_tensor_5)\n",
    "#Setting the seed to 7\n",
    "torch.manual_seed(7)\n",
    "print(f'Random Tensor 5: {random_tensor_5} Shape: {random_tensor_5.shape}\\nReduced Tensor 5: {random_tensor_5_reduced} Shape: {random_tensor_5_reduced.shape}')"
   ],
   "id": "a760bb27f42ce09f",
   "outputs": [
    {
     "name": "stdout",
     "output_type": "stream",
     "text": [
      "Random Tensor 5: tensor([[[[0.5349, 0.1988, 0.6592, 0.6569, 0.2328, 0.4251, 0.2071, 0.6297,\n",
      "           0.3653, 0.8513]]]]) Shape: torch.Size([1, 1, 1, 10])\n",
      "Reduced Tensor 5: tensor([0.5349, 0.1988, 0.6592, 0.6569, 0.2328, 0.4251, 0.2071, 0.6297, 0.3653,\n",
      "        0.8513]) Shape: torch.Size([10])\n"
     ]
    }
   ],
   "execution_count": 18
  },
  {
   "metadata": {},
   "cell_type": "code",
   "outputs": [],
   "execution_count": null,
   "source": "",
   "id": "2ba190e8353d0c96"
  }
 ],
 "metadata": {
  "kernelspec": {
   "display_name": "Python 3",
   "language": "python",
   "name": "python3"
  },
  "language_info": {
   "codemirror_mode": {
    "name": "ipython",
    "version": 2
   },
   "file_extension": ".py",
   "mimetype": "text/x-python",
   "name": "python",
   "nbconvert_exporter": "python",
   "pygments_lexer": "ipython2",
   "version": "2.7.6"
  }
 },
 "nbformat": 4,
 "nbformat_minor": 5
}
